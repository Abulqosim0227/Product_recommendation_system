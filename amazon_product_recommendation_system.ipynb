{
  "cells": [
    {
      "cell_type": "markdown",
      "metadata": {
        "id": "pXQzH0nC5JtP"
      },
      "source": [
        "# **Project: Amazon Product Recommendation System**\n",
        "\n",
        "# **Navbakhor Berdieva**\n",
        "\n",
        "\n",
        "Welcome to the project on Recommendation Systems. We will work with the Amazon product reviews dataset for this project. The dataset contains ratings of different electronic products. It does not include information about the products or reviews to avoid bias while building the model.\n",
        "\n",
        "--------------\n",
        "## **Context:**\n",
        "--------------\n",
        "\n",
        "Today, information is growing exponentially with volume, velocity and variety throughout the globe. This has lead to information overload, and too many choices for the consumer of any business. It represents a real dilemma for these consumers and they often turn to denial. Recommender Systems are one of the best tools that help recommending products to consumers while they are browsing online. Providing personalized recommendations which is most relevant for the user is what's most likely to keep them engaged and help business.\n",
        "\n",
        "E-commerce websites like Amazon, Walmart, Target and Etsy use different recommendation models to provide personalized suggestions to different users. These companies spend millions of dollars to come up with algorithmic techniques that can provide personalized recommendations to their users.\n",
        "\n",
        "Amazon, for example, is well-known for its accurate selection of recommendations in its online site. Amazon's recommendation system is capable of intelligently analyzing and predicting customers' shopping preferences in order to offer them a list of recommended products. Amazon's recommendation algorithm is therefore a key element in using AI to improve the personalization of its website. For example, one of the baseline recommendation models that Amazon uses is item-to-item collaborative filtering, which scales to massive data sets and produces high-quality recommendations in real-time.\n",
        "\n",
        "----------------\n",
        "## **Objective:**\n",
        "----------------\n",
        "\n",
        "You are a Data Science Manager at Amazon, and have been given the task of building a recommendation system to recommend products to customers based on their previous ratings for other products. You have a collection of labeled data of Amazon reviews of products. The goal is to extract meaningful insights from the data and build a recommendation system that helps in recommending products to online consumers.\n",
        "\n",
        "-----------------------------\n",
        "## **Dataset:**\n",
        "-----------------------------\n",
        "\n",
        "The Amazon dataset contains the following attributes:\n",
        "\n",
        "- **userId:** Every user identified with a unique id\n",
        "- **productId:** Every product identified with a unique id\n",
        "- **Rating:** The rating of the corresponding product by the corresponding user\n",
        "- **timestamp:** Time of the rating. We **will not use this column** to solve the current problem"
      ]
    },
    {
      "cell_type": "markdown",
      "metadata": {
        "id": "nmdPxJ2Q7W7p"
      },
      "source": [
        "**Note:** The code has some user defined functions that will be usefull while making recommendations and measure model performance, you can use these functions or can create your own functions."
      ]
    },
    {
      "cell_type": "markdown",
      "metadata": {
        "id": "UoRfgjS2yekq"
      },
      "source": [
        "Sometimes, the installation of the surprise library, which is used to build recommendation systems, faces issues in Jupyter. To avoid any issues, it is advised to use **Google Colab** for this project.\n",
        "\n",
        "Let's start by mounting the Google drive on Colab."
      ]
    },
    {
      "cell_type": "code",
      "execution_count": 5,
      "metadata": {
        "execution": {
          "iopub.execute_input": "2023-07-29T16:21:42.900457Z",
          "iopub.status.busy": "2023-07-29T16:21:42.899833Z",
          "iopub.status.idle": "2023-07-29T16:21:42.906125Z",
          "shell.execute_reply": "2023-07-29T16:21:42.905015Z",
          "shell.execute_reply.started": "2023-07-29T16:21:42.900407Z"
        },
        "id": "GZ0YAszcT4zK",
        "trusted": true
      },
      "outputs": [],
      "source": [
        "#Google Colab only\n",
        "# from google.colab import drive\n",
        "# drive.mount('/content/drive')"
      ]
    },
    {
      "cell_type": "markdown",
      "metadata": {
        "id": "0Ibk07-Cyekt"
      },
      "source": [
        "**Installing surprise library**"
      ]
    },
    {
      "cell_type": "code",
      "execution_count": 6,
      "metadata": {
        "execution": {
          "iopub.execute_input": "2023-07-29T16:21:42.908705Z",
          "iopub.status.busy": "2023-07-29T16:21:42.908124Z",
          "iopub.status.idle": "2023-07-29T16:21:56.783549Z",
          "shell.execute_reply": "2023-07-29T16:21:56.781876Z",
          "shell.execute_reply.started": "2023-07-29T16:21:42.908667Z"
        },
        "id": "05HQoiZYlsbB",
        "trusted": true
      },
      "outputs": [],
      "source": [
        "# !pip install surprise  =  first you must instal these libraries (however it works only google colab)"
      ]
    },
    {
      "cell_type": "code",
      "execution_count": 7,
      "metadata": {
        "execution": {
          "iopub.execute_input": "2023-07-29T16:21:56.786084Z",
          "iopub.status.busy": "2023-07-29T16:21:56.785723Z",
          "iopub.status.idle": "2023-07-29T16:22:10.744374Z",
          "shell.execute_reply": "2023-07-29T16:22:10.742777Z",
          "shell.execute_reply.started": "2023-07-29T16:21:56.786052Z"
        },
        "id": "WVn7ph3ghjme",
        "trusted": true
      },
      "outputs": [],
      "source": [
        "# !pip install -U seaborn = u can run this code in your local machine vs code but it requires SKD"
      ]
    },
    {
      "cell_type": "markdown",
      "metadata": {
        "id": "7fIt4jcFIm76"
      },
      "source": [
        "## **Importing the necessary libraries and overview of the dataset**"
      ]
    },
    {
      "cell_type": "code",
      "execution_count": 8,
      "metadata": {
        "execution": {
          "iopub.execute_input": "2023-07-29T16:22:10.749021Z",
          "iopub.status.busy": "2023-07-29T16:22:10.748428Z",
          "iopub.status.idle": "2023-07-29T16:22:10.758001Z",
          "shell.execute_reply": "2023-07-29T16:22:10.756548Z",
          "shell.execute_reply.started": "2023-07-29T16:22:10.748973Z"
        },
        "id": "jzu2P-TT5JtP",
        "trusted": true
      },
      "outputs": [],
      "source": [
        "# Used to ignore the warning given as output of the code\n",
        "import warnings\n",
        "warnings.filterwarnings('ignore')\n",
        "\n",
        "# Basic libraries of python for numeric and dataframe computations\n",
        "import numpy as np, pandas as pd\n",
        "\n",
        "# Basic library for data visualization\n",
        "import matplotlib.pyplot as plt\n",
        "\n",
        "# Slightly advanced library for data visualization\n",
        "import seaborn as sns\n",
        "\n",
        "# A dictionary output that does not raise a key error\n",
        "from collections import defaultdict\n",
        "\n",
        "# A performance metrics in sklearn\n",
        "from sklearn.metrics import mean_squared_error"
      ]
    },
    {
      "cell_type": "markdown",
      "metadata": {
        "id": "NrXYJAv95JtP"
      },
      "source": [
        "### **Loading the data**\n",
        "- Import the Dataset\n",
        "- Add column names ['user_id', 'prod_id', 'rating', 'timestamp']\n",
        "- Drop the column timestamp\n",
        "- Copy the data to another DataFrame called **df**"
      ]
    },
    {
      "cell_type": "code",
      "execution_count": 9,
      "metadata": {
        "execution": {
          "iopub.execute_input": "2023-07-29T16:22:10.762869Z",
          "iopub.status.busy": "2023-07-29T16:22:10.762335Z",
          "iopub.status.idle": "2023-07-29T16:22:10.774561Z",
          "shell.execute_reply": "2023-07-29T16:22:10.773093Z",
          "shell.execute_reply.started": "2023-07-29T16:22:10.76283Z"
        },
        "id": "cR6_BKfVmcav",
        "trusted": true
      },
      "outputs": [],
      "source": [
        "# Import the dataset and give the column names\n",
        "columns=['user_id', 'prod_id', 'ratings','timestamp']\n"
      ]
    },
    {
      "cell_type": "code",
      "execution_count": 10,
      "metadata": {
        "execution": {
          "iopub.execute_input": "2023-07-29T16:22:10.776777Z",
          "iopub.status.busy": "2023-07-29T16:22:10.776349Z",
          "iopub.status.idle": "2023-07-29T16:22:24.481543Z",
          "shell.execute_reply": "2023-07-29T16:22:24.480101Z",
          "shell.execute_reply.started": "2023-07-29T16:22:10.776742Z"
        },
        "id": "JGb-Hk1B5JtP",
        "trusted": true
      },
      "outputs": [],
      "source": [
        "#Reading the Input CSV from the Drive\n",
        "orig_df = pd.read_csv('data.csv' , names =columns)"
      ]
    },
    {
      "cell_type": "code",
      "execution_count": 11,
      "metadata": {
        "execution": {
          "iopub.execute_input": "2023-07-29T16:22:24.483911Z",
          "iopub.status.busy": "2023-07-29T16:22:24.483354Z",
          "iopub.status.idle": "2023-07-29T16:22:24.495142Z",
          "shell.execute_reply": "2023-07-29T16:22:24.493548Z",
          "shell.execute_reply.started": "2023-07-29T16:22:24.483834Z"
        },
        "id": "sZ62TVuD9FnD",
        "outputId": "1087bb1d-a160-4626-a8ad-da32f41a7caf",
        "trusted": true,
        "colab": {
          "base_uri": "https://localhost:8080/"
        }
      },
      "outputs": [
        {
          "output_type": "execute_result",
          "data": {
            "text/plain": [
              "(1055795, 4)"
            ]
          },
          "metadata": {},
          "execution_count": 11
        }
      ],
      "source": [
        "#Checking the Data size\n",
        "orig_df.shape"
      ]
    },
    {
      "cell_type": "markdown",
      "metadata": {
        "id": "b8kPrWyq9jjs"
      },
      "source": [
        "There are 78K records and 4 columns in our input dataset."
      ]
    },
    {
      "cell_type": "code",
      "execution_count": 12,
      "metadata": {
        "execution": {
          "iopub.execute_input": "2023-07-29T16:22:24.497325Z",
          "iopub.status.busy": "2023-07-29T16:22:24.49694Z",
          "iopub.status.idle": "2023-07-29T16:22:24.536449Z",
          "shell.execute_reply": "2023-07-29T16:22:24.535058Z",
          "shell.execute_reply.started": "2023-07-29T16:22:24.497293Z"
        },
        "id": "OUpxzhjc9ykp",
        "outputId": "6a0b4bfd-c437-48ef-f8fc-3b38fba28b25",
        "trusted": true,
        "colab": {
          "base_uri": "https://localhost:8080/",
          "height": 206
        }
      },
      "outputs": [
        {
          "output_type": "execute_result",
          "data": {
            "text/plain": [
              "          user_id     prod_id  ratings     timestamp\n",
              "0   AKM1MP6P0OYPR  0132793040      5.0  1.365811e+09\n",
              "1  A2CX7LUOHB2NDG  0321732944      5.0  1.341101e+09\n",
              "2  A2NWSAGRHCP8N5  0439886341      1.0  1.367194e+09\n",
              "3  A2WNBOD3WNDNKT  0439886341      3.0  1.374451e+09\n",
              "4  A1GI0U4ZRJA8WN  0439886341      1.0  1.334707e+09"
            ],
            "text/html": [
              "\n",
              "  <div id=\"df-6706304e-ed31-4c85-aa6b-8f065265aeb5\" class=\"colab-df-container\">\n",
              "    <div>\n",
              "<style scoped>\n",
              "    .dataframe tbody tr th:only-of-type {\n",
              "        vertical-align: middle;\n",
              "    }\n",
              "\n",
              "    .dataframe tbody tr th {\n",
              "        vertical-align: top;\n",
              "    }\n",
              "\n",
              "    .dataframe thead th {\n",
              "        text-align: right;\n",
              "    }\n",
              "</style>\n",
              "<table border=\"1\" class=\"dataframe\">\n",
              "  <thead>\n",
              "    <tr style=\"text-align: right;\">\n",
              "      <th></th>\n",
              "      <th>user_id</th>\n",
              "      <th>prod_id</th>\n",
              "      <th>ratings</th>\n",
              "      <th>timestamp</th>\n",
              "    </tr>\n",
              "  </thead>\n",
              "  <tbody>\n",
              "    <tr>\n",
              "      <th>0</th>\n",
              "      <td>AKM1MP6P0OYPR</td>\n",
              "      <td>0132793040</td>\n",
              "      <td>5.0</td>\n",
              "      <td>1.365811e+09</td>\n",
              "    </tr>\n",
              "    <tr>\n",
              "      <th>1</th>\n",
              "      <td>A2CX7LUOHB2NDG</td>\n",
              "      <td>0321732944</td>\n",
              "      <td>5.0</td>\n",
              "      <td>1.341101e+09</td>\n",
              "    </tr>\n",
              "    <tr>\n",
              "      <th>2</th>\n",
              "      <td>A2NWSAGRHCP8N5</td>\n",
              "      <td>0439886341</td>\n",
              "      <td>1.0</td>\n",
              "      <td>1.367194e+09</td>\n",
              "    </tr>\n",
              "    <tr>\n",
              "      <th>3</th>\n",
              "      <td>A2WNBOD3WNDNKT</td>\n",
              "      <td>0439886341</td>\n",
              "      <td>3.0</td>\n",
              "      <td>1.374451e+09</td>\n",
              "    </tr>\n",
              "    <tr>\n",
              "      <th>4</th>\n",
              "      <td>A1GI0U4ZRJA8WN</td>\n",
              "      <td>0439886341</td>\n",
              "      <td>1.0</td>\n",
              "      <td>1.334707e+09</td>\n",
              "    </tr>\n",
              "  </tbody>\n",
              "</table>\n",
              "</div>\n",
              "    <div class=\"colab-df-buttons\">\n",
              "\n",
              "  <div class=\"colab-df-container\">\n",
              "    <button class=\"colab-df-convert\" onclick=\"convertToInteractive('df-6706304e-ed31-4c85-aa6b-8f065265aeb5')\"\n",
              "            title=\"Convert this dataframe to an interactive table.\"\n",
              "            style=\"display:none;\">\n",
              "\n",
              "  <svg xmlns=\"http://www.w3.org/2000/svg\" height=\"24px\" viewBox=\"0 -960 960 960\">\n",
              "    <path d=\"M120-120v-720h720v720H120Zm60-500h600v-160H180v160Zm220 220h160v-160H400v160Zm0 220h160v-160H400v160ZM180-400h160v-160H180v160Zm440 0h160v-160H620v160ZM180-180h160v-160H180v160Zm440 0h160v-160H620v160Z\"/>\n",
              "  </svg>\n",
              "    </button>\n",
              "\n",
              "  <style>\n",
              "    .colab-df-container {\n",
              "      display:flex;\n",
              "      gap: 12px;\n",
              "    }\n",
              "\n",
              "    .colab-df-convert {\n",
              "      background-color: #E8F0FE;\n",
              "      border: none;\n",
              "      border-radius: 50%;\n",
              "      cursor: pointer;\n",
              "      display: none;\n",
              "      fill: #1967D2;\n",
              "      height: 32px;\n",
              "      padding: 0 0 0 0;\n",
              "      width: 32px;\n",
              "    }\n",
              "\n",
              "    .colab-df-convert:hover {\n",
              "      background-color: #E2EBFA;\n",
              "      box-shadow: 0px 1px 2px rgba(60, 64, 67, 0.3), 0px 1px 3px 1px rgba(60, 64, 67, 0.15);\n",
              "      fill: #174EA6;\n",
              "    }\n",
              "\n",
              "    .colab-df-buttons div {\n",
              "      margin-bottom: 4px;\n",
              "    }\n",
              "\n",
              "    [theme=dark] .colab-df-convert {\n",
              "      background-color: #3B4455;\n",
              "      fill: #D2E3FC;\n",
              "    }\n",
              "\n",
              "    [theme=dark] .colab-df-convert:hover {\n",
              "      background-color: #434B5C;\n",
              "      box-shadow: 0px 1px 3px 1px rgba(0, 0, 0, 0.15);\n",
              "      filter: drop-shadow(0px 1px 2px rgba(0, 0, 0, 0.3));\n",
              "      fill: #FFFFFF;\n",
              "    }\n",
              "  </style>\n",
              "\n",
              "    <script>\n",
              "      const buttonEl =\n",
              "        document.querySelector('#df-6706304e-ed31-4c85-aa6b-8f065265aeb5 button.colab-df-convert');\n",
              "      buttonEl.style.display =\n",
              "        google.colab.kernel.accessAllowed ? 'block' : 'none';\n",
              "\n",
              "      async function convertToInteractive(key) {\n",
              "        const element = document.querySelector('#df-6706304e-ed31-4c85-aa6b-8f065265aeb5');\n",
              "        const dataTable =\n",
              "          await google.colab.kernel.invokeFunction('convertToInteractive',\n",
              "                                                    [key], {});\n",
              "        if (!dataTable) return;\n",
              "\n",
              "        const docLinkHtml = 'Like what you see? Visit the ' +\n",
              "          '<a target=\"_blank\" href=https://colab.research.google.com/notebooks/data_table.ipynb>data table notebook</a>'\n",
              "          + ' to learn more about interactive tables.';\n",
              "        element.innerHTML = '';\n",
              "        dataTable['output_type'] = 'display_data';\n",
              "        await google.colab.output.renderOutput(dataTable, element);\n",
              "        const docLink = document.createElement('div');\n",
              "        docLink.innerHTML = docLinkHtml;\n",
              "        element.appendChild(docLink);\n",
              "      }\n",
              "    </script>\n",
              "  </div>\n",
              "\n",
              "\n",
              "<div id=\"df-cf38225f-d558-4969-8958-7b8652e65963\">\n",
              "  <button class=\"colab-df-quickchart\" onclick=\"quickchart('df-cf38225f-d558-4969-8958-7b8652e65963')\"\n",
              "            title=\"Suggest charts\"\n",
              "            style=\"display:none;\">\n",
              "\n",
              "<svg xmlns=\"http://www.w3.org/2000/svg\" height=\"24px\"viewBox=\"0 0 24 24\"\n",
              "     width=\"24px\">\n",
              "    <g>\n",
              "        <path d=\"M19 3H5c-1.1 0-2 .9-2 2v14c0 1.1.9 2 2 2h14c1.1 0 2-.9 2-2V5c0-1.1-.9-2-2-2zM9 17H7v-7h2v7zm4 0h-2V7h2v10zm4 0h-2v-4h2v4z\"/>\n",
              "    </g>\n",
              "</svg>\n",
              "  </button>\n",
              "\n",
              "<style>\n",
              "  .colab-df-quickchart {\n",
              "      --bg-color: #E8F0FE;\n",
              "      --fill-color: #1967D2;\n",
              "      --hover-bg-color: #E2EBFA;\n",
              "      --hover-fill-color: #174EA6;\n",
              "      --disabled-fill-color: #AAA;\n",
              "      --disabled-bg-color: #DDD;\n",
              "  }\n",
              "\n",
              "  [theme=dark] .colab-df-quickchart {\n",
              "      --bg-color: #3B4455;\n",
              "      --fill-color: #D2E3FC;\n",
              "      --hover-bg-color: #434B5C;\n",
              "      --hover-fill-color: #FFFFFF;\n",
              "      --disabled-bg-color: #3B4455;\n",
              "      --disabled-fill-color: #666;\n",
              "  }\n",
              "\n",
              "  .colab-df-quickchart {\n",
              "    background-color: var(--bg-color);\n",
              "    border: none;\n",
              "    border-radius: 50%;\n",
              "    cursor: pointer;\n",
              "    display: none;\n",
              "    fill: var(--fill-color);\n",
              "    height: 32px;\n",
              "    padding: 0;\n",
              "    width: 32px;\n",
              "  }\n",
              "\n",
              "  .colab-df-quickchart:hover {\n",
              "    background-color: var(--hover-bg-color);\n",
              "    box-shadow: 0 1px 2px rgba(60, 64, 67, 0.3), 0 1px 3px 1px rgba(60, 64, 67, 0.15);\n",
              "    fill: var(--button-hover-fill-color);\n",
              "  }\n",
              "\n",
              "  .colab-df-quickchart-complete:disabled,\n",
              "  .colab-df-quickchart-complete:disabled:hover {\n",
              "    background-color: var(--disabled-bg-color);\n",
              "    fill: var(--disabled-fill-color);\n",
              "    box-shadow: none;\n",
              "  }\n",
              "\n",
              "  .colab-df-spinner {\n",
              "    border: 2px solid var(--fill-color);\n",
              "    border-color: transparent;\n",
              "    border-bottom-color: var(--fill-color);\n",
              "    animation:\n",
              "      spin 1s steps(1) infinite;\n",
              "  }\n",
              "\n",
              "  @keyframes spin {\n",
              "    0% {\n",
              "      border-color: transparent;\n",
              "      border-bottom-color: var(--fill-color);\n",
              "      border-left-color: var(--fill-color);\n",
              "    }\n",
              "    20% {\n",
              "      border-color: transparent;\n",
              "      border-left-color: var(--fill-color);\n",
              "      border-top-color: var(--fill-color);\n",
              "    }\n",
              "    30% {\n",
              "      border-color: transparent;\n",
              "      border-left-color: var(--fill-color);\n",
              "      border-top-color: var(--fill-color);\n",
              "      border-right-color: var(--fill-color);\n",
              "    }\n",
              "    40% {\n",
              "      border-color: transparent;\n",
              "      border-right-color: var(--fill-color);\n",
              "      border-top-color: var(--fill-color);\n",
              "    }\n",
              "    60% {\n",
              "      border-color: transparent;\n",
              "      border-right-color: var(--fill-color);\n",
              "    }\n",
              "    80% {\n",
              "      border-color: transparent;\n",
              "      border-right-color: var(--fill-color);\n",
              "      border-bottom-color: var(--fill-color);\n",
              "    }\n",
              "    90% {\n",
              "      border-color: transparent;\n",
              "      border-bottom-color: var(--fill-color);\n",
              "    }\n",
              "  }\n",
              "</style>\n",
              "\n",
              "  <script>\n",
              "    async function quickchart(key) {\n",
              "      const quickchartButtonEl =\n",
              "        document.querySelector('#' + key + ' button');\n",
              "      quickchartButtonEl.disabled = true;  // To prevent multiple clicks.\n",
              "      quickchartButtonEl.classList.add('colab-df-spinner');\n",
              "      try {\n",
              "        const charts = await google.colab.kernel.invokeFunction(\n",
              "            'suggestCharts', [key], {});\n",
              "      } catch (error) {\n",
              "        console.error('Error during call to suggestCharts:', error);\n",
              "      }\n",
              "      quickchartButtonEl.classList.remove('colab-df-spinner');\n",
              "      quickchartButtonEl.classList.add('colab-df-quickchart-complete');\n",
              "    }\n",
              "    (() => {\n",
              "      let quickchartButtonEl =\n",
              "        document.querySelector('#df-cf38225f-d558-4969-8958-7b8652e65963 button');\n",
              "      quickchartButtonEl.style.display =\n",
              "        google.colab.kernel.accessAllowed ? 'block' : 'none';\n",
              "    })();\n",
              "  </script>\n",
              "</div>\n",
              "\n",
              "    </div>\n",
              "  </div>\n"
            ],
            "application/vnd.google.colaboratory.intrinsic+json": {
              "type": "dataframe",
              "variable_name": "orig_df"
            }
          },
          "metadata": {},
          "execution_count": 12
        }
      ],
      "source": [
        "orig_df.head()"
      ]
    },
    {
      "cell_type": "code",
      "execution_count": 13,
      "metadata": {
        "execution": {
          "iopub.execute_input": "2023-07-29T16:22:24.539249Z",
          "iopub.status.busy": "2023-07-29T16:22:24.538674Z",
          "iopub.status.idle": "2023-07-29T16:22:24.569265Z",
          "shell.execute_reply": "2023-07-29T16:22:24.567802Z",
          "shell.execute_reply.started": "2023-07-29T16:22:24.539201Z"
        },
        "id": "R_pF6vB7-K4P",
        "outputId": "77056996-3a47-4134-d1c4-f9152d4222e9",
        "trusted": true,
        "colab": {
          "base_uri": "https://localhost:8080/"
        }
      },
      "outputs": [
        {
          "output_type": "stream",
          "name": "stdout",
          "text": [
            "<class 'pandas.core.frame.DataFrame'>\n",
            "RangeIndex: 1055795 entries, 0 to 1055794\n",
            "Data columns (total 4 columns):\n",
            " #   Column     Non-Null Count    Dtype  \n",
            "---  ------     --------------    -----  \n",
            " 0   user_id    1055795 non-null  object \n",
            " 1   prod_id    1055795 non-null  object \n",
            " 2   ratings    1055794 non-null  float64\n",
            " 3   timestamp  1055794 non-null  float64\n",
            "dtypes: float64(2), object(2)\n",
            "memory usage: 32.2+ MB\n"
          ]
        }
      ],
      "source": [
        "orig_df.info()"
      ]
    },
    {
      "cell_type": "markdown",
      "metadata": {
        "id": "Wd12tcgF-bhW"
      },
      "source": [
        "Removing Timestamp column"
      ]
    },
    {
      "cell_type": "code",
      "execution_count": 14,
      "metadata": {
        "execution": {
          "iopub.execute_input": "2023-07-29T16:22:24.571662Z",
          "iopub.status.busy": "2023-07-29T16:22:24.571105Z",
          "iopub.status.idle": "2023-07-29T16:22:24.863978Z",
          "shell.execute_reply": "2023-07-29T16:22:24.862705Z",
          "shell.execute_reply.started": "2023-07-29T16:22:24.571592Z"
        },
        "id": "q73tXiy8HgWn",
        "trusted": true
      },
      "outputs": [],
      "source": [
        "orig_df = orig_df.drop('timestamp', axis = 1)"
      ]
    },
    {
      "cell_type": "code",
      "execution_count": 15,
      "metadata": {
        "execution": {
          "iopub.execute_input": "2023-07-29T16:22:24.866517Z",
          "iopub.status.busy": "2023-07-29T16:22:24.865651Z",
          "iopub.status.idle": "2023-07-29T16:22:24.884772Z",
          "shell.execute_reply": "2023-07-29T16:22:24.883527Z",
          "shell.execute_reply.started": "2023-07-29T16:22:24.866475Z"
        },
        "id": "SqQMMRxpBYkW",
        "outputId": "494505f4-13a0-41f1-a0fc-4ae49ed53911",
        "trusted": true,
        "colab": {
          "base_uri": "https://localhost:8080/"
        }
      },
      "outputs": [
        {
          "output_type": "execute_result",
          "data": {
            "text/plain": [
              "(1055795, 3)"
            ]
          },
          "metadata": {},
          "execution_count": 15
        }
      ],
      "source": [
        "orig_df.shape"
      ]
    },
    {
      "cell_type": "code",
      "execution_count": 16,
      "metadata": {
        "execution": {
          "iopub.execute_input": "2023-07-29T16:22:24.886842Z",
          "iopub.status.busy": "2023-07-29T16:22:24.886371Z",
          "iopub.status.idle": "2023-07-29T16:22:24.899069Z",
          "shell.execute_reply": "2023-07-29T16:22:24.89782Z",
          "shell.execute_reply.started": "2023-07-29T16:22:24.8868Z"
        },
        "id": "rGHXneKoFONZ",
        "trusted": true
      },
      "outputs": [],
      "source": [
        "df = orig_df"
      ]
    },
    {
      "cell_type": "markdown",
      "metadata": {
        "id": "OVQnSG5g_9uX"
      },
      "source": [
        "**As this dataset is very large and has 7,824,482 observations, it is not computationally possible to build a model using this. Moreover, many users have only rated a few products and also some products are rated by very few users. Hence, we can reduce the dataset by considering certain logical assumptions.**\n",
        "\n",
        "Here, we will be taking users who have given at least 50 ratings, and the products that have at least 5 ratings, as when we shop online we prefer to have some number of ratings of a product."
      ]
    },
    {
      "cell_type": "code",
      "execution_count": 17,
      "metadata": {
        "execution": {
          "iopub.execute_input": "2023-07-29T16:22:24.901961Z",
          "iopub.status.busy": "2023-07-29T16:22:24.901412Z",
          "iopub.status.idle": "2023-07-29T16:22:31.871053Z",
          "shell.execute_reply": "2023-07-29T16:22:31.869553Z",
          "shell.execute_reply.started": "2023-07-29T16:22:24.901904Z"
        },
        "id": "4yt9W7Q32EQQ",
        "trusted": true
      },
      "outputs": [],
      "source": [
        "# Get the column containing the users\n",
        "users = df.user_id\n",
        "\n",
        "# Create a dictionary from users to their number of ratings\n",
        "ratings_count = dict()\n",
        "\n",
        "for user in users:\n",
        "\n",
        "    # If we already have the user, just add 1 to their rating count\n",
        "    if user in ratings_count:\n",
        "        ratings_count[user] += 1\n",
        "\n",
        "    # Otherwise, set their rating count to 1\n",
        "    else:\n",
        "        ratings_count[user] = 1"
      ]
    },
    {
      "cell_type": "code",
      "execution_count": 18,
      "metadata": {
        "execution": {
          "iopub.execute_input": "2023-07-29T16:22:31.877785Z",
          "iopub.status.busy": "2023-07-29T16:22:31.87734Z",
          "iopub.status.idle": "2023-07-29T16:22:37.79666Z",
          "shell.execute_reply": "2023-07-29T16:22:37.795431Z",
          "shell.execute_reply.started": "2023-07-29T16:22:31.877751Z"
        },
        "id": "19XB60dq2EQR",
        "trusted": true
      },
      "outputs": [],
      "source": [
        "# We want our users to have at least 50 ratings to be considered\n",
        "RATINGS_CUTOFF = 50\n",
        "\n",
        "remove_users = []\n",
        "\n",
        "for user, num_ratings in ratings_count.items():\n",
        "    if num_ratings < RATINGS_CUTOFF:\n",
        "        remove_users.append(user)\n",
        "\n",
        "df = df.loc[ ~ df.user_id.isin(remove_users)]"
      ]
    },
    {
      "cell_type": "code",
      "execution_count": 19,
      "metadata": {
        "execution": {
          "iopub.execute_input": "2023-07-29T16:22:37.798374Z",
          "iopub.status.busy": "2023-07-29T16:22:37.798052Z",
          "iopub.status.idle": "2023-07-29T16:22:38.019055Z",
          "shell.execute_reply": "2023-07-29T16:22:38.017765Z",
          "shell.execute_reply.started": "2023-07-29T16:22:37.798345Z"
        },
        "id": "33UzK1D82EQS",
        "trusted": true
      },
      "outputs": [],
      "source": [
        "# Get the column containing the products\n",
        "prods = df.prod_id\n",
        "\n",
        "# Create a dictionary from products to their number of ratings\n",
        "ratings_count = dict()\n",
        "\n",
        "for prod in prods:\n",
        "\n",
        "    # If we already have the product, just add 1 to its rating count\n",
        "    if prod in ratings_count:\n",
        "        ratings_count[prod] += 1\n",
        "\n",
        "    # Otherwise, set their rating count to 1\n",
        "    else:\n",
        "        ratings_count[prod] = 1"
      ]
    },
    {
      "cell_type": "code",
      "execution_count": 20,
      "metadata": {
        "execution": {
          "iopub.execute_input": "2023-07-29T16:22:38.021879Z",
          "iopub.status.busy": "2023-07-29T16:22:38.021238Z",
          "iopub.status.idle": "2023-07-29T16:22:38.150243Z",
          "shell.execute_reply": "2023-07-29T16:22:38.148981Z",
          "shell.execute_reply.started": "2023-07-29T16:22:38.021833Z"
        },
        "id": "u6YE-lUp2EQT",
        "trusted": true
      },
      "outputs": [],
      "source": [
        "# We want our item to have at least 5 ratings to be considered\n",
        "RATINGS_CUTOFF = 5\n",
        "\n",
        "remove_users = []\n",
        "\n",
        "for user, num_ratings in ratings_count.items():\n",
        "    if num_ratings < RATINGS_CUTOFF:\n",
        "        remove_users.append(user)\n",
        "\n",
        "df_final = df.loc[~ df.prod_id.isin(remove_users)]"
      ]
    },
    {
      "cell_type": "code",
      "execution_count": 21,
      "metadata": {
        "execution": {
          "iopub.execute_input": "2023-07-29T16:22:38.151986Z",
          "iopub.status.busy": "2023-07-29T16:22:38.151625Z",
          "iopub.status.idle": "2023-07-29T16:22:38.164465Z",
          "shell.execute_reply": "2023-07-29T16:22:38.163542Z",
          "shell.execute_reply.started": "2023-07-29T16:22:38.151954Z"
        },
        "id": "aL1JZ00o5JtQ",
        "outputId": "db57559f-5b0e-4e22-b355-080146632f15",
        "trusted": true,
        "colab": {
          "base_uri": "https://localhost:8080/",
          "height": 206
        }
      },
      "outputs": [
        {
          "output_type": "execute_result",
          "data": {
            "text/plain": [
              "              user_id     prod_id  ratings\n",
              "40261   ALUNVOQRXOZIA  B00004SB92      1.0\n",
              "40361  A1JWSDDIH5Z7DV  B00004SB92      5.0\n",
              "40411   A5JLAU2ARJ0BO  B00004SB92      4.0\n",
              "40702   A1RPTVW5VEOSI  B00004SB92      5.0\n",
              "40823  A231WM2Z2JL0U3  B00004SB92      5.0"
            ],
            "text/html": [
              "\n",
              "  <div id=\"df-e100bc01-3594-47af-ad3d-745ba3870e29\" class=\"colab-df-container\">\n",
              "    <div>\n",
              "<style scoped>\n",
              "    .dataframe tbody tr th:only-of-type {\n",
              "        vertical-align: middle;\n",
              "    }\n",
              "\n",
              "    .dataframe tbody tr th {\n",
              "        vertical-align: top;\n",
              "    }\n",
              "\n",
              "    .dataframe thead th {\n",
              "        text-align: right;\n",
              "    }\n",
              "</style>\n",
              "<table border=\"1\" class=\"dataframe\">\n",
              "  <thead>\n",
              "    <tr style=\"text-align: right;\">\n",
              "      <th></th>\n",
              "      <th>user_id</th>\n",
              "      <th>prod_id</th>\n",
              "      <th>ratings</th>\n",
              "    </tr>\n",
              "  </thead>\n",
              "  <tbody>\n",
              "    <tr>\n",
              "      <th>40261</th>\n",
              "      <td>ALUNVOQRXOZIA</td>\n",
              "      <td>B00004SB92</td>\n",
              "      <td>1.0</td>\n",
              "    </tr>\n",
              "    <tr>\n",
              "      <th>40361</th>\n",
              "      <td>A1JWSDDIH5Z7DV</td>\n",
              "      <td>B00004SB92</td>\n",
              "      <td>5.0</td>\n",
              "    </tr>\n",
              "    <tr>\n",
              "      <th>40411</th>\n",
              "      <td>A5JLAU2ARJ0BO</td>\n",
              "      <td>B00004SB92</td>\n",
              "      <td>4.0</td>\n",
              "    </tr>\n",
              "    <tr>\n",
              "      <th>40702</th>\n",
              "      <td>A1RPTVW5VEOSI</td>\n",
              "      <td>B00004SB92</td>\n",
              "      <td>5.0</td>\n",
              "    </tr>\n",
              "    <tr>\n",
              "      <th>40823</th>\n",
              "      <td>A231WM2Z2JL0U3</td>\n",
              "      <td>B00004SB92</td>\n",
              "      <td>5.0</td>\n",
              "    </tr>\n",
              "  </tbody>\n",
              "</table>\n",
              "</div>\n",
              "    <div class=\"colab-df-buttons\">\n",
              "\n",
              "  <div class=\"colab-df-container\">\n",
              "    <button class=\"colab-df-convert\" onclick=\"convertToInteractive('df-e100bc01-3594-47af-ad3d-745ba3870e29')\"\n",
              "            title=\"Convert this dataframe to an interactive table.\"\n",
              "            style=\"display:none;\">\n",
              "\n",
              "  <svg xmlns=\"http://www.w3.org/2000/svg\" height=\"24px\" viewBox=\"0 -960 960 960\">\n",
              "    <path d=\"M120-120v-720h720v720H120Zm60-500h600v-160H180v160Zm220 220h160v-160H400v160Zm0 220h160v-160H400v160ZM180-400h160v-160H180v160Zm440 0h160v-160H620v160ZM180-180h160v-160H180v160Zm440 0h160v-160H620v160Z\"/>\n",
              "  </svg>\n",
              "    </button>\n",
              "\n",
              "  <style>\n",
              "    .colab-df-container {\n",
              "      display:flex;\n",
              "      gap: 12px;\n",
              "    }\n",
              "\n",
              "    .colab-df-convert {\n",
              "      background-color: #E8F0FE;\n",
              "      border: none;\n",
              "      border-radius: 50%;\n",
              "      cursor: pointer;\n",
              "      display: none;\n",
              "      fill: #1967D2;\n",
              "      height: 32px;\n",
              "      padding: 0 0 0 0;\n",
              "      width: 32px;\n",
              "    }\n",
              "\n",
              "    .colab-df-convert:hover {\n",
              "      background-color: #E2EBFA;\n",
              "      box-shadow: 0px 1px 2px rgba(60, 64, 67, 0.3), 0px 1px 3px 1px rgba(60, 64, 67, 0.15);\n",
              "      fill: #174EA6;\n",
              "    }\n",
              "\n",
              "    .colab-df-buttons div {\n",
              "      margin-bottom: 4px;\n",
              "    }\n",
              "\n",
              "    [theme=dark] .colab-df-convert {\n",
              "      background-color: #3B4455;\n",
              "      fill: #D2E3FC;\n",
              "    }\n",
              "\n",
              "    [theme=dark] .colab-df-convert:hover {\n",
              "      background-color: #434B5C;\n",
              "      box-shadow: 0px 1px 3px 1px rgba(0, 0, 0, 0.15);\n",
              "      filter: drop-shadow(0px 1px 2px rgba(0, 0, 0, 0.3));\n",
              "      fill: #FFFFFF;\n",
              "    }\n",
              "  </style>\n",
              "\n",
              "    <script>\n",
              "      const buttonEl =\n",
              "        document.querySelector('#df-e100bc01-3594-47af-ad3d-745ba3870e29 button.colab-df-convert');\n",
              "      buttonEl.style.display =\n",
              "        google.colab.kernel.accessAllowed ? 'block' : 'none';\n",
              "\n",
              "      async function convertToInteractive(key) {\n",
              "        const element = document.querySelector('#df-e100bc01-3594-47af-ad3d-745ba3870e29');\n",
              "        const dataTable =\n",
              "          await google.colab.kernel.invokeFunction('convertToInteractive',\n",
              "                                                    [key], {});\n",
              "        if (!dataTable) return;\n",
              "\n",
              "        const docLinkHtml = 'Like what you see? Visit the ' +\n",
              "          '<a target=\"_blank\" href=https://colab.research.google.com/notebooks/data_table.ipynb>data table notebook</a>'\n",
              "          + ' to learn more about interactive tables.';\n",
              "        element.innerHTML = '';\n",
              "        dataTable['output_type'] = 'display_data';\n",
              "        await google.colab.output.renderOutput(dataTable, element);\n",
              "        const docLink = document.createElement('div');\n",
              "        docLink.innerHTML = docLinkHtml;\n",
              "        element.appendChild(docLink);\n",
              "      }\n",
              "    </script>\n",
              "  </div>\n",
              "\n",
              "\n",
              "<div id=\"df-374ce159-bee5-49e6-9eb4-23d8e614917f\">\n",
              "  <button class=\"colab-df-quickchart\" onclick=\"quickchart('df-374ce159-bee5-49e6-9eb4-23d8e614917f')\"\n",
              "            title=\"Suggest charts\"\n",
              "            style=\"display:none;\">\n",
              "\n",
              "<svg xmlns=\"http://www.w3.org/2000/svg\" height=\"24px\"viewBox=\"0 0 24 24\"\n",
              "     width=\"24px\">\n",
              "    <g>\n",
              "        <path d=\"M19 3H5c-1.1 0-2 .9-2 2v14c0 1.1.9 2 2 2h14c1.1 0 2-.9 2-2V5c0-1.1-.9-2-2-2zM9 17H7v-7h2v7zm4 0h-2V7h2v10zm4 0h-2v-4h2v4z\"/>\n",
              "    </g>\n",
              "</svg>\n",
              "  </button>\n",
              "\n",
              "<style>\n",
              "  .colab-df-quickchart {\n",
              "      --bg-color: #E8F0FE;\n",
              "      --fill-color: #1967D2;\n",
              "      --hover-bg-color: #E2EBFA;\n",
              "      --hover-fill-color: #174EA6;\n",
              "      --disabled-fill-color: #AAA;\n",
              "      --disabled-bg-color: #DDD;\n",
              "  }\n",
              "\n",
              "  [theme=dark] .colab-df-quickchart {\n",
              "      --bg-color: #3B4455;\n",
              "      --fill-color: #D2E3FC;\n",
              "      --hover-bg-color: #434B5C;\n",
              "      --hover-fill-color: #FFFFFF;\n",
              "      --disabled-bg-color: #3B4455;\n",
              "      --disabled-fill-color: #666;\n",
              "  }\n",
              "\n",
              "  .colab-df-quickchart {\n",
              "    background-color: var(--bg-color);\n",
              "    border: none;\n",
              "    border-radius: 50%;\n",
              "    cursor: pointer;\n",
              "    display: none;\n",
              "    fill: var(--fill-color);\n",
              "    height: 32px;\n",
              "    padding: 0;\n",
              "    width: 32px;\n",
              "  }\n",
              "\n",
              "  .colab-df-quickchart:hover {\n",
              "    background-color: var(--hover-bg-color);\n",
              "    box-shadow: 0 1px 2px rgba(60, 64, 67, 0.3), 0 1px 3px 1px rgba(60, 64, 67, 0.15);\n",
              "    fill: var(--button-hover-fill-color);\n",
              "  }\n",
              "\n",
              "  .colab-df-quickchart-complete:disabled,\n",
              "  .colab-df-quickchart-complete:disabled:hover {\n",
              "    background-color: var(--disabled-bg-color);\n",
              "    fill: var(--disabled-fill-color);\n",
              "    box-shadow: none;\n",
              "  }\n",
              "\n",
              "  .colab-df-spinner {\n",
              "    border: 2px solid var(--fill-color);\n",
              "    border-color: transparent;\n",
              "    border-bottom-color: var(--fill-color);\n",
              "    animation:\n",
              "      spin 1s steps(1) infinite;\n",
              "  }\n",
              "\n",
              "  @keyframes spin {\n",
              "    0% {\n",
              "      border-color: transparent;\n",
              "      border-bottom-color: var(--fill-color);\n",
              "      border-left-color: var(--fill-color);\n",
              "    }\n",
              "    20% {\n",
              "      border-color: transparent;\n",
              "      border-left-color: var(--fill-color);\n",
              "      border-top-color: var(--fill-color);\n",
              "    }\n",
              "    30% {\n",
              "      border-color: transparent;\n",
              "      border-left-color: var(--fill-color);\n",
              "      border-top-color: var(--fill-color);\n",
              "      border-right-color: var(--fill-color);\n",
              "    }\n",
              "    40% {\n",
              "      border-color: transparent;\n",
              "      border-right-color: var(--fill-color);\n",
              "      border-top-color: var(--fill-color);\n",
              "    }\n",
              "    60% {\n",
              "      border-color: transparent;\n",
              "      border-right-color: var(--fill-color);\n",
              "    }\n",
              "    80% {\n",
              "      border-color: transparent;\n",
              "      border-right-color: var(--fill-color);\n",
              "      border-bottom-color: var(--fill-color);\n",
              "    }\n",
              "    90% {\n",
              "      border-color: transparent;\n",
              "      border-bottom-color: var(--fill-color);\n",
              "    }\n",
              "  }\n",
              "</style>\n",
              "\n",
              "  <script>\n",
              "    async function quickchart(key) {\n",
              "      const quickchartButtonEl =\n",
              "        document.querySelector('#' + key + ' button');\n",
              "      quickchartButtonEl.disabled = true;  // To prevent multiple clicks.\n",
              "      quickchartButtonEl.classList.add('colab-df-spinner');\n",
              "      try {\n",
              "        const charts = await google.colab.kernel.invokeFunction(\n",
              "            'suggestCharts', [key], {});\n",
              "      } catch (error) {\n",
              "        console.error('Error during call to suggestCharts:', error);\n",
              "      }\n",
              "      quickchartButtonEl.classList.remove('colab-df-spinner');\n",
              "      quickchartButtonEl.classList.add('colab-df-quickchart-complete');\n",
              "    }\n",
              "    (() => {\n",
              "      let quickchartButtonEl =\n",
              "        document.querySelector('#df-374ce159-bee5-49e6-9eb4-23d8e614917f button');\n",
              "      quickchartButtonEl.style.display =\n",
              "        google.colab.kernel.accessAllowed ? 'block' : 'none';\n",
              "    })();\n",
              "  </script>\n",
              "</div>\n",
              "\n",
              "    </div>\n",
              "  </div>\n"
            ],
            "application/vnd.google.colaboratory.intrinsic+json": {
              "type": "dataframe",
              "variable_name": "df_final",
              "summary": "{\n  \"name\": \"df_final\",\n  \"rows\": 37,\n  \"fields\": [\n    {\n      \"column\": \"user_id\",\n      \"properties\": {\n        \"dtype\": \"string\",\n        \"num_unique_values\": 24,\n        \"samples\": [\n          \"A1MJMYLRTZ76ZX\",\n          \"AT6CZDCP4TRGA\",\n          \"ALUNVOQRXOZIA\"\n        ],\n        \"semantic_type\": \"\",\n        \"description\": \"\"\n      }\n    },\n    {\n      \"column\": \"prod_id\",\n      \"properties\": {\n        \"dtype\": \"category\",\n        \"num_unique_values\": 7,\n        \"samples\": [\n          \"B00004SB92\",\n          \"B00004ZCJE\",\n          \"B0009RKL5S\"\n        ],\n        \"semantic_type\": \"\",\n        \"description\": \"\"\n      }\n    },\n    {\n      \"column\": \"ratings\",\n      \"properties\": {\n        \"dtype\": \"number\",\n        \"std\": 1.3841661446213442,\n        \"min\": 1.0,\n        \"max\": 5.0,\n        \"num_unique_values\": 5,\n        \"samples\": [\n          5.0,\n          2.0,\n          4.0\n        ],\n        \"semantic_type\": \"\",\n        \"description\": \"\"\n      }\n    }\n  ]\n}"
            }
          },
          "metadata": {},
          "execution_count": 21
        }
      ],
      "source": [
        "# Print a few rows of the imported dataset\n",
        "df_final.head()"
      ]
    },
    {
      "cell_type": "markdown",
      "metadata": {
        "id": "GuPoy_XfxhXZ"
      },
      "source": [
        "## **Exploratory Data Analysis**"
      ]
    },
    {
      "cell_type": "markdown",
      "metadata": {
        "id": "s0d0bWeG-sVB"
      },
      "source": [
        "### **Shape of the data**"
      ]
    },
    {
      "cell_type": "code",
      "execution_count": 22,
      "metadata": {
        "execution": {
          "iopub.execute_input": "2023-07-29T16:22:38.166715Z",
          "iopub.status.busy": "2023-07-29T16:22:38.165823Z",
          "iopub.status.idle": "2023-07-29T16:22:38.181029Z",
          "shell.execute_reply": "2023-07-29T16:22:38.179789Z",
          "shell.execute_reply.started": "2023-07-29T16:22:38.166682Z"
        },
        "id": "PWhA1xa8Gfoz",
        "outputId": "01b063e1-3d43-458b-cbab-7690eecc9918",
        "trusted": true,
        "colab": {
          "base_uri": "https://localhost:8080/"
        }
      },
      "outputs": [
        {
          "output_type": "execute_result",
          "data": {
            "text/plain": [
              "(37, 3)"
            ]
          },
          "metadata": {},
          "execution_count": 22
        }
      ],
      "source": [
        "df_final.shape"
      ]
    },
    {
      "cell_type": "markdown",
      "metadata": {
        "id": "qyBVTRDTyek0"
      },
      "source": [
        "### **Check the number of rows and columns and provide observations.**"
      ]
    },
    {
      "cell_type": "code",
      "execution_count": 23,
      "metadata": {
        "execution": {
          "iopub.execute_input": "2023-07-29T16:22:38.183751Z",
          "iopub.status.busy": "2023-07-29T16:22:38.183265Z",
          "iopub.status.idle": "2023-07-29T16:22:38.203161Z",
          "shell.execute_reply": "2023-07-29T16:22:38.201847Z",
          "shell.execute_reply.started": "2023-07-29T16:22:38.183708Z"
        },
        "id": "fJ4eQKaY5JtQ",
        "outputId": "11d86869-1db5-4579-f12f-337bd7f817c3",
        "trusted": true,
        "colab": {
          "base_uri": "https://localhost:8080/",
          "height": 186
        }
      },
      "outputs": [
        {
          "output_type": "execute_result",
          "data": {
            "text/plain": [
              "<bound method NDFrame.describe of                user_id     prod_id  ratings\n",
              "40261    ALUNVOQRXOZIA  B00004SB92      1.0\n",
              "40361   A1JWSDDIH5Z7DV  B00004SB92      5.0\n",
              "40411    A5JLAU2ARJ0BO  B00004SB92      4.0\n",
              "40702    A1RPTVW5VEOSI  B00004SB92      5.0\n",
              "40823   A231WM2Z2JL0U3  B00004SB92      5.0\n",
              "40905   A2B7BUH8834Y6M  B00004SB92      4.0\n",
              "40990   A1F9Z42CFF9IAY  B00004SB92      4.0\n",
              "72435   A3OXHLG6DIBRW8  B00004ZCJE      5.0\n",
              "73533   A1MJMYLRTZ76ZX  B00004ZCJE      5.0\n",
              "73741    A1VQHH85U7PX0  B00004ZCJE      5.0\n",
              "74049   A2XRMQA6PJ5ZJ8  B00004ZCJE      3.0\n",
              "74170   A2B7BUH8834Y6M  B00004ZCJE      5.0\n",
              "102099  A15QYHQH80W30L  B00005LEN4      5.0\n",
              "102147   A5JLAU2ARJ0BO  B00005LEN4      5.0\n",
              "102305   AKT8TGIT6VVZ5  B00005LEN4      5.0\n",
              "102386  A1FR68QH6Z4YZM  B00005LEN4      4.0\n",
              "102541  A250AXLRBVYKB4  B00005LEN4      5.0\n",
              "230870  A25HBO5V8S8SEA  B00007KDVI      2.0\n",
              "231157   AT6CZDCP4TRGA  B00007KDVI      1.0\n",
              "231747   AWPODHOB4GFWL  B00007KDVI      3.0\n",
              "231760  A149RNR5RH19YY  B00007KDVI      4.0\n",
              "232040  A231WM2Z2JL0U3  B00007KDVI      5.0\n",
              "251588   A5JLAU2ARJ0BO  B00008OE6I      5.0\n",
              "251620   ABH9D1TEOJ56E  B00008OE6I      5.0\n",
              "251713  A231WM2Z2JL0U3  B00008OE6I      4.0\n",
              "251726  A12DLJESJKM1OQ  B00008OE6I      5.0\n",
              "251773  A1F9Z42CFF9IAY  B00008OE6I      4.0\n",
              "680951   A5JLAU2ARJ0BO  B0009RKL5S      1.0\n",
              "681016  A1MJMYLRTZ76ZX  B0009RKL5S      2.0\n",
              "681025  A2R6RA8FRBS608  B0009RKL5S      4.0\n",
              "681044  A1ODOGXEYECQQ8  B0009RKL5S      5.0\n",
              "681110  A1F9Z42CFF9IAY  B0009RKL5S      1.0\n",
              "755453   A5JLAU2ARJ0BO  B000BKJZ9Q      2.0\n",
              "756192  A1FR68QH6Z4YZM  B000BKJZ9Q      4.0\n",
              "756378  A1MJMYLRTZ76ZX  B000BKJZ9Q      5.0\n",
              "756647   A1VQHH85U7PX0  B000BKJZ9Q      5.0\n",
              "757132    A6FIAB28IS79  B000BKJZ9Q      5.0>"
            ],
            "text/html": [
              "<div style=\"max-width:800px; border: 1px solid var(--colab-border-color);\"><style>\n",
              "      pre.function-repr-contents {\n",
              "        overflow-x: auto;\n",
              "        padding: 8px 12px;\n",
              "        max-height: 500px;\n",
              "      }\n",
              "\n",
              "      pre.function-repr-contents.function-repr-contents-collapsed {\n",
              "        cursor: pointer;\n",
              "        max-height: 100px;\n",
              "      }\n",
              "    </style>\n",
              "    <pre style=\"white-space: initial; background:\n",
              "         var(--colab-secondary-surface-color); padding: 8px 12px;\n",
              "         border-bottom: 1px solid var(--colab-border-color);\"><b>pandas.core.generic.NDFrame.describe</b><br/>def describe(percentiles=None, include=None, exclude=None) -&gt; Self</pre><pre class=\"function-repr-contents function-repr-contents-collapsed\" style=\"\"><a class=\"filepath\" style=\"display:none\" href=\"#\">/usr/local/lib/python3.10/dist-packages/pandas/core/generic.py</a>Generate descriptive statistics.\n",
              "\n",
              "Descriptive statistics include those that summarize the central\n",
              "tendency, dispersion and shape of a\n",
              "dataset&#x27;s distribution, excluding ``NaN`` values.\n",
              "\n",
              "Analyzes both numeric and object series, as well\n",
              "as ``DataFrame`` column sets of mixed data types. The output\n",
              "will vary depending on what is provided. Refer to the notes\n",
              "below for more detail.\n",
              "\n",
              "Parameters\n",
              "----------\n",
              "percentiles : list-like of numbers, optional\n",
              "    The percentiles to include in the output. All should\n",
              "    fall between 0 and 1. The default is\n",
              "    ``[.25, .5, .75]``, which returns the 25th, 50th, and\n",
              "    75th percentiles.\n",
              "include : &#x27;all&#x27;, list-like of dtypes or None (default), optional\n",
              "    A white list of data types to include in the result. Ignored\n",
              "    for ``Series``. Here are the options:\n",
              "\n",
              "    - &#x27;all&#x27; : All columns of the input will be included in the output.\n",
              "    - A list-like of dtypes : Limits the results to the\n",
              "      provided data types.\n",
              "      To limit the result to numeric types submit\n",
              "      ``numpy.number``. To limit it instead to object columns submit\n",
              "      the ``numpy.object`` data type. Strings\n",
              "      can also be used in the style of\n",
              "      ``select_dtypes`` (e.g. ``df.describe(include=[&#x27;O&#x27;])``). To\n",
              "      select pandas categorical columns, use ``&#x27;category&#x27;``\n",
              "    - None (default) : The result will include all numeric columns.\n",
              "exclude : list-like of dtypes or None (default), optional,\n",
              "    A black list of data types to omit from the result. Ignored\n",
              "    for ``Series``. Here are the options:\n",
              "\n",
              "    - A list-like of dtypes : Excludes the provided data types\n",
              "      from the result. To exclude numeric types submit\n",
              "      ``numpy.number``. To exclude object columns submit the data\n",
              "      type ``numpy.object``. Strings can also be used in the style of\n",
              "      ``select_dtypes`` (e.g. ``df.describe(exclude=[&#x27;O&#x27;])``). To\n",
              "      exclude pandas categorical columns, use ``&#x27;category&#x27;``\n",
              "    - None (default) : The result will exclude nothing.\n",
              "\n",
              "Returns\n",
              "-------\n",
              "Series or DataFrame\n",
              "    Summary statistics of the Series or Dataframe provided.\n",
              "\n",
              "See Also\n",
              "--------\n",
              "DataFrame.count: Count number of non-NA/null observations.\n",
              "DataFrame.max: Maximum of the values in the object.\n",
              "DataFrame.min: Minimum of the values in the object.\n",
              "DataFrame.mean: Mean of the values.\n",
              "DataFrame.std: Standard deviation of the observations.\n",
              "DataFrame.select_dtypes: Subset of a DataFrame including/excluding\n",
              "    columns based on their dtype.\n",
              "\n",
              "Notes\n",
              "-----\n",
              "For numeric data, the result&#x27;s index will include ``count``,\n",
              "``mean``, ``std``, ``min``, ``max`` as well as lower, ``50`` and\n",
              "upper percentiles. By default the lower percentile is ``25`` and the\n",
              "upper percentile is ``75``. The ``50`` percentile is the\n",
              "same as the median.\n",
              "\n",
              "For object data (e.g. strings or timestamps), the result&#x27;s index\n",
              "will include ``count``, ``unique``, ``top``, and ``freq``. The ``top``\n",
              "is the most common value. The ``freq`` is the most common value&#x27;s\n",
              "frequency. Timestamps also include the ``first`` and ``last`` items.\n",
              "\n",
              "If multiple object values have the highest count, then the\n",
              "``count`` and ``top`` results will be arbitrarily chosen from\n",
              "among those with the highest count.\n",
              "\n",
              "For mixed data types provided via a ``DataFrame``, the default is to\n",
              "return only an analysis of numeric columns. If the dataframe consists\n",
              "only of object and categorical data without any numeric columns, the\n",
              "default is to return an analysis of both the object and categorical\n",
              "columns. If ``include=&#x27;all&#x27;`` is provided as an option, the result\n",
              "will include a union of attributes of each type.\n",
              "\n",
              "The `include` and `exclude` parameters can be used to limit\n",
              "which columns in a ``DataFrame`` are analyzed for the output.\n",
              "The parameters are ignored when analyzing a ``Series``.\n",
              "\n",
              "Examples\n",
              "--------\n",
              "Describing a numeric ``Series``.\n",
              "\n",
              "&gt;&gt;&gt; s = pd.Series([1, 2, 3])\n",
              "&gt;&gt;&gt; s.describe()\n",
              "count    3.0\n",
              "mean     2.0\n",
              "std      1.0\n",
              "min      1.0\n",
              "25%      1.5\n",
              "50%      2.0\n",
              "75%      2.5\n",
              "max      3.0\n",
              "dtype: float64\n",
              "\n",
              "Describing a categorical ``Series``.\n",
              "\n",
              "&gt;&gt;&gt; s = pd.Series([&#x27;a&#x27;, &#x27;a&#x27;, &#x27;b&#x27;, &#x27;c&#x27;])\n",
              "&gt;&gt;&gt; s.describe()\n",
              "count     4\n",
              "unique    3\n",
              "top       a\n",
              "freq      2\n",
              "dtype: object\n",
              "\n",
              "Describing a timestamp ``Series``.\n",
              "\n",
              "&gt;&gt;&gt; s = pd.Series([\n",
              "...     np.datetime64(&quot;2000-01-01&quot;),\n",
              "...     np.datetime64(&quot;2010-01-01&quot;),\n",
              "...     np.datetime64(&quot;2010-01-01&quot;)\n",
              "... ])\n",
              "&gt;&gt;&gt; s.describe()\n",
              "count                      3\n",
              "mean     2006-09-01 08:00:00\n",
              "min      2000-01-01 00:00:00\n",
              "25%      2004-12-31 12:00:00\n",
              "50%      2010-01-01 00:00:00\n",
              "75%      2010-01-01 00:00:00\n",
              "max      2010-01-01 00:00:00\n",
              "dtype: object\n",
              "\n",
              "Describing a ``DataFrame``. By default only numeric fields\n",
              "are returned.\n",
              "\n",
              "&gt;&gt;&gt; df = pd.DataFrame({&#x27;categorical&#x27;: pd.Categorical([&#x27;d&#x27;,&#x27;e&#x27;,&#x27;f&#x27;]),\n",
              "...                    &#x27;numeric&#x27;: [1, 2, 3],\n",
              "...                    &#x27;object&#x27;: [&#x27;a&#x27;, &#x27;b&#x27;, &#x27;c&#x27;]\n",
              "...                   })\n",
              "&gt;&gt;&gt; df.describe()\n",
              "       numeric\n",
              "count      3.0\n",
              "mean       2.0\n",
              "std        1.0\n",
              "min        1.0\n",
              "25%        1.5\n",
              "50%        2.0\n",
              "75%        2.5\n",
              "max        3.0\n",
              "\n",
              "Describing all columns of a ``DataFrame`` regardless of data type.\n",
              "\n",
              "&gt;&gt;&gt; df.describe(include=&#x27;all&#x27;)  # doctest: +SKIP\n",
              "       categorical  numeric object\n",
              "count            3      3.0      3\n",
              "unique           3      NaN      3\n",
              "top              f      NaN      a\n",
              "freq             1      NaN      1\n",
              "mean           NaN      2.0    NaN\n",
              "std            NaN      1.0    NaN\n",
              "min            NaN      1.0    NaN\n",
              "25%            NaN      1.5    NaN\n",
              "50%            NaN      2.0    NaN\n",
              "75%            NaN      2.5    NaN\n",
              "max            NaN      3.0    NaN\n",
              "\n",
              "Describing a column from a ``DataFrame`` by accessing it as\n",
              "an attribute.\n",
              "\n",
              "&gt;&gt;&gt; df.numeric.describe()\n",
              "count    3.0\n",
              "mean     2.0\n",
              "std      1.0\n",
              "min      1.0\n",
              "25%      1.5\n",
              "50%      2.0\n",
              "75%      2.5\n",
              "max      3.0\n",
              "Name: numeric, dtype: float64\n",
              "\n",
              "Including only numeric columns in a ``DataFrame`` description.\n",
              "\n",
              "&gt;&gt;&gt; df.describe(include=[np.number])\n",
              "       numeric\n",
              "count      3.0\n",
              "mean       2.0\n",
              "std        1.0\n",
              "min        1.0\n",
              "25%        1.5\n",
              "50%        2.0\n",
              "75%        2.5\n",
              "max        3.0\n",
              "\n",
              "Including only string columns in a ``DataFrame`` description.\n",
              "\n",
              "&gt;&gt;&gt; df.describe(include=[object])  # doctest: +SKIP\n",
              "       object\n",
              "count       3\n",
              "unique      3\n",
              "top         a\n",
              "freq        1\n",
              "\n",
              "Including only categorical columns from a ``DataFrame`` description.\n",
              "\n",
              "&gt;&gt;&gt; df.describe(include=[&#x27;category&#x27;])\n",
              "       categorical\n",
              "count            3\n",
              "unique           3\n",
              "top              d\n",
              "freq             1\n",
              "\n",
              "Excluding numeric columns from a ``DataFrame`` description.\n",
              "\n",
              "&gt;&gt;&gt; df.describe(exclude=[np.number])  # doctest: +SKIP\n",
              "       categorical object\n",
              "count            3      3\n",
              "unique           3      3\n",
              "top              f      a\n",
              "freq             1      1\n",
              "\n",
              "Excluding object columns from a ``DataFrame`` description.\n",
              "\n",
              "&gt;&gt;&gt; df.describe(exclude=[object])  # doctest: +SKIP\n",
              "       categorical  numeric\n",
              "count            3      3.0\n",
              "unique           3      NaN\n",
              "top              f      NaN\n",
              "freq             1      NaN\n",
              "mean           NaN      2.0\n",
              "std            NaN      1.0\n",
              "min            NaN      1.0\n",
              "25%            NaN      1.5\n",
              "50%            NaN      2.0\n",
              "75%            NaN      2.5\n",
              "max            NaN      3.0</pre>\n",
              "      <script>\n",
              "      if (google.colab.kernel.accessAllowed && google.colab.files && google.colab.files.view) {\n",
              "        for (const element of document.querySelectorAll('.filepath')) {\n",
              "          element.style.display = 'block'\n",
              "          element.onclick = (event) => {\n",
              "            event.preventDefault();\n",
              "            event.stopPropagation();\n",
              "            google.colab.files.view(element.textContent, 11310);\n",
              "          };\n",
              "        }\n",
              "      }\n",
              "      for (const element of document.querySelectorAll('.function-repr-contents')) {\n",
              "        element.onclick = (event) => {\n",
              "          event.preventDefault();\n",
              "          event.stopPropagation();\n",
              "          element.classList.toggle('function-repr-contents-collapsed');\n",
              "        };\n",
              "      }\n",
              "      </script>\n",
              "      </div>"
            ]
          },
          "metadata": {},
          "execution_count": 23
        }
      ],
      "source": [
        "# Check the number of rows and columns and provide observations\n",
        "df_final.describe\n"
      ]
    },
    {
      "cell_type": "markdown",
      "metadata": {
        "id": "Slp-fgWQ-sVD"
      },
      "source": [
        "**Observations**\n",
        "\n",
        "From the original dataset we have converted the new dataset into 65290 rows which includes users with min 50 ratings."
      ]
    },
    {
      "cell_type": "markdown",
      "metadata": {
        "id": "lAMWm0nC-sVF"
      },
      "source": [
        "### **Data types**"
      ]
    },
    {
      "cell_type": "code",
      "execution_count": 24,
      "metadata": {
        "execution": {
          "iopub.execute_input": "2023-07-29T16:22:38.20549Z",
          "iopub.status.busy": "2023-07-29T16:22:38.205112Z",
          "iopub.status.idle": "2023-07-29T16:22:38.272691Z",
          "shell.execute_reply": "2023-07-29T16:22:38.270832Z",
          "shell.execute_reply.started": "2023-07-29T16:22:38.205458Z"
        },
        "id": "SVrgMkye5JtQ",
        "outputId": "c0d96f2e-f883-4c0e-df19-e66bcf85a531",
        "trusted": true,
        "colab": {
          "base_uri": "https://localhost:8080/"
        }
      },
      "outputs": [
        {
          "output_type": "stream",
          "name": "stdout",
          "text": [
            "<class 'pandas.core.frame.DataFrame'>\n",
            "Index: 37 entries, 40261 to 757132\n",
            "Data columns (total 3 columns):\n",
            " #   Column   Non-Null Count  Dtype  \n",
            "---  ------   --------------  -----  \n",
            " 0   user_id  37 non-null     object \n",
            " 1   prod_id  37 non-null     object \n",
            " 2   ratings  37 non-null     float64\n",
            "dtypes: float64(1), object(2)\n",
            "memory usage: 1.2+ KB\n"
          ]
        }
      ],
      "source": [
        "# Check Data types and provide observations\n",
        "\n",
        "df_final.info()"
      ]
    },
    {
      "cell_type": "markdown",
      "metadata": {
        "id": "z4fOE02D-sVF"
      },
      "source": [
        "**Observations**\n",
        "\n",
        "All data types are Object data types & all contains non-null values."
      ]
    },
    {
      "cell_type": "markdown",
      "metadata": {
        "id": "lTMpOROT-sVG"
      },
      "source": [
        "### **Checking for missing values**"
      ]
    },
    {
      "cell_type": "code",
      "execution_count": 25,
      "metadata": {
        "execution": {
          "iopub.execute_input": "2023-07-29T16:22:38.275068Z",
          "iopub.status.busy": "2023-07-29T16:22:38.274693Z",
          "iopub.status.idle": "2023-07-29T16:22:38.335857Z",
          "shell.execute_reply": "2023-07-29T16:22:38.33432Z",
          "shell.execute_reply.started": "2023-07-29T16:22:38.275035Z"
        },
        "id": "vt-VEjMA5JtQ",
        "outputId": "ed593d01-fd2a-452c-99a6-dbc25540a7e3",
        "trusted": true,
        "colab": {
          "base_uri": "https://localhost:8080/",
          "height": 178
        }
      },
      "outputs": [
        {
          "output_type": "execute_result",
          "data": {
            "text/plain": [
              "user_id    0\n",
              "prod_id    0\n",
              "ratings    0\n",
              "dtype: int64"
            ],
            "text/html": [
              "<div>\n",
              "<style scoped>\n",
              "    .dataframe tbody tr th:only-of-type {\n",
              "        vertical-align: middle;\n",
              "    }\n",
              "\n",
              "    .dataframe tbody tr th {\n",
              "        vertical-align: top;\n",
              "    }\n",
              "\n",
              "    .dataframe thead th {\n",
              "        text-align: right;\n",
              "    }\n",
              "</style>\n",
              "<table border=\"1\" class=\"dataframe\">\n",
              "  <thead>\n",
              "    <tr style=\"text-align: right;\">\n",
              "      <th></th>\n",
              "      <th>0</th>\n",
              "    </tr>\n",
              "  </thead>\n",
              "  <tbody>\n",
              "    <tr>\n",
              "      <th>user_id</th>\n",
              "      <td>0</td>\n",
              "    </tr>\n",
              "    <tr>\n",
              "      <th>prod_id</th>\n",
              "      <td>0</td>\n",
              "    </tr>\n",
              "    <tr>\n",
              "      <th>ratings</th>\n",
              "      <td>0</td>\n",
              "    </tr>\n",
              "  </tbody>\n",
              "</table>\n",
              "</div><br><label><b>dtype:</b> int64</label>"
            ]
          },
          "metadata": {},
          "execution_count": 25
        }
      ],
      "source": [
        "# Check for missing values present and provide observations\n",
        "df_final.isnull().sum()"
      ]
    },
    {
      "cell_type": "markdown",
      "metadata": {
        "id": "qMWuBNhI5JtR"
      },
      "source": [
        "**Observations**\n",
        "There are no missing data i.e. null values."
      ]
    },
    {
      "cell_type": "markdown",
      "metadata": {
        "id": "wETrCg48-sVG"
      },
      "source": [
        "### **Summary Statistics**"
      ]
    },
    {
      "cell_type": "code",
      "execution_count": 26,
      "metadata": {
        "execution": {
          "iopub.execute_input": "2023-07-29T16:22:38.33834Z",
          "iopub.status.busy": "2023-07-29T16:22:38.337967Z",
          "iopub.status.idle": "2023-07-29T16:22:38.36344Z",
          "shell.execute_reply": "2023-07-29T16:22:38.362124Z",
          "shell.execute_reply.started": "2023-07-29T16:22:38.338308Z"
        },
        "id": "tYm30MXR5JtR",
        "outputId": "93e9a2ff-cadb-439b-8123-85931a89e044",
        "trusted": true,
        "colab": {
          "base_uri": "https://localhost:8080/",
          "height": 335
        }
      },
      "outputs": [
        {
          "output_type": "execute_result",
          "data": {
            "text/plain": [
              "count    37.000000\n",
              "mean      3.972973\n",
              "std       1.384166\n",
              "min       1.000000\n",
              "25%       4.000000\n",
              "50%       5.000000\n",
              "75%       5.000000\n",
              "max       5.000000\n",
              "Name: ratings, dtype: float64"
            ],
            "text/html": [
              "<div>\n",
              "<style scoped>\n",
              "    .dataframe tbody tr th:only-of-type {\n",
              "        vertical-align: middle;\n",
              "    }\n",
              "\n",
              "    .dataframe tbody tr th {\n",
              "        vertical-align: top;\n",
              "    }\n",
              "\n",
              "    .dataframe thead th {\n",
              "        text-align: right;\n",
              "    }\n",
              "</style>\n",
              "<table border=\"1\" class=\"dataframe\">\n",
              "  <thead>\n",
              "    <tr style=\"text-align: right;\">\n",
              "      <th></th>\n",
              "      <th>ratings</th>\n",
              "    </tr>\n",
              "  </thead>\n",
              "  <tbody>\n",
              "    <tr>\n",
              "      <th>count</th>\n",
              "      <td>37.000000</td>\n",
              "    </tr>\n",
              "    <tr>\n",
              "      <th>mean</th>\n",
              "      <td>3.972973</td>\n",
              "    </tr>\n",
              "    <tr>\n",
              "      <th>std</th>\n",
              "      <td>1.384166</td>\n",
              "    </tr>\n",
              "    <tr>\n",
              "      <th>min</th>\n",
              "      <td>1.000000</td>\n",
              "    </tr>\n",
              "    <tr>\n",
              "      <th>25%</th>\n",
              "      <td>4.000000</td>\n",
              "    </tr>\n",
              "    <tr>\n",
              "      <th>50%</th>\n",
              "      <td>5.000000</td>\n",
              "    </tr>\n",
              "    <tr>\n",
              "      <th>75%</th>\n",
              "      <td>5.000000</td>\n",
              "    </tr>\n",
              "    <tr>\n",
              "      <th>max</th>\n",
              "      <td>5.000000</td>\n",
              "    </tr>\n",
              "  </tbody>\n",
              "</table>\n",
              "</div><br><label><b>dtype:</b> float64</label>"
            ]
          },
          "metadata": {},
          "execution_count": 26
        }
      ],
      "source": [
        "# Summary statistics of 'rating' variable and provide observations\n",
        "df_final['ratings'].describe()\n"
      ]
    },
    {
      "cell_type": "markdown",
      "metadata": {
        "id": "VqW50EIJxhXc"
      },
      "source": [
        "**Observations**\n",
        "\n",
        "1. ADLVFFE4VBT8 is the top user_id with more number of user ratings i.e. 295 times.\n",
        "2. B0088CJT4U is the top product that have been reviewed by most users ie. 206 times.\n",
        "3. Raing 5.0 is been more popular rating across different users, more than 75% of the data contains top rating as 5.0. That means users are more satisfied with the products and giving postive ratings.   \n"
      ]
    },
    {
      "cell_type": "markdown",
      "metadata": {
        "id": "ywyFrZIf5JtR"
      },
      "source": [
        "### **Checking the rating distribution**"
      ]
    },
    {
      "cell_type": "code",
      "execution_count": 27,
      "metadata": {
        "execution": {
          "iopub.execute_input": "2023-07-29T16:22:38.365928Z",
          "iopub.status.busy": "2023-07-29T16:22:38.365552Z",
          "iopub.status.idle": "2023-07-29T16:22:38.760781Z",
          "shell.execute_reply": "2023-07-29T16:22:38.75926Z",
          "shell.execute_reply.started": "2023-07-29T16:22:38.365899Z"
        },
        "id": "QbqhbEVe-sVH",
        "outputId": "a025a2a2-fe62-43e8-cf01-62ca568dfcdb",
        "trusted": true,
        "colab": {
          "base_uri": "https://localhost:8080/",
          "height": 449
        }
      },
      "outputs": [
        {
          "output_type": "display_data",
          "data": {
            "text/plain": [
              "<Figure size 640x480 with 1 Axes>"
            ],
            "image/png": "[encoded data removed]"
          },
          "metadata": {}
        }
      ],
      "source": [
        "# Create the bar plot and provide observations\n",
        "with sns.axes_style('white'):\n",
        "    g = sns.countplot( x= \"ratings\", data = df_final)\n"
      ]
    },
    {
      "cell_type": "markdown",
      "metadata": {
        "id": "t0jONrQv-sVH"
      },
      "source": [
        "**Observations :**\n",
        "\n",
        "As per the rating distribution shows, 5.0 shows dominant and most of the users provided positive rating."
      ]
    },
    {
      "cell_type": "markdown",
      "metadata": {
        "id": "HefpLdLJxhXd"
      },
      "source": [
        "### **Checking the number of unique users and items in the dataset**"
      ]
    },
    {
      "cell_type": "code",
      "execution_count": 28,
      "metadata": {
        "execution": {
          "iopub.execute_input": "2023-07-29T16:22:38.763041Z",
          "iopub.status.busy": "2023-07-29T16:22:38.762538Z",
          "iopub.status.idle": "2023-07-29T16:22:38.841311Z",
          "shell.execute_reply": "2023-07-29T16:22:38.839851Z",
          "shell.execute_reply.started": "2023-07-29T16:22:38.763005Z"
        },
        "id": "NbSom7195JtR",
        "outputId": "decd9a33-7069-4179-a8d1-8667dde18d19",
        "trusted": true,
        "colab": {
          "base_uri": "https://localhost:8080/"
        }
      },
      "outputs": [
        {
          "output_type": "stream",
          "name": "stdout",
          "text": [
            "Total number of users in the data :  37\n",
            "Total number of Products in the data :  37\n",
            "Number of unique users in Raw data =  24\n",
            "Number of unique product in Raw data =  7\n"
          ]
        }
      ],
      "source": [
        "# Number of total rows in the data and number of unique user id and product id in the data\n",
        "\n",
        "\n",
        "#Total users in the data\n",
        "print('Total number of users in the data : ',df_final['user_id'].value_counts().sum())\n",
        "\n",
        "#Total Products in the data\n",
        "print('Total number of Products in the data : ',df_final['prod_id'].value_counts().sum())\n",
        "\n",
        "# Number of unique user id  in the data\n",
        "print('Number of unique users in Raw data = ', df_final['user_id'].nunique())\n",
        "# Number of unique product id  in the data\n",
        "print('Number of unique product in Raw data = ', df_final['prod_id'].nunique())\n"
      ]
    },
    {
      "cell_type": "markdown",
      "metadata": {
        "id": "RfDnhSS4-sVI"
      },
      "source": [
        "### **Users with the most number of ratings**"
      ]
    },
    {
      "cell_type": "code",
      "execution_count": 29,
      "metadata": {
        "execution": {
          "iopub.execute_input": "2023-07-29T16:22:38.843584Z",
          "iopub.status.busy": "2023-07-29T16:22:38.843065Z",
          "iopub.status.idle": "2023-07-29T16:22:38.879866Z",
          "shell.execute_reply": "2023-07-29T16:22:38.87846Z",
          "shell.execute_reply.started": "2023-07-29T16:22:38.843549Z"
        },
        "id": "n7MX452q5JtR",
        "outputId": "82f66ed1-daa1-4e05-8caa-1a7c1fa2cb4e",
        "trusted": true,
        "colab": {
          "base_uri": "https://localhost:8080/",
          "height": 429
        }
      },
      "outputs": [
        {
          "output_type": "execute_result",
          "data": {
            "text/plain": [
              "user_id\n",
              "A5JLAU2ARJ0BO     5\n",
              "A1F9Z42CFF9IAY    3\n",
              "A1MJMYLRTZ76ZX    3\n",
              "A231WM2Z2JL0U3    3\n",
              "A1FR68QH6Z4YZM    2\n",
              "A1VQHH85U7PX0     2\n",
              "A2B7BUH8834Y6M    2\n",
              "A12DLJESJKM1OQ    1\n",
              "A2XRMQA6PJ5ZJ8    1\n",
              "AT6CZDCP4TRGA     1\n",
              "dtype: int64"
            ],
            "text/html": [
              "<div>\n",
              "<style scoped>\n",
              "    .dataframe tbody tr th:only-of-type {\n",
              "        vertical-align: middle;\n",
              "    }\n",
              "\n",
              "    .dataframe tbody tr th {\n",
              "        vertical-align: top;\n",
              "    }\n",
              "\n",
              "    .dataframe thead th {\n",
              "        text-align: right;\n",
              "    }\n",
              "</style>\n",
              "<table border=\"1\" class=\"dataframe\">\n",
              "  <thead>\n",
              "    <tr style=\"text-align: right;\">\n",
              "      <th></th>\n",
              "      <th>0</th>\n",
              "    </tr>\n",
              "    <tr>\n",
              "      <th>user_id</th>\n",
              "      <th></th>\n",
              "    </tr>\n",
              "  </thead>\n",
              "  <tbody>\n",
              "    <tr>\n",
              "      <th>A5JLAU2ARJ0BO</th>\n",
              "      <td>5</td>\n",
              "    </tr>\n",
              "    <tr>\n",
              "      <th>A1F9Z42CFF9IAY</th>\n",
              "      <td>3</td>\n",
              "    </tr>\n",
              "    <tr>\n",
              "      <th>A1MJMYLRTZ76ZX</th>\n",
              "      <td>3</td>\n",
              "    </tr>\n",
              "    <tr>\n",
              "      <th>A231WM2Z2JL0U3</th>\n",
              "      <td>3</td>\n",
              "    </tr>\n",
              "    <tr>\n",
              "      <th>A1FR68QH6Z4YZM</th>\n",
              "      <td>2</td>\n",
              "    </tr>\n",
              "    <tr>\n",
              "      <th>A1VQHH85U7PX0</th>\n",
              "      <td>2</td>\n",
              "    </tr>\n",
              "    <tr>\n",
              "      <th>A2B7BUH8834Y6M</th>\n",
              "      <td>2</td>\n",
              "    </tr>\n",
              "    <tr>\n",
              "      <th>A12DLJESJKM1OQ</th>\n",
              "      <td>1</td>\n",
              "    </tr>\n",
              "    <tr>\n",
              "      <th>A2XRMQA6PJ5ZJ8</th>\n",
              "      <td>1</td>\n",
              "    </tr>\n",
              "    <tr>\n",
              "      <th>AT6CZDCP4TRGA</th>\n",
              "      <td>1</td>\n",
              "    </tr>\n",
              "  </tbody>\n",
              "</table>\n",
              "</div><br><label><b>dtype:</b> int64</label>"
            ]
          },
          "metadata": {},
          "execution_count": 29
        }
      ],
      "source": [
        "# Top 10 users based on the number of ratings\n",
        "df_final.groupby('user_id').size().sort_values(ascending=False)[:10]"
      ]
    },
    {
      "cell_type": "markdown",
      "metadata": {
        "id": "1X2w_jt9-sVI"
      },
      "source": [
        "**Observations :**\n",
        "\n",
        "ADLVFFE4VBT8 has mot number of ratings i.e. 295."
      ]
    },
    {
      "cell_type": "markdown",
      "metadata": {
        "id": "EnYTx-Ol-sVg"
      },
      "source": [
        "**Now that we have explored and prepared the data, let's build the first recommendation system.**"
      ]
    },
    {
      "cell_type": "markdown",
      "metadata": {
        "id": "6xYGrGVy5JtS"
      },
      "source": [
        "## **Model 1: Rank Based Recommendation System**"
      ]
    },
    {
      "cell_type": "code",
      "execution_count": 30,
      "metadata": {
        "execution": {
          "iopub.execute_input": "2023-07-29T16:22:38.881972Z",
          "iopub.status.busy": "2023-07-29T16:22:38.881562Z",
          "iopub.status.idle": "2023-07-29T16:22:38.913058Z",
          "shell.execute_reply": "2023-07-29T16:22:38.912148Z",
          "shell.execute_reply.started": "2023-07-29T16:22:38.881939Z"
        },
        "id": "yxZTj1UPxhXh",
        "outputId": "0619a44b-4ade-4ea6-e600-9dda2af44159",
        "scrolled": true,
        "trusted": true,
        "colab": {
          "base_uri": "https://localhost:8080/",
          "height": 335
        }
      },
      "outputs": [
        {
          "output_type": "execute_result",
          "data": {
            "text/plain": [
              "prod_id\n",
              "B00004SB92    4.0\n",
              "B00004ZCJE    4.6\n",
              "B00005LEN4    4.8\n",
              "B00007KDVI    3.0\n",
              "B00008OE6I    4.6\n",
              "B0009RKL5S    2.6\n",
              "B000BKJZ9Q    4.2\n",
              "Name: ratings, dtype: float64"
            ],
            "text/html": [
              "<div>\n",
              "<style scoped>\n",
              "    .dataframe tbody tr th:only-of-type {\n",
              "        vertical-align: middle;\n",
              "    }\n",
              "\n",
              "    .dataframe tbody tr th {\n",
              "        vertical-align: top;\n",
              "    }\n",
              "\n",
              "    .dataframe thead th {\n",
              "        text-align: right;\n",
              "    }\n",
              "</style>\n",
              "<table border=\"1\" class=\"dataframe\">\n",
              "  <thead>\n",
              "    <tr style=\"text-align: right;\">\n",
              "      <th></th>\n",
              "      <th>ratings</th>\n",
              "    </tr>\n",
              "    <tr>\n",
              "      <th>prod_id</th>\n",
              "      <th></th>\n",
              "    </tr>\n",
              "  </thead>\n",
              "  <tbody>\n",
              "    <tr>\n",
              "      <th>B00004SB92</th>\n",
              "      <td>4.0</td>\n",
              "    </tr>\n",
              "    <tr>\n",
              "      <th>B00004ZCJE</th>\n",
              "      <td>4.6</td>\n",
              "    </tr>\n",
              "    <tr>\n",
              "      <th>B00005LEN4</th>\n",
              "      <td>4.8</td>\n",
              "    </tr>\n",
              "    <tr>\n",
              "      <th>B00007KDVI</th>\n",
              "      <td>3.0</td>\n",
              "    </tr>\n",
              "    <tr>\n",
              "      <th>B00008OE6I</th>\n",
              "      <td>4.6</td>\n",
              "    </tr>\n",
              "    <tr>\n",
              "      <th>B0009RKL5S</th>\n",
              "      <td>2.6</td>\n",
              "    </tr>\n",
              "    <tr>\n",
              "      <th>B000BKJZ9Q</th>\n",
              "      <td>4.2</td>\n",
              "    </tr>\n",
              "  </tbody>\n",
              "</table>\n",
              "</div><br><label><b>dtype:</b> float64</label>"
            ]
          },
          "metadata": {},
          "execution_count": 30
        }
      ],
      "source": [
        "# Calculate the average rating for each product\n",
        "\n",
        "df_final.groupby('prod_id')['ratings'].mean()\n"
      ]
    },
    {
      "cell_type": "code",
      "execution_count": 31,
      "metadata": {
        "execution": {
          "iopub.execute_input": "2023-07-29T16:22:38.914483Z",
          "iopub.status.busy": "2023-07-29T16:22:38.914133Z",
          "iopub.status.idle": "2023-07-29T16:22:38.943015Z",
          "shell.execute_reply": "2023-07-29T16:22:38.941731Z",
          "shell.execute_reply.started": "2023-07-29T16:22:38.914452Z"
        },
        "id": "SfmM_FOOw1st",
        "outputId": "fc9c87d3-51f2-4d24-a7b4-387bcc8fa617",
        "trusted": true,
        "colab": {
          "base_uri": "https://localhost:8080/",
          "height": 335
        }
      },
      "outputs": [
        {
          "output_type": "execute_result",
          "data": {
            "text/plain": [
              "prod_id\n",
              "B00004SB92    7\n",
              "B00004ZCJE    5\n",
              "B00005LEN4    5\n",
              "B00007KDVI    5\n",
              "B00008OE6I    5\n",
              "B0009RKL5S    5\n",
              "B000BKJZ9Q    5\n",
              "Name: ratings, dtype: int64"
            ],
            "text/html": [
              "<div>\n",
              "<style scoped>\n",
              "    .dataframe tbody tr th:only-of-type {\n",
              "        vertical-align: middle;\n",
              "    }\n",
              "\n",
              "    .dataframe tbody tr th {\n",
              "        vertical-align: top;\n",
              "    }\n",
              "\n",
              "    .dataframe thead th {\n",
              "        text-align: right;\n",
              "    }\n",
              "</style>\n",
              "<table border=\"1\" class=\"dataframe\">\n",
              "  <thead>\n",
              "    <tr style=\"text-align: right;\">\n",
              "      <th></th>\n",
              "      <th>ratings</th>\n",
              "    </tr>\n",
              "    <tr>\n",
              "      <th>prod_id</th>\n",
              "      <th></th>\n",
              "    </tr>\n",
              "  </thead>\n",
              "  <tbody>\n",
              "    <tr>\n",
              "      <th>B00004SB92</th>\n",
              "      <td>7</td>\n",
              "    </tr>\n",
              "    <tr>\n",
              "      <th>B00004ZCJE</th>\n",
              "      <td>5</td>\n",
              "    </tr>\n",
              "    <tr>\n",
              "      <th>B00005LEN4</th>\n",
              "      <td>5</td>\n",
              "    </tr>\n",
              "    <tr>\n",
              "      <th>B00007KDVI</th>\n",
              "      <td>5</td>\n",
              "    </tr>\n",
              "    <tr>\n",
              "      <th>B00008OE6I</th>\n",
              "      <td>5</td>\n",
              "    </tr>\n",
              "    <tr>\n",
              "      <th>B0009RKL5S</th>\n",
              "      <td>5</td>\n",
              "    </tr>\n",
              "    <tr>\n",
              "      <th>B000BKJZ9Q</th>\n",
              "      <td>5</td>\n",
              "    </tr>\n",
              "  </tbody>\n",
              "</table>\n",
              "</div><br><label><b>dtype:</b> int64</label>"
            ]
          },
          "metadata": {},
          "execution_count": 31
        }
      ],
      "source": [
        "# Calculate the count of ratings for each product\n",
        "\n",
        "df_final.groupby('prod_id')['ratings'].count().sort_values(ascending = False)"
      ]
    },
    {
      "cell_type": "code",
      "execution_count": 32,
      "metadata": {
        "execution": {
          "iopub.execute_input": "2023-07-29T16:22:38.944956Z",
          "iopub.status.busy": "2023-07-29T16:22:38.944554Z",
          "iopub.status.idle": "2023-07-29T16:22:38.96998Z",
          "shell.execute_reply": "2023-07-29T16:22:38.96895Z",
          "shell.execute_reply.started": "2023-07-29T16:22:38.944923Z"
        },
        "id": "0h7yy5d9w1vi",
        "trusted": true
      },
      "outputs": [],
      "source": [
        "\n",
        "# Create a dataframe with calculated average and count of ratings\n",
        "final_rating_df = pd.DataFrame()\n",
        "final_rating_df['avg_rating'] = pd.DataFrame(df_final.groupby('prod_id')['ratings'].mean())\n"
      ]
    },
    {
      "cell_type": "code",
      "execution_count": 33,
      "metadata": {
        "execution": {
          "iopub.execute_input": "2023-07-29T16:22:38.97224Z",
          "iopub.status.busy": "2023-07-29T16:22:38.971257Z",
          "iopub.status.idle": "2023-07-29T16:22:38.999314Z",
          "shell.execute_reply": "2023-07-29T16:22:38.99756Z",
          "shell.execute_reply.started": "2023-07-29T16:22:38.972204Z"
        },
        "id": "aSpj2MPR1yfU",
        "trusted": true
      },
      "outputs": [],
      "source": [
        "#Adding rating_counts to the new df i.e. final_rating_df\n",
        "final_rating_df['rating_counts'] = pd.DataFrame(df_final.groupby('prod_id')['ratings'].count().sort_values(ascending = False))\n"
      ]
    },
    {
      "cell_type": "code",
      "execution_count": 34,
      "metadata": {
        "execution": {
          "iopub.execute_input": "2023-07-29T16:22:39.00143Z",
          "iopub.status.busy": "2023-07-29T16:22:39.00105Z",
          "iopub.status.idle": "2023-07-29T16:22:39.016098Z",
          "shell.execute_reply": "2023-07-29T16:22:39.014503Z",
          "shell.execute_reply.started": "2023-07-29T16:22:39.001399Z"
        },
        "id": "k3vLpilCxB2O",
        "outputId": "cff0eef7-bb85-4f3f-b98e-59eb93442bd0",
        "trusted": true,
        "colab": {
          "base_uri": "https://localhost:8080/",
          "height": 237
        }
      },
      "outputs": [
        {
          "output_type": "execute_result",
          "data": {
            "text/plain": [
              "            avg_rating  rating_counts\n",
              "prod_id                              \n",
              "B00004SB92         4.0              7\n",
              "B00004ZCJE         4.6              5\n",
              "B00005LEN4         4.8              5\n",
              "B00007KDVI         3.0              5\n",
              "B00008OE6I         4.6              5"
            ],
            "text/html": [
              "\n",
              "  <div id=\"df-626e5ab6-a6b3-4a35-8c84-350ffcb1b792\" class=\"colab-df-container\">\n",
              "    <div>\n",
              "<style scoped>\n",
              "    .dataframe tbody tr th:only-of-type {\n",
              "        vertical-align: middle;\n",
              "    }\n",
              "\n",
              "    .dataframe tbody tr th {\n",
              "        vertical-align: top;\n",
              "    }\n",
              "\n",
              "    .dataframe thead th {\n",
              "        text-align: right;\n",
              "    }\n",
              "</style>\n",
              "<table border=\"1\" class=\"dataframe\">\n",
              "  <thead>\n",
              "    <tr style=\"text-align: right;\">\n",
              "      <th></th>\n",
              "      <th>avg_rating</th>\n",
              "      <th>rating_counts</th>\n",
              "    </tr>\n",
              "    <tr>\n",
              "      <th>prod_id</th>\n",
              "      <th></th>\n",
              "      <th></th>\n",
              "    </tr>\n",
              "  </thead>\n",
              "  <tbody>\n",
              "    <tr>\n",
              "      <th>B00004SB92</th>\n",
              "      <td>4.0</td>\n",
              "      <td>7</td>\n",
              "    </tr>\n",
              "    <tr>\n",
              "      <th>B00004ZCJE</th>\n",
              "      <td>4.6</td>\n",
              "      <td>5</td>\n",
              "    </tr>\n",
              "    <tr>\n",
              "      <th>B00005LEN4</th>\n",
              "      <td>4.8</td>\n",
              "      <td>5</td>\n",
              "    </tr>\n",
              "    <tr>\n",
              "      <th>B00007KDVI</th>\n",
              "      <td>3.0</td>\n",
              "      <td>5</td>\n",
              "    </tr>\n",
              "    <tr>\n",
              "      <th>B00008OE6I</th>\n",
              "      <td>4.6</td>\n",
              "      <td>5</td>\n",
              "    </tr>\n",
              "  </tbody>\n",
              "</table>\n",
              "</div>\n",
              "    <div class=\"colab-df-buttons\">\n",
              "\n",
              "  <div class=\"colab-df-container\">\n",
              "    <button class=\"colab-df-convert\" onclick=\"convertToInteractive('df-626e5ab6-a6b3-4a35-8c84-350ffcb1b792')\"\n",
              "            title=\"Convert this dataframe to an interactive table.\"\n",
              "            style=\"display:none;\">\n",
              "\n",
              "  <svg xmlns=\"http://www.w3.org/2000/svg\" height=\"24px\" viewBox=\"0 -960 960 960\">\n",
              "    <path d=\"M120-120v-720h720v720H120Zm60-500h600v-160H180v160Zm220 220h160v-160H400v160Zm0 220h160v-160H400v160ZM180-400h160v-160H180v160Zm440 0h160v-160H620v160ZM180-180h160v-160H180v160Zm440 0h160v-160H620v160Z\"/>\n",
              "  </svg>\n",
              "    </button>\n",
              "\n",
              "  <style>\n",
              "    .colab-df-container {\n",
              "      display:flex;\n",
              "      gap: 12px;\n",
              "    }\n",
              "\n",
              "    .colab-df-convert {\n",
              "      background-color: #E8F0FE;\n",
              "      border: none;\n",
              "      border-radius: 50%;\n",
              "      cursor: pointer;\n",
              "      display: none;\n",
              "      fill: #1967D2;\n",
              "      height: 32px;\n",
              "      padding: 0 0 0 0;\n",
              "      width: 32px;\n",
              "    }\n",
              "\n",
              "    .colab-df-convert:hover {\n",
              "      background-color: #E2EBFA;\n",
              "      box-shadow: 0px 1px 2px rgba(60, 64, 67, 0.3), 0px 1px 3px 1px rgba(60, 64, 67, 0.15);\n",
              "      fill: #174EA6;\n",
              "    }\n",
              "\n",
              "    .colab-df-buttons div {\n",
              "      margin-bottom: 4px;\n",
              "    }\n",
              "\n",
              "    [theme=dark] .colab-df-convert {\n",
              "      background-color: #3B4455;\n",
              "      fill: #D2E3FC;\n",
              "    }\n",
              "\n",
              "    [theme=dark] .colab-df-convert:hover {\n",
              "      background-color: #434B5C;\n",
              "      box-shadow: 0px 1px 3px 1px rgba(0, 0, 0, 0.15);\n",
              "      filter: drop-shadow(0px 1px 2px rgba(0, 0, 0, 0.3));\n",
              "      fill: #FFFFFF;\n",
              "    }\n",
              "  </style>\n",
              "\n",
              "    <script>\n",
              "      const buttonEl =\n",
              "        document.querySelector('#df-626e5ab6-a6b3-4a35-8c84-350ffcb1b792 button.colab-df-convert');\n",
              "      buttonEl.style.display =\n",
              "        google.colab.kernel.accessAllowed ? 'block' : 'none';\n",
              "\n",
              "      async function convertToInteractive(key) {\n",
              "        const element = document.querySelector('#df-626e5ab6-a6b3-4a35-8c84-350ffcb1b792');\n",
              "        const dataTable =\n",
              "          await google.colab.kernel.invokeFunction('convertToInteractive',\n",
              "                                                    [key], {});\n",
              "        if (!dataTable) return;\n",
              "\n",
              "        const docLinkHtml = 'Like what you see? Visit the ' +\n",
              "          '<a target=\"_blank\" href=https://colab.research.google.com/notebooks/data_table.ipynb>data table notebook</a>'\n",
              "          + ' to learn more about interactive tables.';\n",
              "        element.innerHTML = '';\n",
              "        dataTable['output_type'] = 'display_data';\n",
              "        await google.colab.output.renderOutput(dataTable, element);\n",
              "        const docLink = document.createElement('div');\n",
              "        docLink.innerHTML = docLinkHtml;\n",
              "        element.appendChild(docLink);\n",
              "      }\n",
              "    </script>\n",
              "  </div>\n",
              "\n",
              "\n",
              "<div id=\"df-a8302809-2138-4507-846c-3bf865676fa7\">\n",
              "  <button class=\"colab-df-quickchart\" onclick=\"quickchart('df-a8302809-2138-4507-846c-3bf865676fa7')\"\n",
              "            title=\"Suggest charts\"\n",
              "            style=\"display:none;\">\n",
              "\n",
              "<svg xmlns=\"http://www.w3.org/2000/svg\" height=\"24px\"viewBox=\"0 0 24 24\"\n",
              "     width=\"24px\">\n",
              "    <g>\n",
              "        <path d=\"M19 3H5c-1.1 0-2 .9-2 2v14c0 1.1.9 2 2 2h14c1.1 0 2-.9 2-2V5c0-1.1-.9-2-2-2zM9 17H7v-7h2v7zm4 0h-2V7h2v10zm4 0h-2v-4h2v4z\"/>\n",
              "    </g>\n",
              "</svg>\n",
              "  </button>\n",
              "\n",
              "<style>\n",
              "  .colab-df-quickchart {\n",
              "      --bg-color: #E8F0FE;\n",
              "      --fill-color: #1967D2;\n",
              "      --hover-bg-color: #E2EBFA;\n",
              "      --hover-fill-color: #174EA6;\n",
              "      --disabled-fill-color: #AAA;\n",
              "      --disabled-bg-color: #DDD;\n",
              "  }\n",
              "\n",
              "  [theme=dark] .colab-df-quickchart {\n",
              "      --bg-color: #3B4455;\n",
              "      --fill-color: #D2E3FC;\n",
              "      --hover-bg-color: #434B5C;\n",
              "      --hover-fill-color: #FFFFFF;\n",
              "      --disabled-bg-color: #3B4455;\n",
              "      --disabled-fill-color: #666;\n",
              "  }\n",
              "\n",
              "  .colab-df-quickchart {\n",
              "    background-color: var(--bg-color);\n",
              "    border: none;\n",
              "    border-radius: 50%;\n",
              "    cursor: pointer;\n",
              "    display: none;\n",
              "    fill: var(--fill-color);\n",
              "    height: 32px;\n",
              "    padding: 0;\n",
              "    width: 32px;\n",
              "  }\n",
              "\n",
              "  .colab-df-quickchart:hover {\n",
              "    background-color: var(--hover-bg-color);\n",
              "    box-shadow: 0 1px 2px rgba(60, 64, 67, 0.3), 0 1px 3px 1px rgba(60, 64, 67, 0.15);\n",
              "    fill: var(--button-hover-fill-color);\n",
              "  }\n",
              "\n",
              "  .colab-df-quickchart-complete:disabled,\n",
              "  .colab-df-quickchart-complete:disabled:hover {\n",
              "    background-color: var(--disabled-bg-color);\n",
              "    fill: var(--disabled-fill-color);\n",
              "    box-shadow: none;\n",
              "  }\n",
              "\n",
              "  .colab-df-spinner {\n",
              "    border: 2px solid var(--fill-color);\n",
              "    border-color: transparent;\n",
              "    border-bottom-color: var(--fill-color);\n",
              "    animation:\n",
              "      spin 1s steps(1) infinite;\n",
              "  }\n",
              "\n",
              "  @keyframes spin {\n",
              "    0% {\n",
              "      border-color: transparent;\n",
              "      border-bottom-color: var(--fill-color);\n",
              "      border-left-color: var(--fill-color);\n",
              "    }\n",
              "    20% {\n",
              "      border-color: transparent;\n",
              "      border-left-color: var(--fill-color);\n",
              "      border-top-color: var(--fill-color);\n",
              "    }\n",
              "    30% {\n",
              "      border-color: transparent;\n",
              "      border-left-color: var(--fill-color);\n",
              "      border-top-color: var(--fill-color);\n",
              "      border-right-color: var(--fill-color);\n",
              "    }\n",
              "    40% {\n",
              "      border-color: transparent;\n",
              "      border-right-color: var(--fill-color);\n",
              "      border-top-color: var(--fill-color);\n",
              "    }\n",
              "    60% {\n",
              "      border-color: transparent;\n",
              "      border-right-color: var(--fill-color);\n",
              "    }\n",
              "    80% {\n",
              "      border-color: transparent;\n",
              "      border-right-color: var(--fill-color);\n",
              "      border-bottom-color: var(--fill-color);\n",
              "    }\n",
              "    90% {\n",
              "      border-color: transparent;\n",
              "      border-bottom-color: var(--fill-color);\n",
              "    }\n",
              "  }\n",
              "</style>\n",
              "\n",
              "  <script>\n",
              "    async function quickchart(key) {\n",
              "      const quickchartButtonEl =\n",
              "        document.querySelector('#' + key + ' button');\n",
              "      quickchartButtonEl.disabled = true;  // To prevent multiple clicks.\n",
              "      quickchartButtonEl.classList.add('colab-df-spinner');\n",
              "      try {\n",
              "        const charts = await google.colab.kernel.invokeFunction(\n",
              "            'suggestCharts', [key], {});\n",
              "      } catch (error) {\n",
              "        console.error('Error during call to suggestCharts:', error);\n",
              "      }\n",
              "      quickchartButtonEl.classList.remove('colab-df-spinner');\n",
              "      quickchartButtonEl.classList.add('colab-df-quickchart-complete');\n",
              "    }\n",
              "    (() => {\n",
              "      let quickchartButtonEl =\n",
              "        document.querySelector('#df-a8302809-2138-4507-846c-3bf865676fa7 button');\n",
              "      quickchartButtonEl.style.display =\n",
              "        google.colab.kernel.accessAllowed ? 'block' : 'none';\n",
              "    })();\n",
              "  </script>\n",
              "</div>\n",
              "\n",
              "    </div>\n",
              "  </div>\n"
            ],
            "application/vnd.google.colaboratory.intrinsic+json": {
              "type": "dataframe",
              "variable_name": "final_rating_df",
              "summary": "{\n  \"name\": \"final_rating_df\",\n  \"rows\": 7,\n  \"fields\": [\n    {\n      \"column\": \"prod_id\",\n      \"properties\": {\n        \"dtype\": \"string\",\n        \"num_unique_values\": 7,\n        \"samples\": [\n          \"B00004SB92\",\n          \"B00004ZCJE\",\n          \"B0009RKL5S\"\n        ],\n        \"semantic_type\": \"\",\n        \"description\": \"\"\n      }\n    },\n    {\n      \"column\": \"avg_rating\",\n      \"properties\": {\n        \"dtype\": \"number\",\n        \"std\": 0.8518886580500327,\n        \"min\": 2.6,\n        \"max\": 4.8,\n        \"num_unique_values\": 6,\n        \"samples\": [\n          4.0,\n          4.6,\n          4.2\n        ],\n        \"semantic_type\": \"\",\n        \"description\": \"\"\n      }\n    },\n    {\n      \"column\": \"rating_counts\",\n      \"properties\": {\n        \"dtype\": \"number\",\n        \"std\": 0,\n        \"min\": 5,\n        \"max\": 7,\n        \"num_unique_values\": 2,\n        \"samples\": [\n          5,\n          7\n        ],\n        \"semantic_type\": \"\",\n        \"description\": \"\"\n      }\n    }\n  ]\n}"
            }
          },
          "metadata": {},
          "execution_count": 34
        }
      ],
      "source": [
        "# See the first five records of the \"final_rating\" dataset\n",
        "final_rating_df.head()"
      ]
    },
    {
      "cell_type": "code",
      "execution_count": 35,
      "metadata": {
        "execution": {
          "iopub.execute_input": "2023-07-29T16:22:39.018556Z",
          "iopub.status.busy": "2023-07-29T16:22:39.018095Z",
          "iopub.status.idle": "2023-07-29T16:22:39.032631Z",
          "shell.execute_reply": "2023-07-29T16:22:39.031097Z",
          "shell.execute_reply.started": "2023-07-29T16:22:39.018513Z"
        },
        "id": "zKU__5s1xhXi",
        "trusted": true
      },
      "outputs": [],
      "source": [
        "# Defining a function to get the top n products based on the highest average rating and minimum interactions\n",
        "\n",
        "def top_n_products(final_rating, n, min_interaction):\n",
        "\n",
        "    #Finding movies with minimum number of interactions\n",
        "    recommendations = final_rating_df[final_rating_df['rating_counts'] >= min_interaction]\n",
        "\n",
        "    #Sorting values w.r.t average rating\n",
        "    recommendations = recommendations.sort_values(by='avg_rating', ascending=False)\n",
        "\n",
        "    return recommendations.index[:n]\n"
      ]
    },
    {
      "cell_type": "code",
      "execution_count": 36,
      "metadata": {
        "execution": {
          "iopub.execute_input": "2023-07-29T16:22:39.034407Z",
          "iopub.status.busy": "2023-07-29T16:22:39.034078Z",
          "iopub.status.idle": "2023-07-29T16:22:39.071157Z",
          "shell.execute_reply": "2023-07-29T16:22:39.069511Z",
          "shell.execute_reply.started": "2023-07-29T16:22:39.034378Z"
        },
        "id": "k0QvWVal3qtf",
        "outputId": "b5d79d0e-57c6-4556-a435-8815b0672c0a",
        "trusted": true,
        "colab": {
          "base_uri": "https://localhost:8080/",
          "height": 272
        }
      },
      "outputs": [
        {
          "output_type": "execute_result",
          "data": {
            "text/plain": [
              "prod_id\n",
              "B00004ZCJE    5\n",
              "B00005LEN4    5\n",
              "B00007KDVI    5\n",
              "B00008OE6I    5\n",
              "B0009RKL5S    5\n",
              "Name: ratings, dtype: int64"
            ],
            "text/html": [
              "<div>\n",
              "<style scoped>\n",
              "    .dataframe tbody tr th:only-of-type {\n",
              "        vertical-align: middle;\n",
              "    }\n",
              "\n",
              "    .dataframe tbody tr th {\n",
              "        vertical-align: top;\n",
              "    }\n",
              "\n",
              "    .dataframe thead th {\n",
              "        text-align: right;\n",
              "    }\n",
              "</style>\n",
              "<table border=\"1\" class=\"dataframe\">\n",
              "  <thead>\n",
              "    <tr style=\"text-align: right;\">\n",
              "      <th></th>\n",
              "      <th>ratings</th>\n",
              "    </tr>\n",
              "    <tr>\n",
              "      <th>prod_id</th>\n",
              "      <th></th>\n",
              "    </tr>\n",
              "  </thead>\n",
              "  <tbody>\n",
              "    <tr>\n",
              "      <th>B00004ZCJE</th>\n",
              "      <td>5</td>\n",
              "    </tr>\n",
              "    <tr>\n",
              "      <th>B00005LEN4</th>\n",
              "      <td>5</td>\n",
              "    </tr>\n",
              "    <tr>\n",
              "      <th>B00007KDVI</th>\n",
              "      <td>5</td>\n",
              "    </tr>\n",
              "    <tr>\n",
              "      <th>B00008OE6I</th>\n",
              "      <td>5</td>\n",
              "    </tr>\n",
              "    <tr>\n",
              "      <th>B0009RKL5S</th>\n",
              "      <td>5</td>\n",
              "    </tr>\n",
              "  </tbody>\n",
              "</table>\n",
              "</div><br><label><b>dtype:</b> int64</label>"
            ]
          },
          "metadata": {},
          "execution_count": 36
        }
      ],
      "source": [
        "# Finding products with minimum number of interactions\n",
        "df_final.groupby('prod_id')['ratings'].count().sort_values(ascending = True ).head()\n"
      ]
    },
    {
      "cell_type": "code",
      "execution_count": 37,
      "metadata": {
        "execution": {
          "iopub.execute_input": "2023-07-29T16:22:39.073117Z",
          "iopub.status.busy": "2023-07-29T16:22:39.072747Z",
          "iopub.status.idle": "2023-07-29T16:22:39.088067Z",
          "shell.execute_reply": "2023-07-29T16:22:39.086653Z",
          "shell.execute_reply.started": "2023-07-29T16:22:39.073086Z"
        },
        "id": "KjebUKPiAGQ0",
        "outputId": "eff1e4ef-24c6-4d1d-d8a7-edaa82280d54",
        "trusted": true,
        "colab": {
          "base_uri": "https://localhost:8080/",
          "height": 303
        }
      },
      "outputs": [
        {
          "output_type": "execute_result",
          "data": {
            "text/plain": [
              "avg_rating\n",
              "2.6    1\n",
              "3.0    1\n",
              "4.0    1\n",
              "4.2    1\n",
              "4.8    1\n",
              "4.6    2\n",
              "Name: avg_rating, dtype: int64"
            ],
            "text/html": [
              "<div>\n",
              "<style scoped>\n",
              "    .dataframe tbody tr th:only-of-type {\n",
              "        vertical-align: middle;\n",
              "    }\n",
              "\n",
              "    .dataframe tbody tr th {\n",
              "        vertical-align: top;\n",
              "    }\n",
              "\n",
              "    .dataframe thead th {\n",
              "        text-align: right;\n",
              "    }\n",
              "</style>\n",
              "<table border=\"1\" class=\"dataframe\">\n",
              "  <thead>\n",
              "    <tr style=\"text-align: right;\">\n",
              "      <th></th>\n",
              "      <th>avg_rating</th>\n",
              "    </tr>\n",
              "    <tr>\n",
              "      <th>avg_rating</th>\n",
              "      <th></th>\n",
              "    </tr>\n",
              "  </thead>\n",
              "  <tbody>\n",
              "    <tr>\n",
              "      <th>2.6</th>\n",
              "      <td>1</td>\n",
              "    </tr>\n",
              "    <tr>\n",
              "      <th>3.0</th>\n",
              "      <td>1</td>\n",
              "    </tr>\n",
              "    <tr>\n",
              "      <th>4.0</th>\n",
              "      <td>1</td>\n",
              "    </tr>\n",
              "    <tr>\n",
              "      <th>4.2</th>\n",
              "      <td>1</td>\n",
              "    </tr>\n",
              "    <tr>\n",
              "      <th>4.8</th>\n",
              "      <td>1</td>\n",
              "    </tr>\n",
              "    <tr>\n",
              "      <th>4.6</th>\n",
              "      <td>2</td>\n",
              "    </tr>\n",
              "  </tbody>\n",
              "</table>\n",
              "</div><br><label><b>dtype:</b> int64</label>"
            ]
          },
          "metadata": {},
          "execution_count": 37
        }
      ],
      "source": [
        "# Sorting values with respect to average rating\n",
        "final_rating_df.groupby('avg_rating')['avg_rating'].count().sort_values(ascending = True)"
      ]
    },
    {
      "cell_type": "markdown",
      "metadata": {
        "id": "F8l6373PxhXi"
      },
      "source": [
        "### **Recommending top 5 products with 50 minimum interactions based on popularity**"
      ]
    },
    {
      "cell_type": "code",
      "execution_count": 38,
      "metadata": {
        "execution": {
          "iopub.execute_input": "2023-07-29T16:22:39.090768Z",
          "iopub.status.busy": "2023-07-29T16:22:39.090313Z",
          "iopub.status.idle": "2023-07-29T16:22:39.105564Z",
          "shell.execute_reply": "2023-07-29T16:22:39.104421Z",
          "shell.execute_reply.started": "2023-07-29T16:22:39.090715Z"
        },
        "id": "dBxdLiM_xhXi",
        "outputId": "81e608a7-182c-4599-b424-bcd0ee90fe33",
        "trusted": true,
        "colab": {
          "base_uri": "https://localhost:8080/"
        }
      },
      "outputs": [
        {
          "output_type": "execute_result",
          "data": {
            "text/plain": [
              "[]"
            ]
          },
          "metadata": {},
          "execution_count": 38
        }
      ],
      "source": [
        "list(top_n_products(final_rating_df, 5, 50))"
      ]
    },
    {
      "cell_type": "markdown",
      "metadata": {
        "id": "l9_xW_UMxhXj"
      },
      "source": [
        "### **Recommending top 5 products with 100 minimum interactions based on popularity**"
      ]
    },
    {
      "cell_type": "code",
      "execution_count": 39,
      "metadata": {
        "execution": {
          "iopub.execute_input": "2023-07-29T16:22:39.107753Z",
          "iopub.status.busy": "2023-07-29T16:22:39.107352Z",
          "iopub.status.idle": "2023-07-29T16:22:39.119497Z",
          "shell.execute_reply": "2023-07-29T16:22:39.118701Z",
          "shell.execute_reply.started": "2023-07-29T16:22:39.10772Z"
        },
        "id": "dZgGZCUoxhXj",
        "outputId": "a1438e76-f856-485d-ad85-ec47e193351a",
        "trusted": true,
        "colab": {
          "base_uri": "https://localhost:8080/"
        }
      },
      "outputs": [
        {
          "output_type": "execute_result",
          "data": {
            "text/plain": [
              "[]"
            ]
          },
          "metadata": {},
          "execution_count": 39
        }
      ],
      "source": [
        "list(top_n_products(final_rating_df, 5, 100))"
      ]
    },
    {
      "cell_type": "markdown",
      "metadata": {
        "id": "BL-m68a15JtT",
        "outputId": "69132b0f-8d3f-4798-f6a0-249e17a3c822"
      },
      "source": [
        "We have recommended the **top 5** products by using the popularity recommendation system. Now, let's build a recommendation system using **collaborative filtering.**"
      ]
    },
    {
      "cell_type": "markdown",
      "metadata": {
        "id": "sJI5kiiGvOOK"
      },
      "source": [
        "## **Model 2: Collaborative Filtering Recommendation System**"
      ]
    },
    {
      "cell_type": "markdown",
      "metadata": {
        "id": "skzc0N1_nVNB"
      },
      "source": [
        "### **Building a baseline user-user similarity based recommendation system**"
      ]
    },
    {
      "cell_type": "markdown",
      "metadata": {
        "id": "d4Uo_MYMnVNB"
      },
      "source": [
        "- Below, we are building **similarity-based recommendation systems** using `cosine` similarity and using **KNN to find similar users** which are the nearest neighbor to the given user.  \n",
        "- We will be using a new library, called `surprise`, to build the remaining models. Let's first import the necessary classes and functions from this library."
      ]
    },
    {
      "cell_type": "code",
      "execution_count": 40,
      "metadata": {
        "colab": {
          "base_uri": "https://localhost:8080/"
        },
        "id": "ONMlb39N4nYw",
        "outputId": "3d2c635a-7aed-47f6-a827-fd642f2dadc9"
      },
      "outputs": [
        {
          "output_type": "stream",
          "name": "stdout",
          "text": [
            "Collecting scikit-surprise\n",
            "  Downloading scikit_surprise-1.1.4.tar.gz (154 kB)\n",
            "\u001b[?25l     \u001b[90m━━━━━━━━━━━━━━━━━━━━━━━━━━━━━━━━━━━━━━━━\u001b[0m \u001b[32m0.0/154.4 kB\u001b[0m \u001b[31m?\u001b[0m eta \u001b[36m-:--:--\u001b[0m\r\u001b[2K     \u001b[90m━━━━━━━━━━━━━━━━━━━━━━━━━━━━━━━━━━━━━━━━\u001b[0m \u001b[32m154.4/154.4 kB\u001b[0m \u001b[31m8.9 MB/s\u001b[0m eta \u001b[36m0:00:00\u001b[0m\n",
            "\u001b[?25h  Installing build dependencies ... \u001b[?25l\u001b[?25hdone\n",
            "  Getting requirements to build wheel ... \u001b[?25l\u001b[?25hdone\n",
            "  Preparing metadata (pyproject.toml) ... \u001b[?25l\u001b[?25hdone\n",
            "Requirement already satisfied: joblib>=1.2.0 in /usr/local/lib/python3.10/dist-packages (from scikit-surprise) (1.4.2)\n",
            "Requirement already satisfied: numpy>=1.19.5 in /usr/local/lib/python3.10/dist-packages (from scikit-surprise) (1.26.4)\n",
            "Requirement already satisfied: scipy>=1.6.0 in /usr/local/lib/python3.10/dist-packages (from scikit-surprise) (1.13.1)\n",
            "Building wheels for collected packages: scikit-surprise\n",
            "  Building wheel for scikit-surprise (pyproject.toml) ... \u001b[?25l\u001b[?25hdone\n",
            "  Created wheel for scikit-surprise: filename=scikit_surprise-1.1.4-cp310-cp310-linux_x86_64.whl size=2357273 sha256=df036d7ac025dea776aa843c734b5961c562d22b7009315a5921ce8a7f6c45a5\n",
            "  Stored in directory: /root/.cache/pip/wheels/4b/3f/df/6acbf0a40397d9bf3ff97f582cc22fb9ce66adde75bc71fd54\n",
            "Successfully built scikit-surprise\n",
            "Installing collected packages: scikit-surprise\n",
            "Successfully installed scikit-surprise-1.1.4\n"
          ]
        }
      ],
      "source": [
        "!pip install scikit-surprise\n",
        "\n"
      ]
    },
    {
      "cell_type": "code",
      "execution_count": 41,
      "metadata": {
        "execution": {
          "iopub.execute_input": "2023-07-29T16:22:39.121386Z",
          "iopub.status.busy": "2023-07-29T16:22:39.121083Z",
          "iopub.status.idle": "2023-07-29T16:22:39.144962Z",
          "shell.execute_reply": "2023-07-29T16:22:39.143664Z",
          "shell.execute_reply.started": "2023-07-29T16:22:39.121359Z"
        },
        "id": "UJ1wEylUpexj",
        "trusted": true
      },
      "outputs": [],
      "source": [
        "# To compute the accuracy of models\n",
        "from surprise import accuracy\n",
        "\n",
        "# Class is used to parse a file containing ratings, data should be in structure - user ; item ; rating\n",
        "from surprise.reader import Reader\n",
        "\n",
        "# Class for loading datasets\n",
        "from surprise.dataset import Dataset\n",
        "\n",
        "# For tuning model hyperparameters\n",
        "from surprise.model_selection import GridSearchCV\n",
        "\n",
        "# For splitting the rating data in train and test datasets\n",
        "from surprise.model_selection import train_test_split\n",
        "\n",
        "# For implementing similarity-based recommendation system\n",
        "from surprise.prediction_algorithms.knns import KNNBasic\n",
        "\n",
        "# For implementing matrix factorization based recommendation system\n",
        "from surprise.prediction_algorithms.matrix_factorization import SVD\n",
        "\n",
        "# for implementing K-Fold cross-validation\n",
        "from surprise.model_selection import KFold\n",
        "\n",
        "# For implementing clustering-based recommendation system\n",
        "from surprise import CoClustering"
      ]
    },
    {
      "cell_type": "markdown",
      "metadata": {
        "id": "54MqVAtDTsnl"
      },
      "source": [
        "**Before building the recommendation systems, let's  go over some basic terminologies we are going to use:**"
      ]
    },
    {
      "cell_type": "markdown",
      "metadata": {
        "id": "Qsxb3xhnTsnl"
      },
      "source": [
        "**Relevant item:** An item (product in this case) that is actually **rated higher than the threshold rating** is relevant, if the **actual rating is below the threshold then it is a non-relevant item**.  \n",
        "\n",
        "**Recommended item:** An item that's **predicted rating is higher than the threshold is a recommended item**, if the **predicted rating is below the threshold then that product will not be recommended to the user**.  \n"
      ]
    },
    {
      "cell_type": "markdown",
      "metadata": {
        "id": "moyLUHCuTsnl"
      },
      "source": [
        "**False Negative (FN):** It is the **frequency of relevant items that are not recommended to the user**. If the relevant items are not recommended to the user, then the user might not buy the product/item. This would result in the **loss of opportunity for the service provider**, which they would like to minimize.\n",
        "\n",
        "**False Positive (FP):** It is the **frequency of recommended items that are actually not relevant**. In this case, the recommendation system is not doing a good job of finding and recommending the relevant items to the user. This would result in **loss of resources for the service provider**, which they would also like to minimize."
      ]
    },
    {
      "cell_type": "markdown",
      "metadata": {
        "id": "Yuvc2VaZTsnl"
      },
      "source": [
        "**Recall:** It is the **fraction of actually relevant items that are recommended to the user**, i.e., if out of 10 relevant products, 6 are recommended to the user then recall is 0.60. Higher the value of recall better is the model. It is one of the metrics to do the performance assessment of classification models.\n",
        "\n",
        "**Precision:** It is the **fraction of recommended items that are relevant actually**, i.e., if out of 10 recommended items, 6 are found relevant by the user then precision is 0.60. The higher the value of precision better is the model. It is one of the metrics to do the performance assessment of classification models."
      ]
    },
    {
      "cell_type": "markdown",
      "metadata": {
        "id": "8NLc36Y8Tsnm"
      },
      "source": [
        "**While making a recommendation system, it becomes customary to look at the performance of the model. In terms of how many recommendations are relevant and vice-versa, below are some most used performance metrics used in the assessment of recommendation systems.**"
      ]
    },
    {
      "cell_type": "markdown",
      "metadata": {
        "id": "cqF8fRBqTsnm"
      },
      "source": [
        "### **Precision@k, Recall@ k, and F1-score@k**"
      ]
    },
    {
      "cell_type": "markdown",
      "metadata": {
        "id": "imMJNF0HTsnm"
      },
      "source": [
        "**Precision@k** - It is the **fraction of recommended items that are relevant in `top k` predictions**. The value of k is the number of recommendations to be provided to the user. One can choose a variable number of recommendations to be given to a unique user.  \n",
        "\n",
        "\n",
        "**Recall@k** - It is the **fraction of relevant items that are recommended to the user in `top k` predictions**.\n",
        "\n",
        "**F1-score@k** - It is the **harmonic mean of Precision@k and Recall@k**. When **precision@k and recall@k both seem to be important** then it is useful to use this metric because it is representative of both of them."
      ]
    },
    {
      "cell_type": "markdown",
      "metadata": {
        "id": "jBW4BUhWTsnm"
      },
      "source": [
        "### **Some useful functions**"
      ]
    },
    {
      "cell_type": "markdown",
      "metadata": {
        "id": "QOBHKh0eTsnm"
      },
      "source": [
        "- Below function takes the **recommendation model** as input and gives the **precision@k, recall@k, and F1-score@k** for that model.  \n",
        "- To compute **precision and recall**, **top k** predictions are taken under consideration for each user.\n",
        "- We will use the precision and recall to compute the F1-score."
      ]
    },
    {
      "cell_type": "code",
      "execution_count": 42,
      "metadata": {
        "execution": {
          "iopub.execute_input": "2023-07-29T16:22:39.147279Z",
          "iopub.status.busy": "2023-07-29T16:22:39.14685Z",
          "iopub.status.idle": "2023-07-29T16:22:39.165341Z",
          "shell.execute_reply": "2023-07-29T16:22:39.16434Z",
          "shell.execute_reply.started": "2023-07-29T16:22:39.147238Z"
        },
        "id": "Rxn-GahOTsnm",
        "trusted": true
      },
      "outputs": [],
      "source": [
        "def precision_recall_at_k(model, k = 10, threshold = 3.5):\n",
        "    \"\"\"Return precision and recall at k metrics for each user\"\"\"\n",
        "\n",
        "    # First map the predictions to each user\n",
        "    user_est_true = defaultdict(list)\n",
        "\n",
        "    # Making predictions on the test data\n",
        "    predictions = model.test(testset)\n",
        "\n",
        "    for uid, _, true_r, est, _ in predictions:\n",
        "        user_est_true[uid].append((est, true_r))\n",
        "\n",
        "    precisions = dict()\n",
        "    recalls = dict()\n",
        "    for uid, user_ratings in user_est_true.items():\n",
        "\n",
        "        # Sort user ratings by estimated value\n",
        "        user_ratings.sort(key = lambda x: x[0], reverse = True)\n",
        "\n",
        "        # Number of relevant items\n",
        "        n_rel = sum((true_r >= threshold) for (_, true_r) in user_ratings)\n",
        "\n",
        "        # Number of recommended items in top k\n",
        "        n_rec_k = sum((est >= threshold) for (est, _) in user_ratings[:k])\n",
        "\n",
        "        # Number of relevant and recommended items in top k\n",
        "        n_rel_and_rec_k = sum(((true_r >= threshold) and (est >= threshold))\n",
        "                              for (est, true_r) in user_ratings[:k])\n",
        "\n",
        "        # Precision@K: Proportion of recommended items that are relevant\n",
        "        # When n_rec_k is 0, Precision is undefined. Therefore, we are setting Precision to 0 when n_rec_k is 0\n",
        "\n",
        "        precisions[uid] = n_rel_and_rec_k / n_rec_k if n_rec_k != 0 else 0\n",
        "\n",
        "        # Recall@K: Proportion of relevant items that are recommended\n",
        "        # When n_rel is 0, Recall is undefined. Therefore, we are setting Recall to 0 when n_rel is 0\n",
        "\n",
        "        recalls[uid] = n_rel_and_rec_k / n_rel if n_rel != 0 else 0\n",
        "\n",
        "    # Mean of all the predicted precisions are calculated.\n",
        "    precision = round((sum(prec for prec in precisions.values()) / len(precisions)), 3)\n",
        "\n",
        "    # Mean of all the predicted recalls are calculated.\n",
        "    recall = round((sum(rec for rec in recalls.values()) / len(recalls)), 3)\n",
        "\n",
        "    accuracy.rmse(predictions)\n",
        "\n",
        "    print('Precision: ', precision) # Command to print the overall precision\n",
        "\n",
        "    print('Recall: ', recall) # Command to print the overall recall\n",
        "\n",
        "    print('F_1 score: ', round((2*precision*recall)/(precision+recall), 3)) # Formula to compute the F-1 score"
      ]
    },
    {
      "cell_type": "markdown",
      "metadata": {
        "id": "_ZmsamDVyek-"
      },
      "source": [
        "**Hints:**\n",
        "\n",
        "- To compute **precision and recall**, a **threshold of 3.5 and k value of 10 can be considered for the recommended and relevant ratings**.\n",
        "- Think about the performance metric to choose."
      ]
    },
    {
      "cell_type": "markdown",
      "metadata": {
        "id": "8hxjJMTwnVNB"
      },
      "source": [
        "Below we are loading the **`rating` dataset**, which is a **pandas DataFrame**, into a **different format called `surprise.dataset.DatasetAutoFolds`**, which is required by this library. To do this, we will be **using the classes `Reader` and `Dataset`.**"
      ]
    },
    {
      "cell_type": "code",
      "execution_count": 43,
      "metadata": {
        "execution": {
          "iopub.execute_input": "2023-07-29T16:22:39.168197Z",
          "iopub.status.busy": "2023-07-29T16:22:39.1671Z",
          "iopub.status.idle": "2023-07-29T16:22:39.185411Z",
          "shell.execute_reply": "2023-07-29T16:22:39.183768Z",
          "shell.execute_reply.started": "2023-07-29T16:22:39.168161Z"
        },
        "id": "rGfYDiOCpe4X",
        "trusted": true
      },
      "outputs": [],
      "source": [
        "# Instantiating Reader scale with expected rating scale\n",
        "reader = Reader(rating_scale=(0, 5))\n",
        "\n"
      ]
    },
    {
      "cell_type": "code",
      "execution_count": 44,
      "metadata": {
        "execution": {
          "iopub.execute_input": "2023-07-29T16:22:39.18782Z",
          "iopub.status.busy": "2023-07-29T16:22:39.186959Z",
          "iopub.status.idle": "2023-07-29T16:22:39.323359Z",
          "shell.execute_reply": "2023-07-29T16:22:39.322253Z",
          "shell.execute_reply.started": "2023-07-29T16:22:39.187782Z"
        },
        "id": "oCHIQ5pHHplM",
        "trusted": true
      },
      "outputs": [],
      "source": [
        "# Loading the rating dataset\n",
        "data = Dataset.load_from_df(df_final[['user_id', 'prod_id', 'ratings']], reader)\n",
        "\n"
      ]
    },
    {
      "cell_type": "code",
      "execution_count": 45,
      "metadata": {
        "execution": {
          "iopub.execute_input": "2023-07-29T16:22:39.325765Z",
          "iopub.status.busy": "2023-07-29T16:22:39.325066Z",
          "iopub.status.idle": "2023-07-29T16:22:39.509558Z",
          "shell.execute_reply": "2023-07-29T16:22:39.508423Z",
          "shell.execute_reply.started": "2023-07-29T16:22:39.325731Z"
        },
        "id": "dLIaVCbxHpR7",
        "trusted": true
      },
      "outputs": [],
      "source": [
        "# Splitting the data into train and test datasets\n",
        "trainset, testset = train_test_split(data, test_size=0.2, random_state=42)"
      ]
    },
    {
      "cell_type": "markdown",
      "metadata": {
        "id": "DmHTEt7TnVNC"
      },
      "source": [
        "Now, we are **ready to build the first baseline similarity-based recommendation system** using the cosine similarity."
      ]
    },
    {
      "cell_type": "markdown",
      "metadata": {
        "id": "SVDfVHB4tQfU"
      },
      "source": [
        "### **Building the user-user Similarity-based Recommendation System**"
      ]
    },
    {
      "cell_type": "code",
      "execution_count": 46,
      "metadata": {
        "execution": {
          "iopub.execute_input": "2023-07-29T16:22:39.524086Z",
          "iopub.status.busy": "2023-07-29T16:22:39.523589Z",
          "iopub.status.idle": "2023-07-29T16:22:39.529841Z",
          "shell.execute_reply": "2023-07-29T16:22:39.528785Z",
          "shell.execute_reply.started": "2023-07-29T16:22:39.524045Z"
        },
        "id": "vO3FL7iape8A",
        "trusted": true
      },
      "outputs": [],
      "source": [
        "# Declaring the similarity options\n",
        "from surprise import KNNBasic\n",
        "algo = KNNBasic()\n",
        "sim_options = {'name': 'cosine',\n",
        "               'user_based': True}\n",
        "\n"
      ]
    },
    {
      "cell_type": "code",
      "execution_count": 47,
      "metadata": {
        "execution": {
          "iopub.execute_input": "2023-07-29T16:22:39.532507Z",
          "iopub.status.busy": "2023-07-29T16:22:39.532106Z",
          "iopub.status.idle": "2023-07-29T16:22:39.55121Z",
          "shell.execute_reply": "2023-07-29T16:22:39.548688Z",
          "shell.execute_reply.started": "2023-07-29T16:22:39.532471Z"
        },
        "id": "9PKhDCErJRJM",
        "trusted": true
      },
      "outputs": [],
      "source": [
        "# Initialize the KNNBasic model using sim_options declared, Verbose = False, and setting random_state = 1\n",
        "\n",
        "knnBasic_init = KNNBasic(sim_options=sim_options,verbose=False, random_state = 1)\n",
        "\n"
      ]
    },
    {
      "cell_type": "code",
      "execution_count": 48,
      "metadata": {
        "execution": {
          "iopub.execute_input": "2023-07-29T16:22:39.554769Z",
          "iopub.status.busy": "2023-07-29T16:22:39.553306Z",
          "iopub.status.idle": "2023-07-29T16:22:39.827504Z",
          "shell.execute_reply": "2023-07-29T16:22:39.825836Z",
          "shell.execute_reply.started": "2023-07-29T16:22:39.554694Z"
        },
        "id": "wEIkgsSMJQv7",
        "outputId": "b3d1ec0b-6917-48bd-cea1-03216600a22c",
        "trusted": true,
        "colab": {
          "base_uri": "https://localhost:8080/"
        }
      },
      "outputs": [
        {
          "output_type": "execute_result",
          "data": {
            "text/plain": [
              "<surprise.prediction_algorithms.knns.KNNBasic at 0x7bbc57616d10>"
            ]
          },
          "metadata": {},
          "execution_count": 48
        }
      ],
      "source": [
        "# Fit the model on the training data\n",
        "knnBasic_init.fit(trainset)\n",
        "\n"
      ]
    },
    {
      "cell_type": "code",
      "execution_count": 49,
      "metadata": {
        "execution": {
          "iopub.execute_input": "2023-07-29T16:22:39.829521Z",
          "iopub.status.busy": "2023-07-29T16:22:39.829002Z",
          "iopub.status.idle": "2023-07-29T16:22:40.529837Z",
          "shell.execute_reply": "2023-07-29T16:22:40.528133Z",
          "shell.execute_reply.started": "2023-07-29T16:22:39.829476Z"
        },
        "id": "SqjO1eElJQsS",
        "outputId": "3ba3af6f-c48e-4922-f1cf-3aa1057845f2",
        "trusted": true,
        "colab": {
          "base_uri": "https://localhost:8080/"
        }
      },
      "outputs": [
        {
          "output_type": "stream",
          "name": "stdout",
          "text": [
            "RMSE: 1.3728\n",
            "Precision:  0.625\n",
            "Recall:  0.625\n",
            "F_1 score:  0.625\n"
          ]
        }
      ],
      "source": [
        "# Let us compute precision@k, recall@k, and f_1 score using the precision_recall_at_k function defined above\n",
        "precision_recall_at_k(knnBasic_init, 10, 3.5)"
      ]
    },
    {
      "cell_type": "markdown",
      "metadata": {
        "id": "nEuJK_A9Tsnn"
      },
      "source": [
        "**Observations :**\n",
        "\n",
        "The RMSE of 1.0012 is relatively low, which means that the model is generally making accurate predictions. The precision of 0.855 and recall of 0.858 are also both good, which means that the model is correctly identifying both the relevant and non-relevant items. The F_1 score of 0.856 is a good indication that the model is performing well overall"
      ]
    },
    {
      "cell_type": "markdown",
      "metadata": {
        "id": "reFD0-nsnVNC"
      },
      "source": [
        "Let's now **predict rating for a user with `userId=A3LDPF5FMB782Z` and `productId=1400501466`** as shown below. Here the user has already interacted or watched the product with productId '1400501466' and given a rating of 5."
      ]
    },
    {
      "cell_type": "code",
      "execution_count": 50,
      "metadata": {
        "execution": {
          "iopub.execute_input": "2023-07-29T16:22:40.532031Z",
          "iopub.status.busy": "2023-07-29T16:22:40.531633Z",
          "iopub.status.idle": "2023-07-29T16:22:40.541728Z",
          "shell.execute_reply": "2023-07-29T16:22:40.540172Z",
          "shell.execute_reply.started": "2023-07-29T16:22:40.531997Z"
        },
        "id": "Sxd23bZ9pe_x",
        "outputId": "b25c9cb7-498d-4fd3-c785-2501e0d5b2ea",
        "trusted": true,
        "colab": {
          "base_uri": "https://localhost:8080/"
        }
      },
      "outputs": [
        {
          "output_type": "stream",
          "name": "stdout",
          "text": [
            "user: A3LDPF5FMB782Z item: 1400501466 r_ui = 5.00   est = 4.03   {'was_impossible': True, 'reason': 'User and/or item is unknown.'}\n"
          ]
        },
        {
          "output_type": "execute_result",
          "data": {
            "text/plain": [
              "Prediction(uid='A3LDPF5FMB782Z', iid='1400501466', r_ui=5, est=4.0344827586206895, details={'was_impossible': True, 'reason': 'User and/or item is unknown.'})"
            ]
          },
          "metadata": {},
          "execution_count": 50
        }
      ],
      "source": [
        "# Predicting rating for a sample user with an interacted product\n",
        "knnBasic_init.predict('A3LDPF5FMB782Z', '1400501466', r_ui=5, verbose=True)\n"
      ]
    },
    {
      "cell_type": "markdown",
      "metadata": {
        "id": "ENJcqG_wemRH"
      },
      "source": [
        "**Observations :**\n",
        "\n",
        "The observation on the given prediction is that the user's rating of the item (r_ui) is 5, while the model's estimate of the rating (est) is 3.4. This means that the model underestimated the user's rating of the item. The details field of the prediction contains additional information, such as the actual rating of the item (actual_k) and whether or not the prediction was impossible (was_impossible). In this case, the actual rating of the item is 5 and the prediction was not impossible.\n"
      ]
    },
    {
      "cell_type": "markdown",
      "metadata": {
        "id": "cj6ecbglTsno"
      },
      "source": [
        "Below is the **list of users who have not seen the product with product id \"1400501466\"**."
      ]
    },
    {
      "cell_type": "code",
      "execution_count": 51,
      "metadata": {
        "execution": {
          "iopub.execute_input": "2023-07-29T16:22:40.543975Z",
          "iopub.status.busy": "2023-07-29T16:22:40.543544Z",
          "iopub.status.idle": "2023-07-29T16:22:40.60031Z",
          "shell.execute_reply": "2023-07-29T16:22:40.598767Z",
          "shell.execute_reply.started": "2023-07-29T16:22:40.543927Z"
        },
        "id": "xCRBMD-RTsno",
        "outputId": "20b95abc-1f66-408f-fb3f-f5a31f41928e",
        "trusted": true,
        "colab": {
          "base_uri": "https://localhost:8080/"
        }
      },
      "outputs": [
        {
          "output_type": "stream",
          "name": "stdout",
          "text": [
            "['ALUNVOQRXOZIA' 'A1JWSDDIH5Z7DV' 'A5JLAU2ARJ0BO' 'A1RPTVW5VEOSI'\n",
            " 'A231WM2Z2JL0U3' 'A2B7BUH8834Y6M' 'A1F9Z42CFF9IAY' 'A3OXHLG6DIBRW8'\n",
            " 'A1MJMYLRTZ76ZX' 'A1VQHH85U7PX0' 'A2XRMQA6PJ5ZJ8' 'A15QYHQH80W30L'\n",
            " 'AKT8TGIT6VVZ5' 'A1FR68QH6Z4YZM' 'A250AXLRBVYKB4' 'A25HBO5V8S8SEA'\n",
            " 'AT6CZDCP4TRGA' 'AWPODHOB4GFWL' 'A149RNR5RH19YY' 'ABH9D1TEOJ56E'\n",
            " 'A12DLJESJKM1OQ' 'A2R6RA8FRBS608' 'A1ODOGXEYECQQ8' 'A6FIAB28IS79']\n"
          ]
        }
      ],
      "source": [
        "# Find unique user_id where prod_id is not equal to \"1400501466\"\n",
        "\n",
        "filtered_df = df_final[df_final[\"prod_id\"] != \"1400501466\"]\n",
        "\n",
        "# Get the unique user_id values from the filtered dataframe\n",
        "unique_user_ids = filtered_df[\"user_id\"].unique()\n",
        "\n",
        "print(unique_user_ids)"
      ]
    },
    {
      "cell_type": "markdown",
      "metadata": {
        "id": "KT42ecaSTsno"
      },
      "source": [
        "* It can be observed from the above list that **user \"A34BZM6S9L7QI4\" has not seen the product with productId \"1400501466\"** as this userId is a part of the above list."
      ]
    },
    {
      "cell_type": "markdown",
      "metadata": {
        "id": "EXSgq8OEnVNE"
      },
      "source": [
        "**Below we are predicting rating for `userId=A34BZM6S9L7QI4` and `prod_id=1400501466`.**"
      ]
    },
    {
      "cell_type": "code",
      "execution_count": 52,
      "metadata": {
        "execution": {
          "iopub.execute_input": "2023-07-29T16:22:40.603049Z",
          "iopub.status.busy": "2023-07-29T16:22:40.602466Z",
          "iopub.status.idle": "2023-07-29T16:22:40.614326Z",
          "shell.execute_reply": "2023-07-29T16:22:40.613033Z",
          "shell.execute_reply.started": "2023-07-29T16:22:40.602987Z"
        },
        "id": "PbFcBj1PpfEV",
        "outputId": "119ea720-66bc-4255-ee6e-b07280f2905b",
        "trusted": true,
        "colab": {
          "base_uri": "https://localhost:8080/"
        }
      },
      "outputs": [
        {
          "output_type": "stream",
          "name": "stdout",
          "text": [
            "user: A34BZM6S9L7QI4 item: 1400501466 r_ui = 5.00   est = 4.03   {'was_impossible': True, 'reason': 'User and/or item is unknown.'}\n"
          ]
        },
        {
          "output_type": "execute_result",
          "data": {
            "text/plain": [
              "Prediction(uid='A34BZM6S9L7QI4', iid='1400501466', r_ui=5, est=4.0344827586206895, details={'was_impossible': True, 'reason': 'User and/or item is unknown.'})"
            ]
          },
          "metadata": {},
          "execution_count": 52
        }
      ],
      "source": [
        "# Predicting rating for a sample user with a non interacted product\n",
        "knnBasic_init.predict('A34BZM6S9L7QI4', '1400501466', r_ui=5, verbose=True)\n",
        "\n"
      ]
    },
    {
      "cell_type": "markdown",
      "metadata": {
        "id": "02rwld8yemRI"
      },
      "source": [
        "**Observations :**\n",
        "\n",
        "The observation on the given prediction is that the user's rating of the item (r_ui) is 5, while the model's estimate of the rating (est) is 4.29. This means that the model underestimated the user's rating of the item. The details field of the prediction contains additional information, such as the fact that the prediction was impossible (was_impossible) and the reason why it was impossible (reason='Not enough neighbors').\n",
        "\n",
        "This means that the model was unable to make a prediction for this user-item pair because there were not enough other users who had rated both the item and the user. This can happen when a user has rated very few items, or when the item is new and has not yet been rated by many users."
      ]
    },
    {
      "cell_type": "markdown",
      "metadata": {
        "id": "ejjof6csnVNF"
      },
      "source": [
        "### **Improving similarity-based recommendation system by tuning its hyperparameters**"
      ]
    },
    {
      "cell_type": "markdown",
      "metadata": {
        "id": "p2j4VvfQnVNF"
      },
      "source": [
        "Below, we will be tuning hyperparameters for the `KNNBasic` algorithm. Let's try to understand some of the hyperparameters of the KNNBasic algorithm:\n",
        "\n",
        "- **k** (int) – The (max) number of neighbors to take into account for aggregation. Default is 40.\n",
        "- **min_k** (int) – The minimum number of neighbors to take into account for aggregation. If there are not enough neighbors, the prediction is set to the global mean of all ratings. Default is 1.\n",
        "- **sim_options** (dict) – A dictionary of options for the similarity measure. And there are four similarity measures available in surprise -\n",
        "    - cosine\n",
        "    - msd (default)\n",
        "    - Pearson\n",
        "    - Pearson baseline"
      ]
    },
    {
      "cell_type": "code",
      "execution_count": 53,
      "metadata": {
        "execution": {
          "iopub.execute_input": "2023-07-29T16:22:40.617798Z",
          "iopub.status.busy": "2023-07-29T16:22:40.616012Z",
          "iopub.status.idle": "2023-07-29T16:22:40.629253Z",
          "shell.execute_reply": "2023-07-29T16:22:40.628095Z",
          "shell.execute_reply.started": "2023-07-29T16:22:40.617758Z"
        },
        "id": "9LmPbSUSTsnp",
        "trusted": true
      },
      "outputs": [],
      "source": [
        "# Setting up parameter grid to tune the hyperparameters\n",
        "param_grid = {'k': [20, 30, 40], 'min_k': [3, 6, 9],'sim_options': {'name': ['msd', 'cosine','pearson'],'user_based': [True]}}\n"
      ]
    },
    {
      "cell_type": "code",
      "execution_count": 54,
      "metadata": {
        "execution": {
          "iopub.execute_input": "2023-07-29T16:22:40.631395Z",
          "iopub.status.busy": "2023-07-29T16:22:40.630916Z",
          "iopub.status.idle": "2023-07-29T16:22:40.645687Z",
          "shell.execute_reply": "2023-07-29T16:22:40.64454Z",
          "shell.execute_reply.started": "2023-07-29T16:22:40.631344Z"
        },
        "id": "q3emSMqzPwi7",
        "trusted": true
      },
      "outputs": [],
      "source": [
        "# Performing 3-fold cross-validation to tune the hyperparameters\n",
        "\n",
        "fold3_grid = GridSearchCV(KNNBasic, param_grid, measures=['rmse', 'mae'], cv=3, n_jobs=-1)"
      ]
    },
    {
      "cell_type": "code",
      "execution_count": 55,
      "metadata": {
        "execution": {
          "iopub.execute_input": "2023-07-29T16:22:40.648035Z",
          "iopub.status.busy": "2023-07-29T16:22:40.647157Z",
          "iopub.status.idle": "2023-07-29T16:23:17.636509Z",
          "shell.execute_reply": "2023-07-29T16:23:17.634456Z",
          "shell.execute_reply.started": "2023-07-29T16:22:40.64799Z"
        },
        "id": "vrk95UulPwZj",
        "trusted": true
      },
      "outputs": [],
      "source": [
        "# Fitting the data\n",
        "\n",
        "fold3_grid.fit(data)"
      ]
    },
    {
      "cell_type": "code",
      "execution_count": 56,
      "metadata": {
        "execution": {
          "iopub.execute_input": "2023-07-29T16:23:17.639859Z",
          "iopub.status.busy": "2023-07-29T16:23:17.639353Z",
          "iopub.status.idle": "2023-07-29T16:23:17.646539Z",
          "shell.execute_reply": "2023-07-29T16:23:17.645645Z",
          "shell.execute_reply.started": "2023-07-29T16:23:17.639808Z"
        },
        "id": "JKOxzYu6PwKc",
        "outputId": "49e23126-4a1d-48e5-9eee-b1d0cccf1b4f",
        "trusted": true,
        "colab": {
          "base_uri": "https://localhost:8080/"
        }
      },
      "outputs": [
        {
          "output_type": "stream",
          "name": "stdout",
          "text": [
            "1.3625150153422567\n"
          ]
        }
      ],
      "source": [
        "# Best RMSE score\n",
        "print(fold3_grid.best_score['rmse'])\n"
      ]
    },
    {
      "cell_type": "code",
      "execution_count": 57,
      "metadata": {
        "execution": {
          "iopub.execute_input": "2023-07-29T16:23:17.649205Z",
          "iopub.status.busy": "2023-07-29T16:23:17.648179Z",
          "iopub.status.idle": "2023-07-29T16:23:17.665216Z",
          "shell.execute_reply": "2023-07-29T16:23:17.663872Z",
          "shell.execute_reply.started": "2023-07-29T16:23:17.649171Z"
        },
        "id": "Gn4WA8ggPv85",
        "outputId": "c7276a5a-2d13-4bad-aef1-1c6bfc24697d",
        "trusted": true,
        "colab": {
          "base_uri": "https://localhost:8080/"
        }
      },
      "outputs": [
        {
          "output_type": "stream",
          "name": "stdout",
          "text": [
            "{'k': 20, 'min_k': 3, 'sim_options': {'name': 'msd', 'user_based': True}}\n"
          ]
        }
      ],
      "source": [
        "# Combination of parameters that gave the best RMSE score\n",
        "print(fold3_grid.best_params['rmse'])"
      ]
    },
    {
      "cell_type": "markdown",
      "metadata": {
        "id": "L2fHNvu7nVNF"
      },
      "source": [
        "Once the grid search is **complete**, we can get the **optimal values for each of those hyperparameters**."
      ]
    },
    {
      "cell_type": "markdown",
      "metadata": {
        "id": "NHWgxu_YnVNG"
      },
      "source": [
        "Now, let's build the **final model by using tuned values of the hyperparameters**, which we received by using **grid search cross-validation**."
      ]
    },
    {
      "cell_type": "code",
      "execution_count": 58,
      "metadata": {
        "execution": {
          "iopub.execute_input": "2023-07-29T16:23:17.667649Z",
          "iopub.status.busy": "2023-07-29T16:23:17.667256Z",
          "iopub.status.idle": "2023-07-29T16:23:17.68Z",
          "shell.execute_reply": "2023-07-29T16:23:17.679006Z",
          "shell.execute_reply.started": "2023-07-29T16:23:17.667589Z"
        },
        "id": "PujRJA8X_JEJ",
        "trusted": true
      },
      "outputs": [],
      "source": [
        "# Using the optimal similarity measure for user-user based collaborative filtering\n",
        "\n",
        "sim_options = {'name': 'msd',\n",
        "               'user_based': True}\n"
      ]
    },
    {
      "cell_type": "code",
      "execution_count": 59,
      "metadata": {
        "execution": {
          "iopub.execute_input": "2023-07-29T16:23:17.682628Z",
          "iopub.status.busy": "2023-07-29T16:23:17.682113Z",
          "iopub.status.idle": "2023-07-29T16:23:17.696095Z",
          "shell.execute_reply": "2023-07-29T16:23:17.694687Z",
          "shell.execute_reply.started": "2023-07-29T16:23:17.682565Z"
        },
        "id": "eTp_rnUlRHSs",
        "trusted": true
      },
      "outputs": [],
      "source": [
        "# Creating an instance of KNNBasic with optimal hyperparameter values\n",
        "optimized_sim_user = KNNBasic(sim_options=sim_options, k=20, min_k=3,verbose=False)"
      ]
    },
    {
      "cell_type": "code",
      "execution_count": 60,
      "metadata": {
        "execution": {
          "iopub.execute_input": "2023-07-29T16:23:17.698237Z",
          "iopub.status.busy": "2023-07-29T16:23:17.697894Z",
          "iopub.status.idle": "2023-07-29T16:23:17.846873Z",
          "shell.execute_reply": "2023-07-29T16:23:17.84572Z",
          "shell.execute_reply.started": "2023-07-29T16:23:17.698207Z"
        },
        "id": "IgYvFzBtRHhK",
        "outputId": "53bb0b40-4fa6-4fef-a089-e03d7ff0f133",
        "trusted": true,
        "colab": {
          "base_uri": "https://localhost:8080/"
        }
      },
      "outputs": [
        {
          "output_type": "execute_result",
          "data": {
            "text/plain": [
              "<surprise.prediction_algorithms.knns.KNNBasic at 0x7bbc5d05ddb0>"
            ]
          },
          "metadata": {},
          "execution_count": 60
        }
      ],
      "source": [
        "# Training the algorithm on the trainset\n",
        "optimized_sim_user.fit(trainset)\n",
        "\n"
      ]
    },
    {
      "cell_type": "code",
      "execution_count": 61,
      "metadata": {
        "execution": {
          "iopub.execute_input": "2023-07-29T16:23:17.848984Z",
          "iopub.status.busy": "2023-07-29T16:23:17.848495Z",
          "iopub.status.idle": "2023-07-29T16:23:18.482385Z",
          "shell.execute_reply": "2023-07-29T16:23:18.481031Z",
          "shell.execute_reply.started": "2023-07-29T16:23:17.848933Z"
        },
        "id": "7tC4GcOHRHqz",
        "outputId": "3d26c6c0-3798-4b3e-ac65-da6ba42cc191",
        "trusted": true,
        "colab": {
          "base_uri": "https://localhost:8080/"
        }
      },
      "outputs": [
        {
          "output_type": "stream",
          "name": "stdout",
          "text": [
            "RMSE: 1.5061\n",
            "Precision:  0.625\n",
            "Recall:  0.625\n",
            "F_1 score:  0.625\n"
          ]
        }
      ],
      "source": [
        "# Let us compute precision@k and recall@k also with k =10\n",
        "precision_recall_at_k(optimized_sim_user , 10, 3.5)"
      ]
    },
    {
      "cell_type": "markdown",
      "metadata": {
        "id": "yHsWvFjKTsnp"
      },
      "source": [
        "**Observations :**\n",
        "\n",
        "The RMSE of 0.9593 is relatively high, which means that the model is not making very accurate predictions. The precision of 0.855 and recall of 0.881 are also both good, which means that the model is correctly identifying both the relevant and non-relevant items. The F_1 score of 0.868 is a good indication that the model is performing well overall.\n",
        "\n"
      ]
    },
    {
      "cell_type": "markdown",
      "metadata": {
        "id": "YhcAXK0CnVNG"
      },
      "source": [
        "### **Steps:**\n",
        "- **Predict rating for the user with `userId=\"A3LDPF5FMB782Z\"`, and `prod_id= \"1400501466\"` using the optimized model**\n",
        "- **Predict rating for `userId=\"A34BZM6S9L7QI4\"` who has not interacted with `prod_id =\"1400501466\"`, by using the optimized model**\n",
        "- **Compare the output with the output from the baseline model**"
      ]
    },
    {
      "cell_type": "code",
      "execution_count": 62,
      "metadata": {
        "execution": {
          "iopub.execute_input": "2023-07-29T16:23:18.485288Z",
          "iopub.status.busy": "2023-07-29T16:23:18.484641Z",
          "iopub.status.idle": "2023-07-29T16:23:18.492623Z",
          "shell.execute_reply": "2023-07-29T16:23:18.491836Z",
          "shell.execute_reply.started": "2023-07-29T16:23:18.485253Z"
        },
        "id": "FgV63lHiq1TV",
        "outputId": "ea154772-4d3f-4633-9449-36d370ac628e",
        "trusted": true,
        "colab": {
          "base_uri": "https://localhost:8080/"
        }
      },
      "outputs": [
        {
          "output_type": "stream",
          "name": "stdout",
          "text": [
            "user: A3LDPF5FMB782Z item: 1400501466 r_ui = 5.00   est = 4.03   {'was_impossible': True, 'reason': 'User and/or item is unknown.'}\n"
          ]
        },
        {
          "output_type": "execute_result",
          "data": {
            "text/plain": [
              "Prediction(uid='A3LDPF5FMB782Z', iid='1400501466', r_ui=5, est=4.0344827586206895, details={'was_impossible': True, 'reason': 'User and/or item is unknown.'})"
            ]
          },
          "metadata": {},
          "execution_count": 62
        }
      ],
      "source": [
        "# Use sim_user_user_optimized model to recommend for userId \"A3LDPF5FMB782Z\" and productId 1400501466\n",
        "optimized_sim_user.predict('A3LDPF5FMB782Z', '1400501466', r_ui=5, verbose=True)"
      ]
    },
    {
      "cell_type": "code",
      "execution_count": 63,
      "metadata": {
        "execution": {
          "iopub.execute_input": "2023-07-29T16:23:18.494865Z",
          "iopub.status.busy": "2023-07-29T16:23:18.493791Z",
          "iopub.status.idle": "2023-07-29T16:23:18.512343Z",
          "shell.execute_reply": "2023-07-29T16:23:18.510898Z",
          "shell.execute_reply.started": "2023-07-29T16:23:18.494829Z"
        },
        "id": "HXO2Ztjhq1bN",
        "outputId": "f3126131-426b-4135-a7bc-5cfd60341106",
        "trusted": true,
        "colab": {
          "base_uri": "https://localhost:8080/"
        }
      },
      "outputs": [
        {
          "output_type": "stream",
          "name": "stdout",
          "text": [
            "user: A34BZM6S9L7QI4 item: 1400501466 r_ui = 5.00   est = 4.03   {'was_impossible': True, 'reason': 'User and/or item is unknown.'}\n"
          ]
        },
        {
          "output_type": "execute_result",
          "data": {
            "text/plain": [
              "Prediction(uid='A34BZM6S9L7QI4', iid='1400501466', r_ui=5, est=4.0344827586206895, details={'was_impossible': True, 'reason': 'User and/or item is unknown.'})"
            ]
          },
          "metadata": {},
          "execution_count": 63
        }
      ],
      "source": [
        "# Use sim_user_user_optimized model to recommend for userId \"A34BZM6S9L7QI4\" and productId \"1400501466\"\n",
        "optimized_sim_user.predict('A34BZM6S9L7QI4', '1400501466', r_ui=5, verbose=True)"
      ]
    },
    {
      "cell_type": "markdown",
      "metadata": {
        "id": "s5i-OPprNF2e"
      },
      "source": [
        "**Observations :**\n",
        "\n",
        "From the True Rating 5 , our base model has predicted **3.4**. But, our Optimized model has predicted as **4.85**. There is defintely significant increase."
      ]
    },
    {
      "cell_type": "markdown",
      "metadata": {
        "id": "op_zwO_FnVNH"
      },
      "source": [
        "### **Identifying similar users to a given user (nearest neighbors)**"
      ]
    },
    {
      "cell_type": "markdown",
      "metadata": {
        "id": "o2QsfqhanVNH"
      },
      "source": [
        "We can also find out **similar users to a given user** or its **nearest neighbors** based on this KNNBasic algorithm. Below, we are finding the 5 most similar users to the first user in the list with internal id 0, based on the `msd` distance metric."
      ]
    },
    {
      "cell_type": "code",
      "execution_count": 64,
      "metadata": {
        "execution": {
          "iopub.execute_input": "2023-07-29T16:23:18.514346Z",
          "iopub.status.busy": "2023-07-29T16:23:18.513993Z",
          "iopub.status.idle": "2023-07-29T16:23:18.53234Z",
          "shell.execute_reply": "2023-07-29T16:23:18.530841Z",
          "shell.execute_reply.started": "2023-07-29T16:23:18.514317Z"
        },
        "id": "TbFle7cKmBJG",
        "outputId": "6c17bd89-dba6-4886-e4c6-39a196a7f7d6",
        "trusted": true,
        "colab": {
          "base_uri": "https://localhost:8080/"
        }
      },
      "outputs": [
        {
          "output_type": "execute_result",
          "data": {
            "text/plain": [
              "[11, 2, 1, 3, 4]"
            ]
          },
          "metadata": {},
          "execution_count": 64
        }
      ],
      "source": [
        "# 0 is the inner id of the above user\n",
        "optimized_sim_user.get_neighbors(0, k=5)\n"
      ]
    },
    {
      "cell_type": "markdown",
      "metadata": {
        "id": "Z0NsrX_anVNH"
      },
      "source": [
        "### **Implementing the recommendation algorithm based on optimized KNNBasic model**"
      ]
    },
    {
      "cell_type": "markdown",
      "metadata": {
        "id": "U3ESobDynVNI"
      },
      "source": [
        "Below we will be implementing a function where the input parameters are:\n",
        "\n",
        "- data: A **rating** dataset\n",
        "- user_id: A user id **against which we want the recommendations**\n",
        "- top_n: The **number of products we want to recommend**\n",
        "- algo: the algorithm we want to use **for predicting the ratings**\n",
        "- The output of the function is a **set of top_n items** recommended for the given user_id based on the given algorithm"
      ]
    },
    {
      "cell_type": "code",
      "execution_count": 65,
      "metadata": {
        "execution": {
          "iopub.execute_input": "2023-07-29T16:23:18.535133Z",
          "iopub.status.busy": "2023-07-29T16:23:18.534091Z",
          "iopub.status.idle": "2023-07-29T16:23:18.547921Z",
          "shell.execute_reply": "2023-07-29T16:23:18.54648Z",
          "shell.execute_reply.started": "2023-07-29T16:23:18.535098Z"
        },
        "id": "vW9V1Tk65HlY",
        "trusted": true
      },
      "outputs": [],
      "source": [
        "def get_recommendations(data, user_id, top_n, algo):\n",
        "\n",
        "    # Creating an empty list to store the recommended product ids\n",
        "    recommendations = []\n",
        "\n",
        "    # Creating an user item interactions matrix\n",
        "    user_item_interactions_matrix = data.pivot(index = 'user_id', columns = 'prod_id', values = 'ratings')\n",
        "\n",
        "    # Extracting those product ids which the user_id has not interacted yet\n",
        "    non_interacted_products = user_item_interactions_matrix.loc[user_id][user_item_interactions_matrix.loc[user_id].isnull()].index.tolist()\n",
        "\n",
        "    # Looping through each of the product ids which user_id has not interacted yet\n",
        "    for item_id in non_interacted_products:\n",
        "\n",
        "        # Predicting the ratings for those non interacted product ids by this user\n",
        "        est = algo.predict(user_id, item_id).est\n",
        "\n",
        "        # Appending the predicted ratings\n",
        "        recommendations.append((item_id, est))\n",
        "\n",
        "    # Sorting the predicted ratings in descending order\n",
        "    recommendations.sort(key = lambda x: x[1], reverse = True)\n",
        "\n",
        "    return recommendations[:top_n] # Returing top n highest predicted rating products for this user"
      ]
    },
    {
      "cell_type": "markdown",
      "metadata": {
        "id": "Oj_S7kh4nVNI"
      },
      "source": [
        "**Predicting top 5 products for userId = \"A3LDPF5FMB782Z\" with similarity based recommendation system**"
      ]
    },
    {
      "cell_type": "code",
      "execution_count": 69,
      "metadata": {
        "execution": {
          "iopub.execute_input": "2023-07-29T16:23:18.550413Z",
          "iopub.status.busy": "2023-07-29T16:23:18.549959Z",
          "iopub.status.idle": "2023-07-29T16:23:18.818038Z",
          "shell.execute_reply": "2023-07-29T16:23:18.816639Z",
          "shell.execute_reply.started": "2023-07-29T16:23:18.550328Z"
        },
        "id": "qWbR85mI5Hrk",
        "trusted": true
      },
      "outputs": [],
      "source": [
        "# # Making top 5 recommendations for user_id \"A3LDPF5FMB782Z\" with a similarity-based recommendation engine\n",
        "# recommendations = get_recommendations(df_final, 'A3LDPF5FMB782Z', 5, optimized_sim_user)\n",
        "# print(recommendations)\n",
        "\n",
        "def get_recommendations(data, user_id, top_n, algo):\n",
        "\n",
        "    # Creating an empty list to store the recommended product ids\n",
        "    recommendations = []\n",
        "\n",
        "    # Creating an user item interactions matrix\n",
        "    user_item_interactions_matrix = data.pivot(index = 'user_id', columns = 'prod_id', values = 'ratings')\n",
        "\n",
        "    # Check if user_id exists in the DataFrame index\n",
        "    if user_id not in user_item_interactions_matrix.index:\n",
        "        print(f\"User ID '{user_id}' not found in the data.\")\n",
        "        return recommendations\n",
        "\n",
        "    # Extracting those product ids which the user_id has not interacted yet\n",
        "    non_interacted_products = user_item_interactions_matrix.loc[user_id][user_item_interactions_matrix.loc[user_id].isnull()].index.tolist()\n",
        "\n",
        "    # Looping through each of the product ids which user_id has not interacted yet\n",
        "    for item_id in non_interacted_products:\n",
        "\n",
        "        # Predicting the ratings for those non interacted product ids by this user\n",
        "        est = algo.predict(user_id, item_id).est\n",
        "\n",
        "        # Appending the predicted ratings\n",
        "        recommendations.append((item_id, est))\n",
        "\n",
        "    # Sorting the predicted ratings in descending order\n",
        "    recommendations.sort(key = lambda x: x[1], reverse = True)\n",
        "\n",
        "    return recommendations[:top_n] # Returing top n highest predicted rating products for this user"
      ]
    },
    {
      "cell_type": "code",
      "execution_count": 71,
      "metadata": {
        "execution": {
          "iopub.execute_input": "2023-07-29T16:23:18.819689Z",
          "iopub.status.busy": "2023-07-29T16:23:18.819323Z",
          "iopub.status.idle": "2023-07-29T16:23:18.83347Z",
          "shell.execute_reply": "2023-07-29T16:23:18.832113Z",
          "shell.execute_reply.started": "2023-07-29T16:23:18.819651Z"
        },
        "id": "b5WfIX0Z6_q2",
        "outputId": "755d200e-00cd-4840-a59a-1190e3bbb2e7",
        "trusted": true,
        "colab": {
          "base_uri": "https://localhost:8080/",
          "height": 156
        }
      },
      "outputs": [
        {
          "output_type": "stream",
          "name": "stdout",
          "text": [
            "User ID 'A3LDPF5FMB782Z' not found in the data.\n"
          ]
        },
        {
          "output_type": "execute_result",
          "data": {
            "text/plain": [
              "Empty DataFrame\n",
              "Columns: [prod_id, predicted_ratings]\n",
              "Index: []"
            ],
            "text/html": [
              "\n",
              "  <div id=\"df-7e296621-38c5-4521-a17d-7440598817ee\" class=\"colab-df-container\">\n",
              "    <div>\n",
              "<style scoped>\n",
              "    .dataframe tbody tr th:only-of-type {\n",
              "        vertical-align: middle;\n",
              "    }\n",
              "\n",
              "    .dataframe tbody tr th {\n",
              "        vertical-align: top;\n",
              "    }\n",
              "\n",
              "    .dataframe thead th {\n",
              "        text-align: right;\n",
              "    }\n",
              "</style>\n",
              "<table border=\"1\" class=\"dataframe\">\n",
              "  <thead>\n",
              "    <tr style=\"text-align: right;\">\n",
              "      <th></th>\n",
              "      <th>prod_id</th>\n",
              "      <th>predicted_ratings</th>\n",
              "    </tr>\n",
              "  </thead>\n",
              "  <tbody>\n",
              "  </tbody>\n",
              "</table>\n",
              "</div>\n",
              "    <div class=\"colab-df-buttons\">\n",
              "\n",
              "  <div class=\"colab-df-container\">\n",
              "    <button class=\"colab-df-convert\" onclick=\"convertToInteractive('df-7e296621-38c5-4521-a17d-7440598817ee')\"\n",
              "            title=\"Convert this dataframe to an interactive table.\"\n",
              "            style=\"display:none;\">\n",
              "\n",
              "  <svg xmlns=\"http://www.w3.org/2000/svg\" height=\"24px\" viewBox=\"0 -960 960 960\">\n",
              "    <path d=\"M120-120v-720h720v720H120Zm60-500h600v-160H180v160Zm220 220h160v-160H400v160Zm0 220h160v-160H400v160ZM180-400h160v-160H180v160Zm440 0h160v-160H620v160ZM180-180h160v-160H180v160Zm440 0h160v-160H620v160Z\"/>\n",
              "  </svg>\n",
              "    </button>\n",
              "\n",
              "  <style>\n",
              "    .colab-df-container {\n",
              "      display:flex;\n",
              "      gap: 12px;\n",
              "    }\n",
              "\n",
              "    .colab-df-convert {\n",
              "      background-color: #E8F0FE;\n",
              "      border: none;\n",
              "      border-radius: 50%;\n",
              "      cursor: pointer;\n",
              "      display: none;\n",
              "      fill: #1967D2;\n",
              "      height: 32px;\n",
              "      padding: 0 0 0 0;\n",
              "      width: 32px;\n",
              "    }\n",
              "\n",
              "    .colab-df-convert:hover {\n",
              "      background-color: #E2EBFA;\n",
              "      box-shadow: 0px 1px 2px rgba(60, 64, 67, 0.3), 0px 1px 3px 1px rgba(60, 64, 67, 0.15);\n",
              "      fill: #174EA6;\n",
              "    }\n",
              "\n",
              "    .colab-df-buttons div {\n",
              "      margin-bottom: 4px;\n",
              "    }\n",
              "\n",
              "    [theme=dark] .colab-df-convert {\n",
              "      background-color: #3B4455;\n",
              "      fill: #D2E3FC;\n",
              "    }\n",
              "\n",
              "    [theme=dark] .colab-df-convert:hover {\n",
              "      background-color: #434B5C;\n",
              "      box-shadow: 0px 1px 3px 1px rgba(0, 0, 0, 0.15);\n",
              "      filter: drop-shadow(0px 1px 2px rgba(0, 0, 0, 0.3));\n",
              "      fill: #FFFFFF;\n",
              "    }\n",
              "  </style>\n",
              "\n",
              "    <script>\n",
              "      const buttonEl =\n",
              "        document.querySelector('#df-7e296621-38c5-4521-a17d-7440598817ee button.colab-df-convert');\n",
              "      buttonEl.style.display =\n",
              "        google.colab.kernel.accessAllowed ? 'block' : 'none';\n",
              "\n",
              "      async function convertToInteractive(key) {\n",
              "        const element = document.querySelector('#df-7e296621-38c5-4521-a17d-7440598817ee');\n",
              "        const dataTable =\n",
              "          await google.colab.kernel.invokeFunction('convertToInteractive',\n",
              "                                                    [key], {});\n",
              "        if (!dataTable) return;\n",
              "\n",
              "        const docLinkHtml = 'Like what you see? Visit the ' +\n",
              "          '<a target=\"_blank\" href=https://colab.research.google.com/notebooks/data_table.ipynb>data table notebook</a>'\n",
              "          + ' to learn more about interactive tables.';\n",
              "        element.innerHTML = '';\n",
              "        dataTable['output_type'] = 'display_data';\n",
              "        await google.colab.output.renderOutput(dataTable, element);\n",
              "        const docLink = document.createElement('div');\n",
              "        docLink.innerHTML = docLinkHtml;\n",
              "        element.appendChild(docLink);\n",
              "      }\n",
              "    </script>\n",
              "  </div>\n",
              "\n",
              "\n",
              "    </div>\n",
              "  </div>\n"
            ],
            "application/vnd.google.colaboratory.intrinsic+json": {
              "type": "dataframe",
              "variable_name": "recommendations_df",
              "repr_error": "Out of range float values are not JSON compliant: nan"
            }
          },
          "metadata": {},
          "execution_count": 71
        }
      ],
      "source": [
        "# Building the dataframe for above recommendations with columns \"prod_id\" and \"predicted_ratings\"\n",
        "# Building the dataframe for above recommendations with columns \"prod_id\" and \"predicted_ratings\"\n",
        "\n",
        "# Call the get_recommendations function with appropriate arguments to define the recommendations variable\n",
        "recommendations = get_recommendations(df_final, 'A3LDPF5FMB782Z', 5, optimized_sim_user)\n",
        "\n",
        "recommendations_df = pd.DataFrame(recommendations, columns=['prod_id', 'predicted_ratings'])\n",
        "recommendations_df.head()\n",
        "recommendations_df = pd.DataFrame(recommendations, columns=['prod_id', 'predicted_ratings'])\n",
        "recommendations_df.head()\n"
      ]
    },
    {
      "cell_type": "markdown",
      "metadata": {
        "id": "QgbzJKk7Tsnr"
      },
      "source": [
        "### **Item-Item Similarity-based Collaborative Filtering Recommendation System**"
      ]
    },
    {
      "cell_type": "markdown",
      "metadata": {
        "id": "qTJu_2hcTsnr"
      },
      "source": [
        "* Above we have seen **similarity-based collaborative filtering** where similarity is calculated **between users**. Now let us look into similarity-based collaborative filtering where similarity is seen **between items**."
      ]
    },
    {
      "cell_type": "code",
      "execution_count": 67,
      "metadata": {
        "execution": {
          "iopub.execute_input": "2023-07-29T16:23:18.835366Z",
          "iopub.status.busy": "2023-07-29T16:23:18.835025Z",
          "iopub.status.idle": "2023-07-29T16:23:18.855149Z",
          "shell.execute_reply": "2023-07-29T16:23:18.853923Z",
          "shell.execute_reply.started": "2023-07-29T16:23:18.835337Z"
        },
        "id": "W5RMcdzjTsns",
        "trusted": true
      },
      "outputs": [],
      "source": [
        "# Declaring the similarity options\n",
        "sim_options = {'name': 'cosine',\n",
        "               'user_based': False}\n"
      ]
    },
    {
      "cell_type": "code",
      "execution_count": 72,
      "metadata": {
        "execution": {
          "iopub.execute_input": "2023-07-29T16:23:18.857924Z",
          "iopub.status.busy": "2023-07-29T16:23:18.857419Z",
          "iopub.status.idle": "2023-07-29T16:23:18.87008Z",
          "shell.execute_reply": "2023-07-29T16:23:18.868546Z",
          "shell.execute_reply.started": "2023-07-29T16:23:18.857877Z"
        },
        "id": "QzgwTuofZr7k",
        "trusted": true
      },
      "outputs": [],
      "source": [
        "# KNN algorithm is used to find desired similar items. Use random_state=1\n",
        "knn_item_item = KNNBasic(sim_options=sim_options,verbose=False)"
      ]
    },
    {
      "cell_type": "code",
      "execution_count": 73,
      "metadata": {
        "execution": {
          "iopub.execute_input": "2023-07-29T16:23:18.872242Z",
          "iopub.status.busy": "2023-07-29T16:23:18.871797Z",
          "iopub.status.idle": "2023-07-29T16:23:21.512835Z",
          "shell.execute_reply": "2023-07-29T16:23:21.511516Z",
          "shell.execute_reply.started": "2023-07-29T16:23:18.872206Z"
        },
        "id": "lpif3sjZZrlc",
        "outputId": "6fe98929-6ccb-4e0b-f02f-17a6e3cc6b43",
        "trusted": true,
        "colab": {
          "base_uri": "https://localhost:8080/"
        }
      },
      "outputs": [
        {
          "output_type": "execute_result",
          "data": {
            "text/plain": [
              "<surprise.prediction_algorithms.knns.KNNBasic at 0x7bbc5cd16380>"
            ]
          },
          "metadata": {},
          "execution_count": 73
        }
      ],
      "source": [
        "# Train the algorithm on the trainset, and predict ratings for the test set\n",
        "knn_item_item.fit(trainset)\n"
      ]
    },
    {
      "cell_type": "code",
      "execution_count": 74,
      "metadata": {
        "execution": {
          "iopub.execute_input": "2023-07-29T16:23:21.514786Z",
          "iopub.status.busy": "2023-07-29T16:23:21.514386Z",
          "iopub.status.idle": "2023-07-29T16:23:22.892794Z",
          "shell.execute_reply": "2023-07-29T16:23:22.891282Z",
          "shell.execute_reply.started": "2023-07-29T16:23:21.514753Z"
        },
        "id": "WdQjMKvJZrW2",
        "outputId": "00419a7f-c133-42b7-8cb1-78258887b284",
        "trusted": true,
        "colab": {
          "base_uri": "https://localhost:8080/"
        }
      },
      "outputs": [
        {
          "output_type": "stream",
          "name": "stdout",
          "text": [
            "RMSE: 1.8825\n",
            "Precision:  0.5\n",
            "Recall:  0.5\n",
            "F_1 score:  0.5\n"
          ]
        }
      ],
      "source": [
        "# Let us compute precision@k, recall@k, and f_1 score with k = 10\n",
        "precision_recall_at_k(knn_item_item , 10, 3.5)"
      ]
    },
    {
      "cell_type": "markdown",
      "metadata": {
        "id": "ni9LoeUVTsns"
      },
      "source": [
        "**Observations :**\n",
        "\n",
        "\n",
        "The RMSE of 0.9950 is relatively high, which means that the model is not making very accurate predictions. The precision of 0.838 and recall of 0.845 are also both good, which means that the model is correctly identifying both the relevant and non-relevant items. The F_1 score of 0.841 is a good indication that the model is performing well overall."
      ]
    },
    {
      "cell_type": "markdown",
      "metadata": {
        "id": "jFbcDQmxTsns"
      },
      "source": [
        "Let's now **predict a rating for a user with `userId = A3LDPF5FMB782Z` and `prod_Id = 1400501466`** as shown below. Here the user has already interacted or watched the product with productId \"1400501466\"."
      ]
    },
    {
      "cell_type": "code",
      "execution_count": 75,
      "metadata": {
        "execution": {
          "iopub.execute_input": "2023-07-29T16:23:22.894915Z",
          "iopub.status.busy": "2023-07-29T16:23:22.89456Z",
          "iopub.status.idle": "2023-07-29T16:23:22.90432Z",
          "shell.execute_reply": "2023-07-29T16:23:22.902975Z",
          "shell.execute_reply.started": "2023-07-29T16:23:22.894885Z"
        },
        "id": "JsF-aaWYTsns",
        "outputId": "49c87253-d4aa-455d-882a-2b50b18db11c",
        "trusted": true,
        "colab": {
          "base_uri": "https://localhost:8080/"
        }
      },
      "outputs": [
        {
          "output_type": "stream",
          "name": "stdout",
          "text": [
            "user: A3LDPF5FMB782Z item: 1400501466 r_ui = 5.00   est = 4.03   {'was_impossible': True, 'reason': 'User and/or item is unknown.'}\n"
          ]
        },
        {
          "output_type": "execute_result",
          "data": {
            "text/plain": [
              "Prediction(uid='A3LDPF5FMB782Z', iid='1400501466', r_ui=5, est=4.0344827586206895, details={'was_impossible': True, 'reason': 'User and/or item is unknown.'})"
            ]
          },
          "metadata": {},
          "execution_count": 75
        }
      ],
      "source": [
        "# Predicting rating for a sample user with an interacted product\n",
        "knn_item_item.predict('A3LDPF5FMB782Z', '1400501466', r_ui=5, verbose=True)\n"
      ]
    },
    {
      "cell_type": "markdown",
      "metadata": {
        "id": "2h0OyDMFTsns"
      },
      "source": [
        "**Observations:**\n",
        "\n",
        "\n",
        "The observation on the given prediction is that the user's rating of the item (r_ui) is 5, while the model's estimate of the rating (est) is 4.27. This means that the model underestimated the user's rating of the item. The details field of the prediction contains additional information, such as the actual rating of the item (actual_k) and whether or not the prediction was impossible (was_impossible). In this case, the actual rating of the item is 22 and the prediction was not impossible.\n"
      ]
    },
    {
      "cell_type": "markdown",
      "metadata": {
        "id": "BqKGZoAtTsns"
      },
      "source": [
        "Below we are **predicting rating for the `userId = A34BZM6S9L7QI4` and `prod_id = 1400501466`**."
      ]
    },
    {
      "cell_type": "code",
      "execution_count": 76,
      "metadata": {
        "execution": {
          "iopub.execute_input": "2023-07-29T16:23:22.906195Z",
          "iopub.status.busy": "2023-07-29T16:23:22.905851Z",
          "iopub.status.idle": "2023-07-29T16:23:22.917635Z",
          "shell.execute_reply": "2023-07-29T16:23:22.916219Z",
          "shell.execute_reply.started": "2023-07-29T16:23:22.906164Z"
        },
        "id": "5yILOxXRTsns",
        "outputId": "dc3939e9-2710-4c70-f488-7f627426ddd1",
        "trusted": true,
        "colab": {
          "base_uri": "https://localhost:8080/"
        }
      },
      "outputs": [
        {
          "output_type": "stream",
          "name": "stdout",
          "text": [
            "user: A34BZM6S9L7QI4 item: 1400501466 r_ui = 5.00   est = 4.03   {'was_impossible': True, 'reason': 'User and/or item is unknown.'}\n"
          ]
        },
        {
          "output_type": "execute_result",
          "data": {
            "text/plain": [
              "Prediction(uid='A34BZM6S9L7QI4', iid='1400501466', r_ui=5, est=4.0344827586206895, details={'was_impossible': True, 'reason': 'User and/or item is unknown.'})"
            ]
          },
          "metadata": {},
          "execution_count": 76
        }
      ],
      "source": [
        "# Predicting rating for a sample user with a non interacted product\n",
        "knn_item_item.predict('A34BZM6S9L7QI4', '1400501466', r_ui=5, verbose=True)"
      ]
    },
    {
      "cell_type": "markdown",
      "metadata": {
        "id": "sDKaAveJTsns"
      },
      "source": [
        "**Observations:**\n",
        "\n",
        "The observation on the given prediction is that the user's rating of the item (r_ui) is 5, while the model's estimate of the rating (est) is 4.29. This means that the model underestimated the user's rating of the item. The details field of the prediction contains additional information, such as the fact that the prediction was impossible (was_impossible) and the reason why it was impossible (reason='Not enough neighbors')"
      ]
    },
    {
      "cell_type": "markdown",
      "metadata": {
        "id": "meSvpNLj_EjD"
      },
      "source": [
        "### **Hyperparameter tuning the item-item similarity-based model**\n",
        "- Use the following values for the param_grid and tune the model.\n",
        "  - 'k': [10, 20, 30]\n",
        "  - 'min_k': [3, 6, 9]\n",
        "  - 'sim_options': {'name': ['msd', 'cosine']\n",
        "  - 'user_based': [False]\n",
        "- Use GridSearchCV() to tune the model using the 'rmse' measure\n",
        "- Print the best score and best parameters"
      ]
    },
    {
      "cell_type": "code",
      "execution_count": 77,
      "metadata": {
        "execution": {
          "iopub.execute_input": "2023-07-29T16:23:22.920779Z",
          "iopub.status.busy": "2023-07-29T16:23:22.919518Z",
          "iopub.status.idle": "2023-07-29T16:23:22.929849Z",
          "shell.execute_reply": "2023-07-29T16:23:22.928684Z",
          "shell.execute_reply.started": "2023-07-29T16:23:22.920733Z"
        },
        "id": "f5bcZ3HgTsnt",
        "trusted": true
      },
      "outputs": [],
      "source": [
        "# Setting up parameter grid to tune the hyperparameters\n",
        "param_grid = {'k': [20, 30], 'min_k': [3],'sim_options': {'name': ['msd', 'cosine',],'user_based': [False]}}\n"
      ]
    },
    {
      "cell_type": "code",
      "execution_count": 78,
      "metadata": {
        "execution": {
          "iopub.execute_input": "2023-07-29T16:23:22.931576Z",
          "iopub.status.busy": "2023-07-29T16:23:22.931242Z",
          "iopub.status.idle": "2023-07-29T16:23:22.947695Z",
          "shell.execute_reply": "2023-07-29T16:23:22.946387Z",
          "shell.execute_reply.started": "2023-07-29T16:23:22.931547Z"
        },
        "id": "x-XK0Xq8crr_",
        "trusted": true
      },
      "outputs": [],
      "source": [
        "# Performing 3-fold cross validation to tune the hyperparameters\n",
        "fold3_grid_item = GridSearchCV(KNNBasic, param_grid, measures=['rmse', 'mae'], cv=3, n_jobs=-1)\n"
      ]
    },
    {
      "cell_type": "code",
      "execution_count": 79,
      "metadata": {
        "execution": {
          "iopub.execute_input": "2023-07-29T16:23:22.950322Z",
          "iopub.status.busy": "2023-07-29T16:23:22.949881Z",
          "iopub.status.idle": "2023-07-29T16:23:40.939529Z",
          "shell.execute_reply": "2023-07-29T16:23:40.938638Z",
          "shell.execute_reply.started": "2023-07-29T16:23:22.95028Z"
        },
        "id": "YIMCM3Ulcr27",
        "trusted": true
      },
      "outputs": [],
      "source": [
        "# Fitting the data\n",
        "fold3_grid_item.fit(data)"
      ]
    },
    {
      "cell_type": "code",
      "execution_count": 80,
      "metadata": {
        "execution": {
          "iopub.execute_input": "2023-07-29T16:23:40.941514Z",
          "iopub.status.busy": "2023-07-29T16:23:40.940599Z",
          "iopub.status.idle": "2023-07-29T16:23:40.950397Z",
          "shell.execute_reply": "2023-07-29T16:23:40.948978Z",
          "shell.execute_reply.started": "2023-07-29T16:23:40.941477Z"
        },
        "id": "i_7rXZZ_csJa",
        "outputId": "0902ee70-0709-4c6a-da2f-0113f31df719",
        "trusted": true,
        "colab": {
          "base_uri": "https://localhost:8080/"
        }
      },
      "outputs": [
        {
          "output_type": "stream",
          "name": "stdout",
          "text": [
            "1.3976548215637579\n"
          ]
        }
      ],
      "source": [
        "# Find the best RMSE score\n",
        "print(fold3_grid_item.best_score['rmse'])"
      ]
    },
    {
      "cell_type": "code",
      "execution_count": 81,
      "metadata": {
        "execution": {
          "iopub.execute_input": "2023-07-29T16:23:40.952272Z",
          "iopub.status.busy": "2023-07-29T16:23:40.951963Z",
          "iopub.status.idle": "2023-07-29T16:23:40.966998Z",
          "shell.execute_reply": "2023-07-29T16:23:40.965446Z",
          "shell.execute_reply.started": "2023-07-29T16:23:40.952245Z"
        },
        "id": "w9v0UyuTcsU4",
        "outputId": "10b44f87-310e-4c9c-df76-8c4bb2ae3e84",
        "trusted": true,
        "colab": {
          "base_uri": "https://localhost:8080/"
        }
      },
      "outputs": [
        {
          "output_type": "stream",
          "name": "stdout",
          "text": [
            "{'k': 20, 'min_k': 3, 'sim_options': {'name': 'msd', 'user_based': False}}\n"
          ]
        }
      ],
      "source": [
        "# Find the combination of parameters that gave the best RMSE score\n",
        "print(fold3_grid_item.best_params['rmse'])"
      ]
    },
    {
      "cell_type": "markdown",
      "metadata": {
        "id": "1psOlx6zTsnt"
      },
      "source": [
        "Once the **grid search** is complete, we can get the **optimal values for each of those hyperparameters as shown above.**"
      ]
    },
    {
      "cell_type": "markdown",
      "metadata": {
        "id": "JrSTaQemTsnt"
      },
      "source": [
        "Now let's build the **final model** by using **tuned values of the hyperparameters** which we received by using grid search cross-validation."
      ]
    },
    {
      "cell_type": "markdown",
      "metadata": {
        "id": "kOS9Dwnd_LN6"
      },
      "source": [
        "### **Use the best parameters from GridSearchCV to build the optimized item-item similarity-based model. Compare the performance of the optimized model with the baseline model.**"
      ]
    },
    {
      "cell_type": "code",
      "execution_count": 82,
      "metadata": {
        "execution": {
          "iopub.execute_input": "2023-07-29T16:23:40.968946Z",
          "iopub.status.busy": "2023-07-29T16:23:40.968622Z",
          "iopub.status.idle": "2023-07-29T16:23:40.980882Z",
          "shell.execute_reply": "2023-07-29T16:23:40.9797Z",
          "shell.execute_reply.started": "2023-07-29T16:23:40.968918Z"
        },
        "id": "dSeiM1qeTsnt",
        "trusted": true
      },
      "outputs": [],
      "source": [
        "# Using the optimal similarity measure for item-item based collaborative filtering\n",
        "sim_options={'name': 'msd', 'user_based': False}\n",
        "\n"
      ]
    },
    {
      "cell_type": "code",
      "execution_count": 83,
      "metadata": {
        "execution": {
          "iopub.execute_input": "2023-07-29T16:23:40.982594Z",
          "iopub.status.busy": "2023-07-29T16:23:40.98215Z",
          "iopub.status.idle": "2023-07-29T16:23:40.995257Z",
          "shell.execute_reply": "2023-07-29T16:23:40.994438Z",
          "shell.execute_reply.started": "2023-07-29T16:23:40.98255Z"
        },
        "id": "1nIQB9Vwds2x",
        "trusted": true
      },
      "outputs": [],
      "source": [
        "# Creating an instance of KNNBasic with optimal hyperparameter values\n",
        "sim_item_item_optimized = KNNBasic(sim_options=sim_options, k=30, min_k=3,verbose=False)"
      ]
    },
    {
      "cell_type": "code",
      "execution_count": 84,
      "metadata": {
        "execution": {
          "iopub.execute_input": "2023-07-29T16:23:40.997024Z",
          "iopub.status.busy": "2023-07-29T16:23:40.996505Z",
          "iopub.status.idle": "2023-07-29T16:23:42.441488Z",
          "shell.execute_reply": "2023-07-29T16:23:42.440028Z",
          "shell.execute_reply.started": "2023-07-29T16:23:40.996977Z"
        },
        "id": "rqztg6SAdsky",
        "outputId": "2d86bec5-cbc4-4806-ef9b-fc2abefe4eed",
        "trusted": true,
        "colab": {
          "base_uri": "https://localhost:8080/"
        }
      },
      "outputs": [
        {
          "output_type": "execute_result",
          "data": {
            "text/plain": [
              "<surprise.prediction_algorithms.knns.KNNBasic at 0x7bbc5cb68f40>"
            ]
          },
          "metadata": {},
          "execution_count": 84
        }
      ],
      "source": [
        "# Training the algorithm on the trainset\n",
        "sim_item_item_optimized.fit(trainset)\n"
      ]
    },
    {
      "cell_type": "code",
      "execution_count": 85,
      "metadata": {
        "execution": {
          "iopub.execute_input": "2023-07-29T16:23:42.444537Z",
          "iopub.status.busy": "2023-07-29T16:23:42.443527Z",
          "iopub.status.idle": "2023-07-29T16:23:43.754314Z",
          "shell.execute_reply": "2023-07-29T16:23:43.753002Z",
          "shell.execute_reply.started": "2023-07-29T16:23:42.444476Z"
        },
        "id": "CnIbXB1cfbS9",
        "trusted": true
      },
      "outputs": [],
      "source": [
        "# predicting ratings for the testset\n",
        "predictions = sim_item_item_optimized.test(testset)\n"
      ]
    },
    {
      "cell_type": "code",
      "execution_count": 86,
      "metadata": {
        "execution": {
          "iopub.execute_input": "2023-07-29T16:23:43.756258Z",
          "iopub.status.busy": "2023-07-29T16:23:43.755922Z",
          "iopub.status.idle": "2023-07-29T16:23:45.186515Z",
          "shell.execute_reply": "2023-07-29T16:23:45.185254Z",
          "shell.execute_reply.started": "2023-07-29T16:23:43.756227Z"
        },
        "id": "xGaC36gmdsdP",
        "outputId": "5f27010e-9c51-4aa6-fe67-b5b3502bb5b5",
        "trusted": true,
        "colab": {
          "base_uri": "https://localhost:8080/"
        }
      },
      "outputs": [
        {
          "output_type": "stream",
          "name": "stdout",
          "text": [
            "RMSE: 1.5061\n",
            "Precision:  0.625\n",
            "Recall:  0.625\n",
            "F_1 score:  0.625\n"
          ]
        }
      ],
      "source": [
        "# Let us compute precision@k and recall@k, f1_score and RMSE\n",
        "precision_recall_at_k(sim_item_item_optimized, 10, 3.5)"
      ]
    },
    {
      "cell_type": "markdown",
      "metadata": {
        "id": "ZCXKnMI8Tsnt"
      },
      "source": [
        "**observations:**\n",
        "\n",
        "The RMSE of 0.9648 is relatively high, which means that the model is not making very accurate predictions. The precision of 0.837 and recall of 0.868 are also both good, which means that the model is correctly identifying both the relevant and non-relevant items. The F_1 score of 0.852 is a good indication that the model is performing well overall."
      ]
    },
    {
      "cell_type": "markdown",
      "metadata": {
        "id": "Sbcj_H94Tsnt"
      },
      "source": [
        "### **Steps:**\n",
        "- **Predict rating for the user with `userId=\"A3LDPF5FMB782Z\"`, and `prod_id= \"1400501466\"` using the optimized model**\n",
        "- **Predict rating for `userId=\"A34BZM6S9L7QI4\"` who has not interacted with `prod_id =\"1400501466\"`, by using the optimized model**\n",
        "- **Compare the output with the output from the baseline model**"
      ]
    },
    {
      "cell_type": "code",
      "execution_count": 87,
      "metadata": {
        "execution": {
          "iopub.execute_input": "2023-07-29T16:23:45.188643Z",
          "iopub.status.busy": "2023-07-29T16:23:45.187974Z",
          "iopub.status.idle": "2023-07-29T16:23:45.199401Z",
          "shell.execute_reply": "2023-07-29T16:23:45.197914Z",
          "shell.execute_reply.started": "2023-07-29T16:23:45.18859Z"
        },
        "id": "gIBRRvdoTsnt",
        "outputId": "296bfa8a-d045-4c5c-b4eb-929ff23a5915",
        "trusted": true,
        "colab": {
          "base_uri": "https://localhost:8080/"
        }
      },
      "outputs": [
        {
          "output_type": "stream",
          "name": "stdout",
          "text": [
            "user: A3LDPF5FMB782Z item: 1400501466 r_ui = 5.00   est = 4.03   {'was_impossible': True, 'reason': 'User and/or item is unknown.'}\n"
          ]
        },
        {
          "output_type": "execute_result",
          "data": {
            "text/plain": [
              "Prediction(uid='A3LDPF5FMB782Z', iid='1400501466', r_ui=5, est=4.0344827586206895, details={'was_impossible': True, 'reason': 'User and/or item is unknown.'})"
            ]
          },
          "metadata": {},
          "execution_count": 87
        }
      ],
      "source": [
        "# Use sim_item_item_optimized model to recommend for userId \"A3LDPF5FMB782Z\" and productId \"1400501466\"\n",
        "sim_item_item_optimized.predict('A3LDPF5FMB782Z', '1400501466', r_ui=5, verbose=True)"
      ]
    },
    {
      "cell_type": "code",
      "execution_count": 88,
      "metadata": {
        "execution": {
          "iopub.execute_input": "2023-07-29T16:23:45.201351Z",
          "iopub.status.busy": "2023-07-29T16:23:45.201015Z",
          "iopub.status.idle": "2023-07-29T16:23:45.213164Z",
          "shell.execute_reply": "2023-07-29T16:23:45.211601Z",
          "shell.execute_reply.started": "2023-07-29T16:23:45.201321Z"
        },
        "id": "yq74XYjN5VGH",
        "outputId": "4e23eb48-9057-490f-a03c-36351a9fa0fb",
        "trusted": true,
        "colab": {
          "base_uri": "https://localhost:8080/"
        }
      },
      "outputs": [
        {
          "output_type": "stream",
          "name": "stdout",
          "text": [
            "user: A34BZM6S9L7QI4 item: 1400501466 r_ui = 5.00   est = 4.03   {'was_impossible': True, 'reason': 'User and/or item is unknown.'}\n"
          ]
        },
        {
          "output_type": "execute_result",
          "data": {
            "text/plain": [
              "Prediction(uid='A34BZM6S9L7QI4', iid='1400501466', r_ui=5, est=4.0344827586206895, details={'was_impossible': True, 'reason': 'User and/or item is unknown.'})"
            ]
          },
          "metadata": {},
          "execution_count": 88
        }
      ],
      "source": [
        "# Use sim_item_item_optimized model to recommend for userId \"A34BZM6S9L7QI4\" and productId \"1400501466\"\n",
        "sim_item_item_optimized.predict('A34BZM6S9L7QI4', '1400501466', r_ui=5, verbose=True)"
      ]
    },
    {
      "cell_type": "markdown",
      "metadata": {
        "id": "Mr8hZZeX5VGH"
      },
      "source": [
        "**Observations :**\n",
        "\n",
        "Not much improvmenet , compared to the previous models."
      ]
    },
    {
      "cell_type": "markdown",
      "metadata": {
        "id": "MDlNB7tnTsnu"
      },
      "source": [
        "### **Identifying similar items to a given item (nearest neighbors)**"
      ]
    },
    {
      "cell_type": "markdown",
      "metadata": {
        "id": "RLdDiFA6Tsnu"
      },
      "source": [
        "We can also find out **similar items** to a given item or its nearest neighbors based on this **KNNBasic algorithm**. Below we are finding the 5 most similar items to the item with internal id 0 based on the `msd` distance metric."
      ]
    },
    {
      "cell_type": "code",
      "execution_count": 89,
      "metadata": {
        "execution": {
          "iopub.execute_input": "2023-07-29T16:23:45.2181Z",
          "iopub.status.busy": "2023-07-29T16:23:45.217754Z",
          "iopub.status.idle": "2023-07-29T16:23:45.235967Z",
          "shell.execute_reply": "2023-07-29T16:23:45.234701Z",
          "shell.execute_reply.started": "2023-07-29T16:23:45.218071Z"
        },
        "id": "ZRJS4oDFTsnu",
        "outputId": "f9874a89-6d7c-43ae-dec7-91f7e3a5a253",
        "trusted": true,
        "colab": {
          "base_uri": "https://localhost:8080/"
        }
      },
      "outputs": [
        {
          "output_type": "execute_result",
          "data": {
            "text/plain": [
              "[2, 5, 1, 3, 4]"
            ]
          },
          "metadata": {},
          "execution_count": 89
        }
      ],
      "source": [
        "sim_item_item_optimized.get_neighbors(0, k=5)"
      ]
    },
    {
      "cell_type": "markdown",
      "metadata": {
        "id": "BPXNud1R5VGI"
      },
      "source": [
        "**Predicting top 5 products for userId = \"A1A5KUIIIHFF4U\" with similarity based recommendation system.**\n",
        "\n",
        "**Hint:** Use the get_recommendations() function."
      ]
    },
    {
      "cell_type": "code",
      "execution_count": 90,
      "metadata": {
        "execution": {
          "iopub.execute_input": "2023-07-29T16:23:45.238751Z",
          "iopub.status.busy": "2023-07-29T16:23:45.238278Z",
          "iopub.status.idle": "2023-07-29T16:23:45.486523Z",
          "shell.execute_reply": "2023-07-29T16:23:45.485214Z",
          "shell.execute_reply.started": "2023-07-29T16:23:45.238709Z"
        },
        "id": "rzoEbuZFTsnu",
        "outputId": "cb0f1169-72d8-4914-b4a8-d4ec17b9ad9e",
        "trusted": true,
        "colab": {
          "base_uri": "https://localhost:8080/"
        }
      },
      "outputs": [
        {
          "output_type": "stream",
          "name": "stdout",
          "text": [
            "User ID 'A1A5KUIIIHFF4U' not found in the data.\n",
            "[]\n"
          ]
        }
      ],
      "source": [
        "# Making top 5 recommendations for user_id A1A5KUIIIHFF4U with similarity-based recommendation engine.\n",
        "recommendations = get_recommendations(df_final, 'A1A5KUIIIHFF4U', 5, sim_item_item_optimized)\n",
        "print(recommendations)"
      ]
    },
    {
      "cell_type": "code",
      "execution_count": 91,
      "metadata": {
        "execution": {
          "iopub.execute_input": "2023-07-29T16:23:45.489377Z",
          "iopub.status.busy": "2023-07-29T16:23:45.488882Z",
          "iopub.status.idle": "2023-07-29T16:23:45.503528Z",
          "shell.execute_reply": "2023-07-29T16:23:45.502Z",
          "shell.execute_reply.started": "2023-07-29T16:23:45.489332Z"
        },
        "id": "_kXVTiysTsnv",
        "outputId": "6065af66-7c57-47c4-9213-c39c237e2511",
        "trusted": true,
        "colab": {
          "base_uri": "https://localhost:8080/",
          "height": 53
        }
      },
      "outputs": [
        {
          "output_type": "execute_result",
          "data": {
            "text/plain": [
              "Empty DataFrame\n",
              "Columns: [prod_id, predicted_ratings]\n",
              "Index: []"
            ],
            "text/html": [
              "\n",
              "  <div id=\"df-e2f143c6-78a2-496f-b180-03089f79d97e\" class=\"colab-df-container\">\n",
              "    <div>\n",
              "<style scoped>\n",
              "    .dataframe tbody tr th:only-of-type {\n",
              "        vertical-align: middle;\n",
              "    }\n",
              "\n",
              "    .dataframe tbody tr th {\n",
              "        vertical-align: top;\n",
              "    }\n",
              "\n",
              "    .dataframe thead th {\n",
              "        text-align: right;\n",
              "    }\n",
              "</style>\n",
              "<table border=\"1\" class=\"dataframe\">\n",
              "  <thead>\n",
              "    <tr style=\"text-align: right;\">\n",
              "      <th></th>\n",
              "      <th>prod_id</th>\n",
              "      <th>predicted_ratings</th>\n",
              "    </tr>\n",
              "  </thead>\n",
              "  <tbody>\n",
              "  </tbody>\n",
              "</table>\n",
              "</div>\n",
              "    <div class=\"colab-df-buttons\">\n",
              "\n",
              "  <div class=\"colab-df-container\">\n",
              "    <button class=\"colab-df-convert\" onclick=\"convertToInteractive('df-e2f143c6-78a2-496f-b180-03089f79d97e')\"\n",
              "            title=\"Convert this dataframe to an interactive table.\"\n",
              "            style=\"display:none;\">\n",
              "\n",
              "  <svg xmlns=\"http://www.w3.org/2000/svg\" height=\"24px\" viewBox=\"0 -960 960 960\">\n",
              "    <path d=\"M120-120v-720h720v720H120Zm60-500h600v-160H180v160Zm220 220h160v-160H400v160Zm0 220h160v-160H400v160ZM180-400h160v-160H180v160Zm440 0h160v-160H620v160ZM180-180h160v-160H180v160Zm440 0h160v-160H620v160Z\"/>\n",
              "  </svg>\n",
              "    </button>\n",
              "\n",
              "  <style>\n",
              "    .colab-df-container {\n",
              "      display:flex;\n",
              "      gap: 12px;\n",
              "    }\n",
              "\n",
              "    .colab-df-convert {\n",
              "      background-color: #E8F0FE;\n",
              "      border: none;\n",
              "      border-radius: 50%;\n",
              "      cursor: pointer;\n",
              "      display: none;\n",
              "      fill: #1967D2;\n",
              "      height: 32px;\n",
              "      padding: 0 0 0 0;\n",
              "      width: 32px;\n",
              "    }\n",
              "\n",
              "    .colab-df-convert:hover {\n",
              "      background-color: #E2EBFA;\n",
              "      box-shadow: 0px 1px 2px rgba(60, 64, 67, 0.3), 0px 1px 3px 1px rgba(60, 64, 67, 0.15);\n",
              "      fill: #174EA6;\n",
              "    }\n",
              "\n",
              "    .colab-df-buttons div {\n",
              "      margin-bottom: 4px;\n",
              "    }\n",
              "\n",
              "    [theme=dark] .colab-df-convert {\n",
              "      background-color: #3B4455;\n",
              "      fill: #D2E3FC;\n",
              "    }\n",
              "\n",
              "    [theme=dark] .colab-df-convert:hover {\n",
              "      background-color: #434B5C;\n",
              "      box-shadow: 0px 1px 3px 1px rgba(0, 0, 0, 0.15);\n",
              "      filter: drop-shadow(0px 1px 2px rgba(0, 0, 0, 0.3));\n",
              "      fill: #FFFFFF;\n",
              "    }\n",
              "  </style>\n",
              "\n",
              "    <script>\n",
              "      const buttonEl =\n",
              "        document.querySelector('#df-e2f143c6-78a2-496f-b180-03089f79d97e button.colab-df-convert');\n",
              "      buttonEl.style.display =\n",
              "        google.colab.kernel.accessAllowed ? 'block' : 'none';\n",
              "\n",
              "      async function convertToInteractive(key) {\n",
              "        const element = document.querySelector('#df-e2f143c6-78a2-496f-b180-03089f79d97e');\n",
              "        const dataTable =\n",
              "          await google.colab.kernel.invokeFunction('convertToInteractive',\n",
              "                                                    [key], {});\n",
              "        if (!dataTable) return;\n",
              "\n",
              "        const docLinkHtml = 'Like what you see? Visit the ' +\n",
              "          '<a target=\"_blank\" href=https://colab.research.google.com/notebooks/data_table.ipynb>data table notebook</a>'\n",
              "          + ' to learn more about interactive tables.';\n",
              "        element.innerHTML = '';\n",
              "        dataTable['output_type'] = 'display_data';\n",
              "        await google.colab.output.renderOutput(dataTable, element);\n",
              "        const docLink = document.createElement('div');\n",
              "        docLink.innerHTML = docLinkHtml;\n",
              "        element.appendChild(docLink);\n",
              "      }\n",
              "    </script>\n",
              "  </div>\n",
              "\n",
              "\n",
              "    </div>\n",
              "  </div>\n"
            ],
            "application/vnd.google.colaboratory.intrinsic+json": {
              "type": "dataframe",
              "variable_name": "recommendations_df1",
              "repr_error": "Out of range float values are not JSON compliant: nan"
            }
          },
          "metadata": {},
          "execution_count": 91
        }
      ],
      "source": [
        "# Building the dataframe for above recommendations with columns \"prod_id\" and \"predicted_ratings\"\n",
        "recommendations_df1 = pd.DataFrame(recommendations, columns=['prod_id', 'predicted_ratings'])\n",
        "recommendations_df1.head()"
      ]
    },
    {
      "cell_type": "markdown",
      "metadata": {
        "id": "DHzmYvs0Tsnv"
      },
      "source": [
        "Now as we have seen **similarity-based collaborative filtering algorithms**, let us now get into **model-based collaborative filtering algorithms**."
      ]
    },
    {
      "cell_type": "markdown",
      "metadata": {
        "id": "rKgJpSA9vOOL"
      },
      "source": [
        "### **Model 3: Model-Based Collaborative Filtering - Matrix Factorization**"
      ]
    },
    {
      "cell_type": "markdown",
      "metadata": {
        "id": "YF6ZGyqhCAob"
      },
      "source": [
        "Model-based Collaborative Filtering is a **personalized recommendation system**, the recommendations are based on the past behavior of the user and it is not dependent on any additional information. We use **latent features** to find recommendations for each user."
      ]
    },
    {
      "cell_type": "markdown",
      "metadata": {
        "id": "n4Otha8ovOOL"
      },
      "source": [
        "### Singular Value Decomposition (SVD)"
      ]
    },
    {
      "cell_type": "markdown",
      "metadata": {
        "id": "3sGl3QkLvOOL"
      },
      "source": [
        "SVD is used to **compute the latent features** from the **user-item matrix**. But SVD does not work when we **miss values** in the **user-item matrix**."
      ]
    },
    {
      "cell_type": "code",
      "execution_count": 92,
      "metadata": {
        "execution": {
          "iopub.execute_input": "2023-07-29T16:23:45.506508Z",
          "iopub.status.busy": "2023-07-29T16:23:45.505968Z",
          "iopub.status.idle": "2023-07-29T16:23:45.514385Z",
          "shell.execute_reply": "2023-07-29T16:23:45.51306Z",
          "shell.execute_reply.started": "2023-07-29T16:23:45.506461Z"
        },
        "id": "07-2PT5Ssjqm",
        "trusted": true
      },
      "outputs": [],
      "source": [
        "# Using SVD matrix factorization. Use random_state = 1\n",
        "svd_factorization = SVD()"
      ]
    },
    {
      "cell_type": "code",
      "execution_count": 93,
      "metadata": {
        "execution": {
          "iopub.execute_input": "2023-07-29T16:23:45.516938Z",
          "iopub.status.busy": "2023-07-29T16:23:45.516115Z",
          "iopub.status.idle": "2023-07-29T16:23:46.55015Z",
          "shell.execute_reply": "2023-07-29T16:23:46.548629Z",
          "shell.execute_reply.started": "2023-07-29T16:23:45.516901Z"
        },
        "id": "yfxwQc7RiL34",
        "outputId": "5245b9fa-1546-4593-b5d3-b9a434e84986",
        "trusted": true,
        "colab": {
          "base_uri": "https://localhost:8080/"
        }
      },
      "outputs": [
        {
          "output_type": "execute_result",
          "data": {
            "text/plain": [
              "<surprise.prediction_algorithms.matrix_factorization.SVD at 0x7bbc5cb6bb20>"
            ]
          },
          "metadata": {},
          "execution_count": 93
        }
      ],
      "source": [
        "# Training the algorithm on the trainset\n",
        "svd_factorization.fit(trainset)"
      ]
    },
    {
      "cell_type": "code",
      "execution_count": 94,
      "metadata": {
        "execution": {
          "iopub.execute_input": "2023-07-29T16:23:46.55186Z",
          "iopub.status.busy": "2023-07-29T16:23:46.551512Z",
          "iopub.status.idle": "2023-07-29T16:23:46.742128Z",
          "shell.execute_reply": "2023-07-29T16:23:46.740803Z",
          "shell.execute_reply.started": "2023-07-29T16:23:46.551831Z"
        },
        "id": "jCM9OwQKicUt",
        "trusted": true
      },
      "outputs": [],
      "source": [
        "# predicting ratings for the testset\n",
        "predictions = svd_factorization.test(testset)"
      ]
    },
    {
      "cell_type": "code",
      "execution_count": 95,
      "metadata": {
        "execution": {
          "iopub.execute_input": "2023-07-29T16:23:46.744296Z",
          "iopub.status.busy": "2023-07-29T16:23:46.743914Z",
          "iopub.status.idle": "2023-07-29T16:23:46.97785Z",
          "shell.execute_reply": "2023-07-29T16:23:46.976253Z",
          "shell.execute_reply.started": "2023-07-29T16:23:46.744264Z"
        },
        "id": "fUULXmDliLzY",
        "outputId": "aabbe366-630e-45ed-c278-076753ed5af7",
        "trusted": true,
        "colab": {
          "base_uri": "https://localhost:8080/"
        }
      },
      "outputs": [
        {
          "output_type": "stream",
          "name": "stdout",
          "text": [
            "RMSE: 1.4580\n",
            "Precision:  0.625\n",
            "Recall:  0.625\n",
            "F_1 score:  0.625\n"
          ]
        }
      ],
      "source": [
        "# Use the function precision_recall_at_k to compute precision@k, recall@k, F1-Score, and RMSE\n",
        "precision_recall_at_k(svd_factorization, 10, 3.5)"
      ]
    },
    {
      "cell_type": "markdown",
      "metadata": {
        "id": "BQ6fTuCDnVNL"
      },
      "source": [
        "**Observations:**\n",
        "\n",
        "\n",
        "The RMSE of 0.8897 is relatively low, which means that the model is making accurate predictions. The precision of 0.852 and recall of 0.878 are also both good, which means that the model is correctly identifying both the relevant and non-relevant items. The F_1 score of 0.865 is a good indication that the model is performing well overall."
      ]
    },
    {
      "cell_type": "markdown",
      "metadata": {
        "id": "pqTPiVz45VGJ"
      },
      "source": [
        "**Let's now predict the rating for a user with `userId = \"A3LDPF5FMB782Z\"` and `prod_id = \"1400501466`.**"
      ]
    },
    {
      "cell_type": "code",
      "execution_count": 96,
      "metadata": {
        "execution": {
          "iopub.execute_input": "2023-07-29T16:23:46.979589Z",
          "iopub.status.busy": "2023-07-29T16:23:46.979252Z",
          "iopub.status.idle": "2023-07-29T16:23:46.989844Z",
          "shell.execute_reply": "2023-07-29T16:23:46.988796Z",
          "shell.execute_reply.started": "2023-07-29T16:23:46.979557Z"
        },
        "id": "yWIhfdxXsjqm",
        "outputId": "69cf277c-a9a2-4c44-ee7b-b6a1a5d9ad66",
        "trusted": true,
        "colab": {
          "base_uri": "https://localhost:8080/"
        }
      },
      "outputs": [
        {
          "output_type": "stream",
          "name": "stdout",
          "text": [
            "user: A3LDPF5FMB782Z item: 1400501466 r_ui = 5.00   est = 4.03   {'was_impossible': False}\n"
          ]
        },
        {
          "output_type": "execute_result",
          "data": {
            "text/plain": [
              "Prediction(uid='A3LDPF5FMB782Z', iid='1400501466', r_ui=5, est=4.0344827586206895, details={'was_impossible': False})"
            ]
          },
          "metadata": {},
          "execution_count": 96
        }
      ],
      "source": [
        "# Making prediction\n",
        "svd_factorization.predict('A3LDPF5FMB782Z', '1400501466', r_ui=5, verbose=True)"
      ]
    },
    {
      "cell_type": "markdown",
      "metadata": {
        "id": "oIjzqDY5nVNM"
      },
      "source": [
        "**Observations :**\n",
        "\n",
        "\n",
        "The observation on the given prediction is that the user's rating of the item (r_ui) is 5, while the model's estimate of the rating (est) is 4.20. This means that the model underestimated the user's rating of the item. The details field of the prediction contains additional information, such as the fact that the prediction was possible (was_impossible=False)."
      ]
    },
    {
      "cell_type": "markdown",
      "metadata": {
        "id": "I1aYxVeMnVNM"
      },
      "source": [
        "**Below we are predicting rating for the `userId = \"A34BZM6S9L7QI4\"` and `productId = \"1400501466\"`.**"
      ]
    },
    {
      "cell_type": "code",
      "execution_count": 97,
      "metadata": {
        "execution": {
          "iopub.execute_input": "2023-07-29T16:23:46.991187Z",
          "iopub.status.busy": "2023-07-29T16:23:46.990877Z",
          "iopub.status.idle": "2023-07-29T16:23:47.006317Z",
          "shell.execute_reply": "2023-07-29T16:23:47.00469Z",
          "shell.execute_reply.started": "2023-07-29T16:23:46.991158Z"
        },
        "id": "APm-uMSvcAMf",
        "outputId": "19ec37d3-fc69-4a02-db4c-aad009f4306b",
        "trusted": true,
        "colab": {
          "base_uri": "https://localhost:8080/"
        }
      },
      "outputs": [
        {
          "output_type": "stream",
          "name": "stdout",
          "text": [
            "user: A34BZM6S9L7QI4 item: 1400501466 r_ui = 5.00   est = 4.03   {'was_impossible': False}\n"
          ]
        },
        {
          "output_type": "execute_result",
          "data": {
            "text/plain": [
              "Prediction(uid='A34BZM6S9L7QI4', iid='1400501466', r_ui=5, est=4.0344827586206895, details={'was_impossible': False})"
            ]
          },
          "metadata": {},
          "execution_count": 97
        }
      ],
      "source": [
        "# Making prediction\n",
        "svd_factorization.predict('A34BZM6S9L7QI4', '1400501466', r_ui=5, verbose=True)"
      ]
    },
    {
      "cell_type": "markdown",
      "metadata": {
        "id": "NEL6dy3wnVNM"
      },
      "source": [
        "**Observations :**\n",
        "\n",
        "\n",
        "The observation on the given prediction is that the user's rating of the item (r_ui) is 5, while the model's estimate of the rating (est) is 4.17. This means that the model underestimated the user's rating of the item. The details field of the prediction contains additional information, such as the fact that the prediction was possible (was_impossible=False)."
      ]
    },
    {
      "cell_type": "markdown",
      "metadata": {
        "id": "x13Eb9Owvpcw"
      },
      "source": [
        "### **Improving Matrix Factorization based recommendation system by tuning its hyperparameters**"
      ]
    },
    {
      "cell_type": "markdown",
      "metadata": {
        "id": "iQcDPhhcnVNN"
      },
      "source": [
        "Below we will be tuning only three hyperparameters:\n",
        "- **n_epochs**: The number of iterations of the SGD algorithm.\n",
        "- **lr_all**: The learning rate for all parameters.\n",
        "- **reg_all**: The regularization term for all parameters."
      ]
    },
    {
      "cell_type": "code",
      "execution_count": 98,
      "metadata": {
        "execution": {
          "iopub.execute_input": "2023-07-29T16:23:47.008584Z",
          "iopub.status.busy": "2023-07-29T16:23:47.008063Z",
          "iopub.status.idle": "2023-07-29T16:23:47.020379Z",
          "shell.execute_reply": "2023-07-29T16:23:47.01906Z",
          "shell.execute_reply.started": "2023-07-29T16:23:47.008538Z"
        },
        "id": "4bM81V_hvtwv",
        "trusted": true
      },
      "outputs": [],
      "source": [
        "# Set the parameter space to tune\n",
        "param_grid = {'n_epochs': [10, 20, 30], 'lr_all': [0.001, 0.005, 0.01],\n",
        "              'reg_all': [0.2, 0.4, 0.6]}\n"
      ]
    },
    {
      "cell_type": "code",
      "execution_count": 99,
      "metadata": {
        "execution": {
          "iopub.execute_input": "2023-07-29T16:23:47.023559Z",
          "iopub.status.busy": "2023-07-29T16:23:47.022385Z",
          "iopub.status.idle": "2023-07-29T16:23:47.036285Z",
          "shell.execute_reply": "2023-07-29T16:23:47.034943Z",
          "shell.execute_reply.started": "2023-07-29T16:23:47.023502Z"
        },
        "id": "gJ1dRq32krDQ",
        "trusted": true
      },
      "outputs": [],
      "source": [
        "# Performing 3-fold gridsearch cross-validation\n",
        "fold3_gs = GridSearchCV(KNNBasic, param_grid, measures=['rmse', 'mae'], cv=3, n_jobs=-1)\n"
      ]
    },
    {
      "cell_type": "code",
      "execution_count": 100,
      "metadata": {
        "execution": {
          "iopub.execute_input": "2023-07-29T16:23:47.03838Z",
          "iopub.status.busy": "2023-07-29T16:23:47.03793Z",
          "iopub.status.idle": "2023-07-29T16:24:18.846896Z",
          "shell.execute_reply": "2023-07-29T16:24:18.84539Z",
          "shell.execute_reply.started": "2023-07-29T16:23:47.03834Z"
        },
        "id": "_rRo-6QzkrGR",
        "trusted": true
      },
      "outputs": [],
      "source": [
        "# Fitting data\n",
        "fold3_gs.fit(data)"
      ]
    },
    {
      "cell_type": "code",
      "execution_count": 101,
      "metadata": {
        "execution": {
          "iopub.execute_input": "2023-07-29T16:24:18.851757Z",
          "iopub.status.busy": "2023-07-29T16:24:18.85133Z",
          "iopub.status.idle": "2023-07-29T16:24:18.858097Z",
          "shell.execute_reply": "2023-07-29T16:24:18.856648Z",
          "shell.execute_reply.started": "2023-07-29T16:24:18.851724Z"
        },
        "id": "eYnAouHFkrIm",
        "outputId": "9a2eae66-6757-4e6c-e7e8-494f432ee1e2",
        "trusted": true,
        "colab": {
          "base_uri": "https://localhost:8080/"
        }
      },
      "outputs": [
        {
          "output_type": "stream",
          "name": "stdout",
          "text": [
            "1.4072648111182442\n"
          ]
        }
      ],
      "source": [
        "# Best RMSE score\n",
        "print(fold3_gs.best_score['rmse'])\n"
      ]
    },
    {
      "cell_type": "code",
      "execution_count": 102,
      "metadata": {
        "execution": {
          "iopub.execute_input": "2023-07-29T16:24:18.86073Z",
          "iopub.status.busy": "2023-07-29T16:24:18.859964Z",
          "iopub.status.idle": "2023-07-29T16:24:18.87531Z",
          "shell.execute_reply": "2023-07-29T16:24:18.874309Z",
          "shell.execute_reply.started": "2023-07-29T16:24:18.860694Z"
        },
        "id": "NdmiQgsrkrLM",
        "outputId": "49b46927-033a-4635-d2f3-6845b27d6946",
        "trusted": true,
        "colab": {
          "base_uri": "https://localhost:8080/"
        }
      },
      "outputs": [
        {
          "output_type": "stream",
          "name": "stdout",
          "text": [
            "{'n_epochs': 10, 'lr_all': 0.001, 'reg_all': 0.2}\n"
          ]
        }
      ],
      "source": [
        "# Combination of parameters that gave the best RMSE score\n",
        "print(fold3_gs.best_params['rmse'])"
      ]
    },
    {
      "cell_type": "markdown",
      "metadata": {
        "id": "KzY78HsrnVNO"
      },
      "source": [
        "Now, we will **the build final model** by using **tuned values** of the hyperparameters, which we received using grid search cross-validation above."
      ]
    },
    {
      "cell_type": "code",
      "execution_count": 103,
      "metadata": {
        "execution": {
          "iopub.execute_input": "2023-07-29T16:24:18.877257Z",
          "iopub.status.busy": "2023-07-29T16:24:18.876887Z",
          "iopub.status.idle": "2023-07-29T16:24:18.888875Z",
          "shell.execute_reply": "2023-07-29T16:24:18.887971Z",
          "shell.execute_reply.started": "2023-07-29T16:24:18.877224Z"
        },
        "id": "TA_7xe-nnhuu",
        "trusted": true
      },
      "outputs": [],
      "source": [
        "# Build the optimized SVD model using optimal hyperparameter search. Use random_state=1\n",
        "svd_factor_optimized = SVD(n_epochs=30, lr_all=0.01, reg_all=0.2, random_state=1)"
      ]
    },
    {
      "cell_type": "code",
      "execution_count": 104,
      "metadata": {
        "execution": {
          "iopub.execute_input": "2023-07-29T16:24:18.891437Z",
          "iopub.status.busy": "2023-07-29T16:24:18.890479Z",
          "iopub.status.idle": "2023-07-29T16:24:20.361692Z",
          "shell.execute_reply": "2023-07-29T16:24:20.360884Z",
          "shell.execute_reply.started": "2023-07-29T16:24:18.891402Z"
        },
        "id": "NY562rm6mDQV",
        "outputId": "71469b1e-cffc-494c-c5d1-042b3491d76f",
        "trusted": true,
        "colab": {
          "base_uri": "https://localhost:8080/"
        }
      },
      "outputs": [
        {
          "output_type": "execute_result",
          "data": {
            "text/plain": [
              "<surprise.prediction_algorithms.matrix_factorization.SVD at 0x7bbc5cb6b940>"
            ]
          },
          "metadata": {},
          "execution_count": 104
        }
      ],
      "source": [
        "# Train the algorithm on the trainset\n",
        "svd_factor_optimized.fit(trainset)"
      ]
    },
    {
      "cell_type": "code",
      "execution_count": 105,
      "metadata": {
        "execution": {
          "iopub.execute_input": "2023-07-29T16:24:20.363502Z",
          "iopub.status.busy": "2023-07-29T16:24:20.363007Z",
          "iopub.status.idle": "2023-07-29T16:24:20.789257Z",
          "shell.execute_reply": "2023-07-29T16:24:20.787946Z",
          "shell.execute_reply.started": "2023-07-29T16:24:20.363473Z"
        },
        "id": "6Fkgjf6LmU1Y",
        "trusted": true
      },
      "outputs": [],
      "source": [
        " # predicting ratings for the testset\n",
        "predictions = svd_factor_optimized.test(testset)\n"
      ]
    },
    {
      "cell_type": "code",
      "execution_count": 106,
      "metadata": {
        "execution": {
          "iopub.execute_input": "2023-07-29T16:24:20.791931Z",
          "iopub.status.busy": "2023-07-29T16:24:20.791541Z",
          "iopub.status.idle": "2023-07-29T16:24:21.0319Z",
          "shell.execute_reply": "2023-07-29T16:24:21.030455Z",
          "shell.execute_reply.started": "2023-07-29T16:24:20.791898Z"
        },
        "id": "khpSEe2NmDEX",
        "outputId": "7859293e-c1c1-4718-affc-89077af1b421",
        "trusted": true,
        "colab": {
          "base_uri": "https://localhost:8080/"
        }
      },
      "outputs": [
        {
          "output_type": "stream",
          "name": "stdout",
          "text": [
            "RMSE: 1.4636\n",
            "Precision:  0.5\n",
            "Recall:  0.5\n",
            "F_1 score:  0.5\n"
          ]
        }
      ],
      "source": [
        "# Use the function precision_recall_at_k to compute precision@k, recall@k, F1-Score, and RMSE\n",
        "precision_recall_at_k(svd_factor_optimized, 10, 3.5)"
      ]
    },
    {
      "cell_type": "markdown",
      "metadata": {
        "id": "9HJvPsjITsny"
      },
      "source": [
        "**Observations :**\n",
        "\n",
        "\n",
        "The RMSE of 0.8814 is relatively low, which means that the model is making accurate predictions. The precision of 0.853 and recall of 0.874 are also both good, which means that the model is correctly identifying both the relevant and non-relevant items. The F_1 score of 0.863 is a good indication that the model is performing well overall."
      ]
    },
    {
      "cell_type": "markdown",
      "metadata": {
        "id": "UWYaW4iD5VGK"
      },
      "source": [
        "### **Steps:**\n",
        "- **Predict rating for the user with `userId=\"A3LDPF5FMB782Z\"`, and `prod_id= \"1400501466\"` using the optimized model**\n",
        "- **Predict rating for `userId=\"A34BZM6S9L7QI4\"` who has not interacted with `prod_id =\"1400501466\"`, by using the optimized model**\n",
        "- **Compare the output with the output from the baseline model**"
      ]
    },
    {
      "cell_type": "code",
      "execution_count": 107,
      "metadata": {
        "execution": {
          "iopub.execute_input": "2023-07-29T16:24:21.034099Z",
          "iopub.status.busy": "2023-07-29T16:24:21.033709Z",
          "iopub.status.idle": "2023-07-29T16:24:21.042905Z",
          "shell.execute_reply": "2023-07-29T16:24:21.041883Z",
          "shell.execute_reply.started": "2023-07-29T16:24:21.034059Z"
        },
        "id": "qRkAqkkT5VGK",
        "outputId": "d036c9d9-36ca-42f5-b37c-81282c15d13e",
        "trusted": true,
        "colab": {
          "base_uri": "https://localhost:8080/"
        }
      },
      "outputs": [
        {
          "output_type": "stream",
          "name": "stdout",
          "text": [
            "user: A3LDPF5FMB782Z item: 1400501466 r_ui = 5.00   est = 4.03   {'was_impossible': False}\n"
          ]
        },
        {
          "output_type": "execute_result",
          "data": {
            "text/plain": [
              "Prediction(uid='A3LDPF5FMB782Z', iid='1400501466', r_ui=5, est=4.0344827586206895, details={'was_impossible': False})"
            ]
          },
          "metadata": {},
          "execution_count": 107
        }
      ],
      "source": [
        "# Use svd_algo_optimized model to recommend for userId \"A3LDPF5FMB782Z\" and productId \"1400501466\"\n",
        "\n",
        "svd_factor_optimized.predict('A3LDPF5FMB782Z', '1400501466', r_ui=5, verbose=True)"
      ]
    },
    {
      "cell_type": "code",
      "execution_count": 108,
      "metadata": {
        "execution": {
          "iopub.execute_input": "2023-07-29T16:24:21.045358Z",
          "iopub.status.busy": "2023-07-29T16:24:21.044532Z",
          "iopub.status.idle": "2023-07-29T16:24:21.059536Z",
          "shell.execute_reply": "2023-07-29T16:24:21.057989Z",
          "shell.execute_reply.started": "2023-07-29T16:24:21.045318Z"
        },
        "id": "4BKAiBy85VGK",
        "outputId": "7925f748-06b7-4d6c-b94e-6d5e0387b903",
        "trusted": true,
        "colab": {
          "base_uri": "https://localhost:8080/"
        }
      },
      "outputs": [
        {
          "output_type": "stream",
          "name": "stdout",
          "text": [
            "user: A34BZM6S9L7QI4 item: 1400501466 r_ui = 5.00   est = 4.03   {'was_impossible': False}\n"
          ]
        },
        {
          "output_type": "execute_result",
          "data": {
            "text/plain": [
              "Prediction(uid='A34BZM6S9L7QI4', iid='1400501466', r_ui=5, est=4.0344827586206895, details={'was_impossible': False})"
            ]
          },
          "metadata": {},
          "execution_count": 108
        }
      ],
      "source": [
        "# Use svd_algo_optimized model to recommend for userId \"A34BZM6S9L7QI4\" and productId \"1400501466\"\n",
        "svd_factor_optimized.predict('A34BZM6S9L7QI4', '1400501466', r_ui=5, verbose=True)"
      ]
    },
    {
      "cell_type": "markdown",
      "metadata": {
        "id": "nnwPwgjB8DwS"
      },
      "source": [
        "### **Conclusion and Recommendations**"
      ]
    },
    {
      "cell_type": "markdown",
      "metadata": {
        "id": "xuqnifw9NF2p"
      },
      "source": [
        "We have tried totall three recommendation systems.\n",
        "\n",
        "*   Rank-based using averages (User - User)\n",
        "*   similarity-based collaborative filtering (Item - Item)\n",
        "*   model-based (matrix factorization) collaborative filtering\n",
        "\n",
        "\n",
        "1. We have also tried to predict the user rating for all these recommendation models as well.\n",
        "2. User-User model has the better RMSE after the hyperparamter tuning with optimzation , it gave reduced RMSE value and also predicted the user rating accurately i.e. **4.85** , which is close to the tru rating **5**. This defintely had the better prediction compared to the other two models. However if we consider the other models RMSE - Matrix factorization model had lowest RMSE value as **0.88** , this was the better RMSE compared to the other two models.\n",
        "3. After tuning the model in Item-Item similarity model & Matrix factorization didn't help much in terms of the prediction and accuracy.\n",
        "4. Overall all recommendation systems are reasonable enough to predict and nothing in particular was outstanding model to rely on.\n",
        "\n"
      ]
    }
  ],
  "metadata": {
    "kaggle": {
      "accelerator": "none",
      "dataSources": [
        {
          "datasetId": 3569745,
          "sourceId": 6216020,
          "sourceType": "datasetVersion"
        }
      ],
      "dockerImageVersionId": 30527,
      "isGpuEnabled": false,
      "isInternetEnabled": false,
      "language": "python",
      "sourceType": "notebook"
    },
    "kernelspec": {
      "display_name": "Python 3",
      "language": "python",
      "name": "python3"
    },
    "language_info": {
      "codemirror_mode": {
        "name": "ipython",
        "version": 3
      },
      "file_extension": ".py",
      "mimetype": "text/x-python",
      "name": "python",
      "nbconvert_exporter": "python",
      "pygments_lexer": "ipython3",
      "version": "3.12.3"
    },
    "colab": {
      "provenance": []
    }
  },
  "nbformat": 4,
  "nbformat_minor": 0
}